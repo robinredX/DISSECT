{
 "cells": [
  {
   "cell_type": "code",
   "execution_count": 2,
   "metadata": {},
   "outputs": [],
   "source": [
    "%load_ext autoreload\n",
    "%autoreload 2"
   ]
  },
  {
   "cell_type": "code",
   "execution_count": 36,
   "metadata": {},
   "outputs": [],
   "source": [
    "import sys\n",
    "\n",
    "base_path = \"..\"\n",
    "sys.path.append(f\"{base_path}\")\n",
    "import pandas as pd\n",
    "import scanpy as sc\n",
    "import squidpy as sq\n",
    "import matplotlib.pyplot as plt\n",
    "import seaborn as sns\n",
    "import scipy\n",
    "import matplotlib\n",
    "import matplotlib as mpl\n",
    "from itertools import combinations\n",
    "from tqdm import tqdm\n",
    "\n",
    "from utils.gnn_utils import *\n",
    "from utils.utils import *"
   ]
  },
  {
   "cell_type": "code",
   "execution_count": 65,
   "metadata": {},
   "outputs": [],
   "source": [
    "experiment_name = \"experiment_mouse_st\"\n",
    "sc_path = \"../data/single-cell/Allenbrain_forSimulation_uniquect.h5ad\"\n",
    "st_path = \"../data/spatial/V1_Mouse_Brain_Sagittal_Anterior.h5ad\"\n",
    "\n",
    "# experiment_name = \"experiment_kidney_slideSeq_v2_105\"\n",
    "# # sc_path = \"../data/single-cell/kidney_slideSeq_v2_105.h5ad\"\n",
    "# st_path = (\n",
    "#     \"../data/spatial/simulations_kidney_slideSeq_v2/UMOD-KI.KI-4b_resolution105.h5ad\"\n",
    "# )"
   ]
  },
  {
   "cell_type": "code",
   "execution_count": 66,
   "metadata": {},
   "outputs": [],
   "source": [
    "experiment_dir = f\"{base_path}/experiments\"\n",
    "experiment_path = f\"{experiment_dir}/{experiment_name}\""
   ]
  },
  {
   "cell_type": "code",
   "execution_count": 67,
   "metadata": {},
   "outputs": [
    {
     "name": "stderr",
     "output_type": "stream",
     "text": [
      "/root/miniconda3/envs/dissect_spatial/lib/python3.8/site-packages/anndata/_core/anndata.py:1830: UserWarning: Variable names are not unique. To make them unique, call `.var_names_make_unique`.\n",
      "  utils.warn_names_duplicates(\"var\")\n"
     ]
    }
   ],
   "source": [
    "# sc_data = sc.read_h5ad(sc_path)\n",
    "\n",
    "st_data, X_real, X_real_train, X_sim, y_sim = load_data(\n",
    "    st_path=st_path,\n",
    "    gene_expr_path=f\"{experiment_path}/datasets\",\n",
    ")\n",
    "y_real = st_data.obs[st_data.obs.columns[2::]].to_numpy()\n",
    "y_real = st_data.obs[st_data.obs.columns[2::]]"
   ]
  },
  {
   "attachments": {},
   "cell_type": "markdown",
   "metadata": {},
   "source": [
    "## Analyze relationship between gene expression similarity and spatial distance"
   ]
  },
  {
   "attachments": {},
   "cell_type": "markdown",
   "metadata": {},
   "source": [
    "### Fist use celltype composition as proxy for gene expression similarity"
   ]
  },
  {
   "cell_type": "code",
   "execution_count": 7,
   "metadata": {},
   "outputs": [
    {
     "data": {
      "text/plain": [
       "AnnData object with n_obs × n_vars = 1803 × 18961\n",
       "    obs: 'row', 'col', 'blood vessel smooth muscle cell', 'endothelial cell', 'kidney collecting duct intercalated cell', 'kidney collecting duct principal cell', 'kidney distal convoluted tubule epithelial cell', 'kidney interstitial fibroblast', 'kidney loop of Henle thick ascending limb epithelial cell', 'kidney proximal convoluted tubule epithelial cell', 'leukocyte', 'macrophage', 'mesangial cell', 'podocyte'\n",
       "    uns: 'spatial'\n",
       "    obsm: 'spatial'"
      ]
     },
     "execution_count": 7,
     "metadata": {},
     "output_type": "execute_result"
    }
   ],
   "source": [
    "st_data"
   ]
  },
  {
   "cell_type": "code",
   "execution_count": 68,
   "metadata": {},
   "outputs": [],
   "source": [
    "coords = normalize_coords(st_data.obsm[\"spatial\"])"
   ]
  },
  {
   "cell_type": "code",
   "execution_count": 20,
   "metadata": {},
   "outputs": [],
   "source": [
    "celltype_abundances = st_data.obs[st_data.obs.columns[2::]].to_numpy()"
   ]
  },
  {
   "cell_type": "code",
   "execution_count": 69,
   "metadata": {},
   "outputs": [],
   "source": [
    "dist_mat = scipy.spatial.distance_matrix(coords, coords)"
   ]
  },
  {
   "cell_type": "code",
   "execution_count": 28,
   "metadata": {},
   "outputs": [],
   "source": [
    "celltype_distances = scipy.spatial.distance_matrix(celltype_abundances, celltype_abundances)"
   ]
  },
  {
   "cell_type": "code",
   "execution_count": 35,
   "metadata": {},
   "outputs": [],
   "source": [
    "celltype_distances = []\n",
    "for vec_1 in tqdm(celltype_abundances):\n",
    "    for vec_2 in celltype_abundances:\n",
    "        dist = scipy.spatial.distance.jensenshannon(vec_1, vec_2)\n",
    "        celltype_distances.append(dist)"
   ]
  },
  {
   "cell_type": "code",
   "execution_count": 39,
   "metadata": {},
   "outputs": [],
   "source": [
    "# analyze correlation between celltype distance and euclidean distance\n",
    "result = scipy.stats.pearsonr(dist_mat.flatten(), celltype_distances.flatten())"
   ]
  },
  {
   "cell_type": "code",
   "execution_count": null,
   "metadata": {},
   "outputs": [],
   "source": []
  },
  {
   "attachments": {},
   "cell_type": "markdown",
   "metadata": {},
   "source": [
    "### Consider the full expression profile"
   ]
  },
  {
   "cell_type": "code",
   "execution_count": 70,
   "metadata": {},
   "outputs": [
    {
     "name": "stderr",
     "output_type": "stream",
     "text": [
      "/root/miniconda3/envs/dissect_spatial/lib/python3.8/site-packages/anndata/_core/anndata.py:1830: UserWarning: Variable names are not unique. To make them unique, call `.var_names_make_unique`.\n",
      "  utils.warn_names_duplicates(\"var\")\n"
     ]
    }
   ],
   "source": [
    "sc.pp.filter_genes(st_data, min_cells=10)"
   ]
  },
  {
   "cell_type": "code",
   "execution_count": 71,
   "metadata": {},
   "outputs": [
    {
     "data": {
      "text/plain": [
       "AnnData object with n_obs × n_vars = 2695 × 17103\n",
       "    obs: 'in_tissue', 'array_row', 'array_col'\n",
       "    var: 'gene_ids', 'feature_types', 'genome', 'n_cells'\n",
       "    uns: 'spatial'\n",
       "    obsm: 'spatial'"
      ]
     },
     "execution_count": 71,
     "metadata": {},
     "output_type": "execute_result"
    }
   ],
   "source": [
    "st_data"
   ]
  },
  {
   "cell_type": "code",
   "execution_count": 72,
   "metadata": {},
   "outputs": [],
   "source": [
    "sc.pp.normalize_total(st_data, target_sum=1e4)\n",
    "sc.pp.log1p(st_data)"
   ]
  },
  {
   "cell_type": "code",
   "execution_count": 73,
   "metadata": {},
   "outputs": [],
   "source": [
    "# maybe scale the data\n",
    "# sc.pp.scale(st_data, max_value=10)\n",
    "sc.tl.pca(st_data, n_comps=50)"
   ]
  },
  {
   "cell_type": "code",
   "execution_count": 74,
   "metadata": {},
   "outputs": [],
   "source": [
    "pca_embeddings = st_data.obsm[\"X_pca\"]\n",
    "gene_expr_distances = scipy.spatial.distance_matrix(pca_embeddings, pca_embeddings)"
   ]
  },
  {
   "cell_type": "code",
   "execution_count": 75,
   "metadata": {},
   "outputs": [],
   "source": [
    "# analyze correlation between celltype distance and euclidean distance\n",
    "corr, pval = scipy.stats.pearsonr(dist_mat.flatten(), gene_expr_distances.flatten())"
   ]
  },
  {
   "cell_type": "code",
   "execution_count": 76,
   "metadata": {},
   "outputs": [
    {
     "data": {
      "image/png": "[encoded data removed]",
      "text/plain": [
       "<Figure size 500x500 with 1 Axes>"
      ]
     },
     "metadata": {},
     "output_type": "display_data"
    }
   ],
   "source": [
    "fig, ax = plt.subplots(figsize=(5, 5))\n",
    "ax.scatter(dist_mat.flatten(), gene_expr_distances.flatten(), s=1)\n",
    "ax.set_xlabel(\"euclidean distance\")\n",
    "ax.set_ylabel(\"gene expression distance in PCA space\")\n",
    "plt.title(\"euclidean distance vs gene expression distance per spot pair\")\n",
    "# show corr and pval as text\n",
    "ax.text(\n",
    "    0.05,\n",
    "    0.95,\n",
    "    f\"corr: {corr:.2f}, pval: {pval:.6f}\",\n",
    ")\n",
    "\n",
    "plt.savefig(f\"{base_path}/figures/euclidean_vs_gene_expr_distance_{experiment_name}.png\", dpi=300, bbox_inches=\"tight\")\n",
    "plt.show()\n"
   ]
  }
 ],
 "metadata": {
  "kernelspec": {
   "display_name": "dissect_spatial",
   "language": "python",
   "name": "python3"
  },
  "language_info": {
   "codemirror_mode": {
    "name": "ipython",
    "version": 3
   },
   "file_extension": ".py",
   "mimetype": "text/x-python",
   "name": "python",
   "nbconvert_exporter": "python",
   "pygments_lexer": "ipython3",
   "version": "3.8.16"
  },
  "orig_nbformat": 4
 },
 "nbformat": 4,
 "nbformat_minor": 2
}
