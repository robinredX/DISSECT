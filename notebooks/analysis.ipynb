{
 "cells": [
  {
   "cell_type": "code",
   "execution_count": null,
   "metadata": {},
   "outputs": [],
   "source": [
    "%load_ext autoreload\n",
    "%autoreload 2"
   ]
  },
  {
   "cell_type": "code",
   "execution_count": null,
   "metadata": {},
   "outputs": [],
   "source": [
    "import pyrootutils\n",
    "\n",
    "base_path = pyrootutils.setup_root(\n",
    "    search_from=\".\",\n",
    "    indicator=[\".gitignore\"],\n",
    "    project_root_env_var=True,  # set the PROJECT_ROOT environment variable to root directory\n",
    "    dotenv=True,  # load environment variables from .env if exists in root directory\n",
    "    pythonpath=True,  # add root directory to the PYTHONPATH (helps with imports)\n",
    "    cwd=True,  # change current working directory to the root directory (helps with filepaths)\n",
    ")\n",
    "import pandas as pd\n",
    "import scanpy as sc\n",
    "import squidpy as sq\n",
    "import matplotlib.pyplot as plt\n",
    "import seaborn as sns\n",
    "import scipy\n",
    "import matplotlib\n",
    "import matplotlib as mpl\n",
    "from itertools import combinations\n",
    "from tqdm import tqdm\n",
    "import h5py\n",
    "\n",
    "from src.data.utils import *\n",
    "from src.data.datamodules import SpatialDataModule\n",
    "from src.data.graph_utils import *\n",
    "from src.utils.data_paths import *"
   ]
  },
  {
   "cell_type": "code",
   "execution_count": null,
   "metadata": {},
   "outputs": [],
   "source": [
    "# load h5 file\n",
    "path = \"./data/spatial/anca_visium/test_sample\"\n",
    "adata = sc.read_visium(path)"
   ]
  },
  {
   "cell_type": "code",
   "execution_count": null,
   "metadata": {},
   "outputs": [],
   "source": [
    "coords = adata.obsm[\"spatial\"]\n",
    "norm_coords = normalize_coords(coords)\n",
    "dist_mat = distance_matrix(norm_coords, norm_coords)"
   ]
  },
  {
   "cell_type": "code",
   "execution_count": null,
   "metadata": {},
   "outputs": [],
   "source": [
    "check_graph_construction(coords, num_hops=1, radius=0.0275)"
   ]
  },
  {
   "cell_type": "code",
   "execution_count": null,
   "metadata": {},
   "outputs": [],
   "source": [
    "check_graph_construction(coords, num_hops=1, num_layers=1)"
   ]
  },
  {
   "cell_type": "code",
   "execution_count": null,
   "metadata": {},
   "outputs": [],
   "source": [
    "adata = sc.read_h5ad(\"../data/single-cell/kidney/Mature_Full_v3_harmonizedCelltypes.h5ad\")"
   ]
  },
  {
   "cell_type": "code",
   "execution_count": null,
   "metadata": {},
   "outputs": [],
   "source": [
    "adata.obs"
   ]
  },
  {
   "cell_type": "code",
   "execution_count": null,
   "metadata": {},
   "outputs": [],
   "source": []
  },
  {
   "cell_type": "code",
   "execution_count": null,
   "metadata": {},
   "outputs": [],
   "source": [
    "adata.obs[\"broad_celltype\"].unique()"
   ]
  },
  {
   "cell_type": "code",
   "execution_count": null,
   "metadata": {},
   "outputs": [],
   "source": [
    "adata.obs[\"cell_type\"].unique()"
   ]
  },
  {
   "cell_type": "code",
   "execution_count": null,
   "metadata": {},
   "outputs": [],
   "source": [
    "adata.write_h5ad(\"../data/spatial/anca_visium/test_sample.h5ad\")"
   ]
  },
  {
   "cell_type": "code",
   "execution_count": null,
   "metadata": {},
   "outputs": [],
   "source": [
    "adata.shape"
   ]
  },
  {
   "cell_type": "code",
   "execution_count": null,
   "metadata": {},
   "outputs": [],
   "source": [
    "sc.pl.spatial(adata, color=\"CD4\", size=1, show=False)"
   ]
  },
  {
   "cell_type": "code",
   "execution_count": null,
   "metadata": {},
   "outputs": [],
   "source": [
    "st_data_files = [\n",
    "    \"spatial/simulations_kidney_slideSeq_v2/UMOD-WT.WT-2a_resolution75.h5ad\",\n",
    "    \"spatial/simulations_kidney_slideSeq_v2/UMOD-KI.KI-4b_resolution105.h5ad\",\n",
    "    \"spatial/simulations_heart_seqFISH/embryo1_resolution0.11.h5ad\",\n",
    "    \"spatial/V1_Mouse_Brain_Sagittal_Anterior.h5ad\",\n",
    "    \"spatial/lymph_node/st_lymph.h5ad\",\n",
    "]\n",
    "experiment_dirs = [\n",
    "    \"experiments/experiment_kidney_slideSeq_v2_UMOD-WT.WT-2a_resolution75\",\n",
    "    \"experiments/experiment_kidney_slideSeq_v2_105\",\n",
    "    \"experiments/experiment_heart_seqFISH_embryo1_resolution0.11-new\",\n",
    "    \"experiments/experiment_mouse_st\",\n",
    "    \"experiments/experiment_lymph_node\",\n",
    "]\n",
    "sc_paths = [\n",
    "    \"./data/spatial/kidney_slideSeq_v2/UMOD-WT.WT-2a.h5ad\",\n",
    "    \"./data/spatial/kidney_slideSeq_v2_105.h5ad\",\n",
    "    \"./data/spatial/heart_seqFISH/embryo1.h5ad\",\n",
    "    \"./data/single-cell/Allenbrain_forSimulation_uniquect.h5ad\",\n",
    "    \"./data/single-cell/lymph_node/sc_lymph.h5ad\", \n",
    "]\n",
    "sc_data_files = [\n",
    "    \"spatial/kidney_slideSeq_v2/UMOD-WT.WT-2a.h5ad\",\n",
    "    \"spatial/kidney_slideSeq_v2_105.h5ad\",\n",
    "    \"spatial/heart_seqFISH/embryo1.h5ad\",\n",
    "    \"single-cell/Allenbrain_forSimulation_uniquect.h5ad\",\n",
    "    \"single-cell/lymph_node/sc_lymph.h5ad\",\n",
    "]\n",
    "sc_paths = [\"../data/\" + f for f in sc_data_files]\n",
    "st_paths = [\"../data/\" + f for f in st_data_files]\n",
    "experiment_paths = [\"../\" + dir for dir in experiment_dirs]"
   ]
  },
  {
   "cell_type": "code",
   "execution_count": null,
   "metadata": {},
   "outputs": [],
   "source": [
    "st_paths = [\n",
    "    \"./data/spatial/simulations_kidney_slideSeq_v2/UMOD-KI.KI-4b_resolution105.h5ad\",\n",
    "    \"./data/spatial/simulations_kidney_slideSeq_v2/UMOD-WT.WT-2a_resolution75.h5ad\",\n",
    "    \"./data/spatial/simulations_heart_seqFISH/embryo1_resolution0.11.h5ad\",\n",
    "    \"./data/spatial/simulations_heart_seqFISH/embryo2_resolution0.11.h5ad\",\n",
    "    \"./data/spatial/simulations_heart_seqFISH/embryo3_resolution0.11.h5ad\",\n",
    "    \"./data/spatial/lymph_node/st_lymph.h5ad\",\n",
    "    \"./data/spatial/V1_Mouse_Brain_Sagittal_Anterior.h5ad\",\n",
    "]\n",
    "sc_paths = [\n",
    "    \"./data/spatial/kidney_slideSeq_v2/UMOD-KI.KI-4b.h5ad\",\n",
    "    \"./data/spatial/kidney_slideSeq_v2/UMOD-WT.WT-2a.h5ad\",\n",
    "    \"./data/spatial/heart_seqFISH/embryo1.h5ad\",\n",
    "    \"./data/spatial/heart_seqFISH/embryo2.h5ad\",\n",
    "    \"./data/spatial/heart_seqFISH/embryo3.h5ad\",\n",
    "    \"./data/single-cell/lymph_node/sc_lymph.h5ad\",\n",
    "    \"./data/single-cell/Allenbrain_forSimulation_uniquect.h5ad\",\n",
    "]"
   ]
  },
  {
   "attachments": {},
   "cell_type": "markdown",
   "metadata": {},
   "source": [
    "## Visualize datasets"
   ]
  },
  {
   "cell_type": "code",
   "execution_count": null,
   "metadata": {},
   "outputs": [],
   "source": [
    "idx = -1\n",
    "sc_data = sc.read_h5ad(sc_paths[idx])\n",
    "sc_data.obs[\"Celltype\"].value_counts().sum()"
   ]
  },
  {
   "cell_type": "code",
   "execution_count": null,
   "metadata": {},
   "outputs": [],
   "source": [
    "idx = 5\n",
    "celltype = \"Cardiomyocytes\"\n",
    "celltype_col = \"celltype_mapped_refined\"\n",
    "gene_name = \"CD4\"\n",
    "st_path = st_paths[idx]\n",
    "sc_path = sc_paths[idx]\n",
    "st_data = sc.read_h5ad(st_path)\n",
    "sc_data = sc.read_h5ad(sc_path)\n",
    "# sc_data.obs[celltype] = (sc_data.obs[celltype_col] == celltype).astype(int)\n",
    "\n",
    "fig, axs = plt.subplots(1, 1, figsize=(5, 5), layout=\"tight\")\n",
    "sc.pl.spatial(st_data, color=gene_name, show=False, ax=axs)\n",
    "# sc.pl.spatial(sc_data, color=celltype, show=False, ax=axs[1])\n",
    "name = st_path.split(\"/\")[-1].split(\".\")[0]\n",
    "plt.savefig(f\"./figures/datasets/{name}\", dpi=200, bbox_inches=\"tight\")"
   ]
  },
  {
   "cell_type": "code",
   "execution_count": null,
   "metadata": {},
   "outputs": [],
   "source": [
    "st_data"
   ]
  },
  {
   "cell_type": "code",
   "execution_count": null,
   "metadata": {},
   "outputs": [],
   "source": [
    "sc_data"
   ]
  },
  {
   "cell_type": "code",
   "execution_count": null,
   "metadata": {},
   "outputs": [],
   "source": [
    "st_path = st_paths[0]\n",
    "sc_path = sc_paths[0]\n",
    "experiment_path = experiment_paths[0]"
   ]
  },
  {
   "cell_type": "code",
   "execution_count": null,
   "metadata": {},
   "outputs": [],
   "source": [
    "sc.read_h5ad(st_path)"
   ]
  },
  {
   "attachments": {},
   "cell_type": "markdown",
   "metadata": {},
   "source": [
    "## Number of neighbors per radius for each dataset"
   ]
  },
  {
   "cell_type": "code",
   "execution_count": null,
   "metadata": {},
   "outputs": [],
   "source": [
    "st_paths = [f\"./data/{path}\" for path in st_data_files]"
   ]
  },
  {
   "cell_type": "code",
   "execution_count": null,
   "metadata": {},
   "outputs": [],
   "source": [
    "st_data = sc.read_h5ad(st_paths[5])\n",
    "coords = st_data.obsm[\"spatial\"]\n",
    "\n",
    "norm_coords, dist_mat, adj_mat = construct_spatial_graph(coords)\n",
    "\n",
    "mean_first_dist = np.mean(np.sort(dist_mat, axis=1)[:, 1])\n",
    "print(f\"Mean distance to nearest neighbor: {mean_first_dist:.5f}\")\n",
    "np.sort(dist_mat, axis=1)[:, 0:6]\n"
   ]
  },
  {
   "cell_type": "code",
   "execution_count": null,
   "metadata": {},
   "outputs": [],
   "source": [
    "coords.max(axis=0) - coords.min(axis=0)"
   ]
  },
  {
   "cell_type": "code",
   "execution_count": null,
   "metadata": {},
   "outputs": [],
   "source": [
    "print(coords.max(axis=0))\n",
    "print(coords.min(axis=0))"
   ]
  },
  {
   "cell_type": "code",
   "execution_count": null,
   "metadata": {},
   "outputs": [],
   "source": [
    "nn_dists = []\n",
    "for st_path in st_paths:\n",
    "    st_data = sc.read_h5ad(st_path)\n",
    "    coords = st_data.obsm[\"spatial\"]\n",
    "    norm_coords = normalize_coords(coords)\n",
    "    dist_mat = distance_matrix(norm_coords, norm_coords)\n",
    "    mean_first_dist = np.mean(np.sort(dist_mat, axis=1)[:, 1])\n",
    "    print(coords.max(axis=0))\n",
    "    print(coords.min(axis=0))\n",
    "    print(f\"Mean distance to nearest neighbor: {mean_first_dist:.5f}\")\n",
    "    if mean_first_dist < 0.02:\n",
    "        nn_dists.append(mean_first_dist)\n",
    "    # np.sort(dist_mat, axis=1)[:, 0:6]"
   ]
  },
  {
   "cell_type": "code",
   "execution_count": null,
   "metadata": {},
   "outputs": [],
   "source": [
    "np.mean(nn_dists)"
   ]
  },
  {
   "cell_type": "code",
   "execution_count": null,
   "metadata": {},
   "outputs": [],
   "source": [
    "st_data.uns[\"spatial\"][\"V1_Human_Lymph_Node\"][\"scalefactors\"]"
   ]
  },
  {
   "cell_type": "code",
   "execution_count": null,
   "metadata": {},
   "outputs": [],
   "source": [
    "sc.read_h5ad(st_paths[-1]).obsm[\"spatial\"]"
   ]
  },
  {
   "cell_type": "code",
   "execution_count": null,
   "metadata": {},
   "outputs": [],
   "source": [
    "radii = [0.0001, 0.01, 0.02, 0.03, 0.04, 0.05]"
   ]
  },
  {
   "cell_type": "code",
   "execution_count": null,
   "metadata": {},
   "outputs": [],
   "source": [
    "avg_degrees = []\n",
    "radius_list = []\n",
    "st_path_list = []\n",
    "for st_path in st_paths[0::]:\n",
    "    st_data = load_spatial_data(st_path=st_path)\n",
    "    print(f\"Loaded {st_path}\")\n",
    "    for radius in radii:\n",
    "        # get average num neighbors for radius\n",
    "        avg_degree, graph = check_graph_construction(\n",
    "            st_data.obsm[\"spatial\"], radius=radius, num_hops=1, draw=False, verbose=False\n",
    "        )\n",
    "        print(f\"Radius: {radius}, Avg degree: {avg_degree}\")\n",
    "        avg_degrees.append(avg_degree)\n",
    "        radius_list.append(radius)\n",
    "        st_path_list.append(st_path.split(\"/\")[-1])"
   ]
  },
  {
   "cell_type": "code",
   "execution_count": null,
   "metadata": {},
   "outputs": [],
   "source": [
    "# combine everything into a dataframe\n",
    "df = pd.DataFrame(\n",
    "    {\n",
    "        \"radius\": radius_list,\n",
    "        \"avg_degree\": avg_degrees,\n",
    "        \"st_path\": st_path_list,\n",
    "    }\n",
    ")\n",
    "# plot with seaborn lineplot\n",
    "# set style paper\n",
    "mpl.style.use(\"seaborn-paper\")\n",
    "sns.lineplot(data=df, x=\"radius\", y=\"avg_degree\", hue=\"st_path\")\n",
    "# change legend title\n",
    "plt.legend(title=\"Dataset\")\n",
    "plt.xlabel(\"Radius\")\n",
    "plt.ylabel(\"Average degree\")\n",
    "plt.grid(True)\n",
    "\n",
    "plt.savefig(\"../figures/avg_degree_vs_radius.png\", dpi=200, bbox_inches=\"tight\")\n",
    "plt.show()"
   ]
  },
  {
   "cell_type": "code",
   "execution_count": null,
   "metadata": {},
   "outputs": [],
   "source": [
    "st_data = load_spatial_data(st_path=st_path)\n",
    "X_real, X_real_train, X_sim, y_sim = load_prepared_data(experiment_path)\n",
    "\n",
    "# sc_data = sc.read_h5ad(sc_path)\n",
    "y_real = st_data.obs[st_data.obs.columns[2::]].to_numpy()\n",
    "y_real = st_data.obs[st_data.obs.columns[2::]]\n",
    "sc_data = sc.read_h5ad(f\"{sc_path}\")"
   ]
  },
  {
   "attachments": {},
   "cell_type": "markdown",
   "metadata": {},
   "source": [
    "## Relationship between latent dist and cell proportions"
   ]
  },
  {
   "cell_type": "code",
   "execution_count": null,
   "metadata": {},
   "outputs": [],
   "source": [
    "# perform pca on st_data and on simulated data\n",
    "for st_path, sc_path, experiment_path in zip(st_paths, sc_paths, experiment_paths):\n",
    "    st_data = load_spatial_data(st_path=st_path)\n",
    "    st_data.var_names_make_unique()\n",
    "    X_real, X_real_train, X_sim, y_sim = load_prepared_data(experiment_path)\n",
    "    # sc_data = sc.read_h5ad(sc_path)\n",
    "    y_real = st_data.obs[st_data.obs.columns[2::]].to_numpy()\n",
    "    y_real_df = st_data.obs[st_data.obs.columns[2::]]\n"
   ]
  },
  {
   "attachments": {},
   "cell_type": "markdown",
   "metadata": {},
   "source": [
    "## Further analysis"
   ]
  },
  {
   "cell_type": "code",
   "execution_count": null,
   "metadata": {},
   "outputs": [],
   "source": [
    "sc_data.obs"
   ]
  },
  {
   "cell_type": "code",
   "execution_count": null,
   "metadata": {},
   "outputs": [],
   "source": [
    "celltype = \"endothelial cell\"\n",
    "celltype = \"kidney proximal convoluted tubule epithelial cell\""
   ]
  },
  {
   "cell_type": "code",
   "execution_count": null,
   "metadata": {},
   "outputs": [],
   "source": [
    "# get max celltypes for spatial dat\n",
    "st_data.obs[\"celltype\"] = y_real.idxmax(axis=1)"
   ]
  },
  {
   "cell_type": "code",
   "execution_count": null,
   "metadata": {},
   "outputs": [],
   "source": [
    "sc.pl.spatial(st_data, color=celltype, show=False)\n",
    "plt.savefig(f\"{base_path}/figures/grid_slideseq.png\", dpi=300, bbox_inches=\"tight\")"
   ]
  },
  {
   "cell_type": "code",
   "execution_count": null,
   "metadata": {},
   "outputs": [],
   "source": [
    "sc.pl.spatial(sc_data, color=celltype, show=False)\n",
    "plt.savefig(f\"{base_path}/figures/original_slideseq.png\", dpi=300, bbox_inches=\"tight\")"
   ]
  },
  {
   "attachments": {},
   "cell_type": "markdown",
   "metadata": {},
   "source": [
    "## Analyze relationship between gene expression similarity and spatial distance"
   ]
  },
  {
   "attachments": {},
   "cell_type": "markdown",
   "metadata": {},
   "source": [
    "### Fist use celltype composition as proxy for gene expression similarity"
   ]
  },
  {
   "cell_type": "code",
   "execution_count": null,
   "metadata": {},
   "outputs": [],
   "source": [
    "st_data"
   ]
  },
  {
   "cell_type": "code",
   "execution_count": null,
   "metadata": {},
   "outputs": [],
   "source": [
    "coords = normalize_coords(st_data.obsm[\"spatial\"])"
   ]
  },
  {
   "cell_type": "code",
   "execution_count": null,
   "metadata": {},
   "outputs": [],
   "source": [
    "celltype_abundances = st_data.obs[st_data.obs.columns[2::]].to_numpy()"
   ]
  },
  {
   "cell_type": "code",
   "execution_count": null,
   "metadata": {},
   "outputs": [],
   "source": [
    "dist_mat = scipy.spatial.distance_matrix(coords, coords)"
   ]
  },
  {
   "cell_type": "code",
   "execution_count": null,
   "metadata": {},
   "outputs": [],
   "source": [
    "celltype_distances = scipy.spatial.distance_matrix(\n",
    "    celltype_abundances, celltype_abundances\n",
    ")"
   ]
  },
  {
   "cell_type": "code",
   "execution_count": null,
   "metadata": {},
   "outputs": [],
   "source": [
    "celltype_distances = []\n",
    "for vec_1 in tqdm(celltype_abundances):\n",
    "    for vec_2 in celltype_abundances:\n",
    "        dist = scipy.spatial.distance.jensenshannon(vec_1, vec_2)\n",
    "        celltype_distances.append(dist)"
   ]
  },
  {
   "cell_type": "code",
   "execution_count": null,
   "metadata": {},
   "outputs": [],
   "source": [
    "# analyze correlation between celltype distance and euclidean distance\n",
    "result = scipy.stats.pearsonr(dist_mat.flatten(), celltype_distances.flatten())"
   ]
  },
  {
   "cell_type": "code",
   "execution_count": null,
   "metadata": {},
   "outputs": [],
   "source": []
  },
  {
   "attachments": {},
   "cell_type": "markdown",
   "metadata": {},
   "source": [
    "### Consider the full expression profile"
   ]
  },
  {
   "cell_type": "code",
   "execution_count": null,
   "metadata": {},
   "outputs": [],
   "source": [
    "sc.pp.filter_genes(st_data, min_cells=10)"
   ]
  },
  {
   "cell_type": "code",
   "execution_count": null,
   "metadata": {},
   "outputs": [],
   "source": [
    "st_data"
   ]
  },
  {
   "cell_type": "code",
   "execution_count": null,
   "metadata": {},
   "outputs": [],
   "source": [
    "sc.pp.normalize_total(st_data, target_sum=1e4)\n",
    "sc.pp.log1p(st_data)"
   ]
  },
  {
   "cell_type": "code",
   "execution_count": null,
   "metadata": {},
   "outputs": [],
   "source": [
    "# maybe scale the data\n",
    "# sc.pp.scale(st_data, max_value=10)\n",
    "sc.tl.pca(st_data, n_comps=50)"
   ]
  },
  {
   "cell_type": "code",
   "execution_count": null,
   "metadata": {},
   "outputs": [],
   "source": [
    "pca_embeddings = st_data.obsm[\"X_pca\"]\n",
    "gene_expr_distances = scipy.spatial.distance_matrix(pca_embeddings, pca_embeddings)"
   ]
  },
  {
   "cell_type": "code",
   "execution_count": null,
   "metadata": {},
   "outputs": [],
   "source": [
    "# analyze correlation between celltype distance and euclidean distance\n",
    "corr, pval = scipy.stats.pearsonr(dist_mat.flatten(), gene_expr_distances.flatten())"
   ]
  },
  {
   "cell_type": "code",
   "execution_count": null,
   "metadata": {},
   "outputs": [],
   "source": [
    "fig, ax = plt.subplots(figsize=(5, 5))\n",
    "ax.scatter(dist_mat.flatten(), gene_expr_distances.flatten(), s=1)\n",
    "ax.set_xlabel(\"euclidean distance\")\n",
    "ax.set_ylabel(\"gene expression distance in PCA space\")\n",
    "plt.title(\"euclidean distance vs gene expression distance per spot pair\")\n",
    "# show corr and pval as text\n",
    "ax.text(\n",
    "    0.05,\n",
    "    0.95,\n",
    "    f\"corr: {corr:.2f}, pval: {pval:.6f}\",\n",
    ")\n",
    "\n",
    "plt.savefig(\n",
    "    f\"{base_path}/figures/euclidean_vs_gene_expr_distance_{experiment_name}.png\",\n",
    "    dpi=300,\n",
    "    bbox_inches=\"tight\",\n",
    ")\n",
    "plt.show()"
   ]
  }
 ],
 "metadata": {
  "kernelspec": {
   "display_name": "dissect_spatial",
   "language": "python",
   "name": "python3"
  },
  "language_info": {
   "codemirror_mode": {
    "name": "ipython",
    "version": 3
   },
   "file_extension": ".py",
   "mimetype": "text/x-python",
   "name": "python",
   "nbconvert_exporter": "python",
   "pygments_lexer": "ipython3",
   "version": "3.8.16"
  },
  "orig_nbformat": 4,
  "vscode": {
   "interpreter": {
    "hash": "f49dfde4eb06c0a3671c2401bd6b6f73cacae937d3de5334273372658b299ab4"
   }
  }
 },
 "nbformat": 4,
 "nbformat_minor": 2
}
