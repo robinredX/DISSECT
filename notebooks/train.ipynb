{
 "cells": [
  {
   "cell_type": "code",
   "execution_count": null,
   "metadata": {},
   "outputs": [],
   "source": [
    "%load_ext autoreload\n",
    "%autoreload 2"
   ]
  },
  {
   "cell_type": "code",
   "execution_count": null,
   "metadata": {},
   "outputs": [],
   "source": [
    "import pyrootutils\n",
    "\n",
    "base_path = pyrootutils.setup_root(\n",
    "    search_from=\".\",\n",
    "    indicator=[\".gitignore\"],\n",
    "    project_root_env_var=True,  # set the PROJECT_ROOT environment variable to root directory\n",
    "    dotenv=True,  # load environment variables from .env if exists in root directory\n",
    "    pythonpath=True,  # add root directory to the PYTHONPATH (helps with imports)\n",
    "    cwd=True,  # change current working directory to the root directory (helps with filepaths)\n",
    ")\n",
    "import matplotlib.pyplot as plt\n",
    "import numpy as np\n",
    "from pytorch_lightning.utilities.model_summary import ModelSummary\n",
    "import wandb\n",
    "import copy\n",
    "import pandas as pd\n",
    "from omegaconf import DictConfig\n",
    "from omegaconf import OmegaConf\n",
    "from hydra import initialize, initialize_config_module, initialize_config_dir, compose\n",
    "import hydra\n",
    "from hydra.core.hydra_config import HydraConfig\n",
    "from hydra.core.utils import _flush_loggers, configure_log\n",
    "\n",
    "from src.data.datasets import *\n",
    "from src.data.utils import *\n",
    "from src.utils.wandb import *\n",
    "from src.utils.config_utils import *\n",
    "from src.utils.experiment import run_experiment\n",
    "# from src.utils.data_paths_valid import *\n",
    "from src.utils.data_paths_anca import *\n",
    "\n",
    "\n",
    "from torch_geometric.nn.resolver import (\n",
    "    activation_resolver,\n",
    "    normalization_resolver,\n",
    ")\n",
    "from torch_geometric.nn import GCNConv, GCN, MLP, TransformerConv, GATv2Conv, GAT\n",
    "\n",
    "\n",
    "\n",
    "\n",
    "# ignore all warnings\n",
    "import warnings\n",
    "\n",
    "warnings.filterwarnings(\"ignore\")\n",
    "\n",
    "plt.rcParams[\"figure.dpi\"] = 80"
   ]
  },
  {
   "attachments": {},
   "cell_type": "markdown",
   "metadata": {},
   "source": [
    "## Define data paths"
   ]
  },
  {
   "cell_type": "code",
   "execution_count": null,
   "metadata": {},
   "outputs": [],
   "source": [
    "st_paths, experiment_paths = get_paths_for_training(\n",
    "    st_data_files,\n",
    "    sc_data_files,\n",
    "    celltype_cols=celltype_cols,\n",
    "    extra_settings_sim=extra_settings_sim,\n",
    "    extra_settings_prep=extra_settings_prep,\n",
    "    use_old_experiment_paths=True,\n",
    "    experiment_dirs=experiment_dirs,\n",
    ")\n",
    "# st_paths, experiment_paths\n"
   ]
  },
  {
   "cell_type": "code",
   "execution_count": null,
   "metadata": {},
   "outputs": [],
   "source": [
    "experiment_paths"
   ]
  },
  {
   "attachments": {},
   "cell_type": "markdown",
   "metadata": {},
   "source": [
    "## Setup experiment config"
   ]
  },
  {
   "attachments": {},
   "cell_type": "markdown",
   "metadata": {},
   "source": [
    "### Load default config"
   ]
  },
  {
   "cell_type": "code",
   "execution_count": null,
   "metadata": {},
   "outputs": [],
   "source": [
    "experiment_name = None\n",
    "# experiment_name = \"hybrid\"\n",
    "experiment_name = \"multi_channel\"\n",
    "if experiment_name is not None:\n",
    "    overrides = [f\"experiment={experiment_name}\"]\n",
    "else:\n",
    "    overrides = []\n",
    "\n",
    "hydra.core.global_hydra.GlobalHydra.instance().clear()\n",
    "# import GlobalHydra\n",
    "\n",
    "config_path = \"../configs\"\n",
    "config_name = \"train.yaml\"\n",
    "\n",
    "initialize(version_base=\"1.3\", config_path=config_path)\n",
    "config = compose(\n",
    "    config_name=config_name,\n",
    "    overrides=overrides,\n",
    "    return_hydra_config=True,\n",
    ")\n",
    "HydraConfig.instance().set_config(config)\n",
    "OmegaConf.set_struct(config, False)\n",
    "del config[\"hydra\"]\n",
    "config.experiment = experiment_name\n",
    "# print_config(config)"
   ]
  },
  {
   "attachments": {},
   "cell_type": "markdown",
   "metadata": {},
   "source": [
    "### Load config from previous experiment"
   ]
  },
  {
   "cell_type": "code",
   "execution_count": null,
   "metadata": {},
   "outputs": [],
   "source": [
    "# run_name = \"northern-river-217\"\n",
    "run_name = \"fiery-music-355\"\n",
    "project = \"dissect-spatial\"\n",
    "\n",
    "run_name = \"electric-field-1\"\n",
    "run_name = \"eager-wind-245\"\n",
    "project = \"multi-channel-gnn\"\n",
    "\n",
    "config = get_run_config(run_name, project=project)\n",
    "# run_name = \"electric-sweep-37\"\n",
    "# # run_name = \"swift-sweep-658\"\n",
    "# config = get_run_config(run_name, project=\"DISSECT-src\")\n",
    "config = convert_wandb_to_dict_config(config)\n",
    "config.experiment = \"multi_channel\""
   ]
  },
  {
   "attachments": {},
   "cell_type": "markdown",
   "metadata": {},
   "source": [
    "### Set custom values"
   ]
  },
  {
   "attachments": {},
   "cell_type": "markdown",
   "metadata": {},
   "source": [
    "#### Modify network architecture"
   ]
  },
  {
   "cell_type": "code",
   "execution_count": null,
   "metadata": {},
   "outputs": [],
   "source": [
    "# config.net.latent_dim = 64\n",
    "# # config.net.encoder_kwargs.fusion = \"gating\"\n",
    "# # config.net.encoder_kwargs.fusion = \"concat_skip\"\n",
    "# config.net.encoder_kwargs.fusion = \"concat\"\n",
    "# config.net.encoder_kwargs.lin_channel = True\n",
    "# config.net.encoder_kwargs.num_heads = 4\n",
    "# config.net.encoder_kwargs.num_layers = 1\n",
    "# config.net.encoder_kwargs.use_ffn = False\n",
    "# config.net.encoder_kwargs.use_pos = False\n",
    "# config.net.encoder_kwargs.plain_last = False\n",
    "# # config.net.use_pos = True\n",
    "# config.net.encoder_kwargs.use_sparse = False\n",
    "# config.net.decoder_kwargs.norm = None\n",
    "# config.net.encoder_kwargs.norm = None\n",
    "# config.net.encoder_kwargs.norm_last = False\n",
    "# try:\n",
    "#     del config.net.encoder_kwargs.knn\n",
    "#     del config.net.encoder_kwargs.cosine\n",
    "#     # del config.net.encoder_kwargs.num_heads\n",
    "# except:\n",
    "#     pass\n",
    "# config.net.encoder_kwargs.spatial_channel_kwargs.num_layers = 2\n",
    "# config.net.encoder_kwargs.spatial_channel_kwargs.activation = \"elu\"\n",
    "# config.net.encoder_kwargs.spatial_channel_kwargs.back_to_latent = True\n",
    "# config.net.encoder_kwargs.spatial_channel_kwargs.conv_type = \"gcn\""
   ]
  },
  {
   "cell_type": "code",
   "execution_count": null,
   "metadata": {},
   "outputs": [],
   "source": [
    "print_config(config.net)"
   ]
  },
  {
   "attachments": {},
   "cell_type": "markdown",
   "metadata": {},
   "source": [
    "#### Modify training parameters"
   ]
  },
  {
   "cell_type": "code",
   "execution_count": null,
   "metadata": {},
   "outputs": [],
   "source": [
    "# config.data.radius = 0.04\n",
    "# config.data.use_rctd_genes = True\n",
    "# config.data.with_platform_effects = True\n",
    "# config.data.renormalize = False"
   ]
  },
  {
   "cell_type": "code",
   "execution_count": null,
   "metadata": {},
   "outputs": [],
   "source": [
    "# config.model.l2_lambda = 5e-5\n",
    "# config.model.l1_lambda = 0.0\n",
    "# config.model.weight_decay = 0.0\n",
    "# config.model.beta = 5\n",
    "# config.model.learning_rate = 1e-3\n",
    "# config.model.alpha_max = 0.1\n",
    "# config.model.alpha_min = 0.0\n",
    "# config.model.g_mix_from_g_real = False\n",
    "# config.model.combine_graphs = True\n",
    "config.model.combine_graphs = False\n",
    "\n",
    "config.trainer.max_steps = 5000\n",
    "# config.trainer.check_val_every_n_epoch = 500"
   ]
  },
  {
   "cell_type": "code",
   "execution_count": null,
   "metadata": {},
   "outputs": [],
   "source": [
    "print_config(config.model)\n",
    "# print_config(config.trainer)"
   ]
  },
  {
   "attachments": {},
   "cell_type": "markdown",
   "metadata": {},
   "source": [
    "## Run training"
   ]
  },
  {
   "cell_type": "code",
   "execution_count": null,
   "metadata": {},
   "outputs": [],
   "source": [
    "# run training on all datasets if no dataset is specified\n",
    "tags = \"latest\"\n",
    "tags = \"latestv2\"\n",
    "tags = \"anca_latest\"\n",
    "# tags = \"reference_switch\"\n",
    "# tags = \"latestv2-switched\"\n",
    "project = \"multi-channel-gnn\"\n",
    "wandb_mode = \"disabled\"\n",
    "wandb_mode = \"online\"\n",
    "\n",
    "if wandb_mode == \"online\":\n",
    "    config.trainer.fast_dev_run = False\n",
    "else:\n",
    "    config.trainer.fast_dev_run = True\n",
    "config.trainer.deterministic = True\n",
    "# config.trainer.deterministic = False\n",
    "for st_path, experiment_path in list(zip(st_paths, experiment_paths))[0::]:\n",
    "    print(f\"Running experiment on {st_path} and experiment path {experiment_path}\")\n",
    "    metric_dict, object_dict = run_experiment(\n",
    "        config,\n",
    "        st_path,\n",
    "        experiment_path,\n",
    "        wandb_mode=wandb_mode,\n",
    "        tags=tags,\n",
    "        config_path=\"../../configs\",\n",
    "        progress_bar=False,\n",
    "        device=7,\n",
    "        project=project,\n",
    "    )\n"
   ]
  },
  {
   "cell_type": "code",
   "execution_count": null,
   "metadata": {},
   "outputs": [],
   "source": [
    "summary = ModelSummary(object_dict[\"model\"], max_depth=-1)\n",
    "print(summary)"
   ]
  },
  {
   "cell_type": "code",
   "execution_count": null,
   "metadata": {},
   "outputs": [],
   "source": [
    "1500 // 1000"
   ]
  },
  {
   "cell_type": "code",
   "execution_count": null,
   "metadata": {},
   "outputs": [],
   "source": [
    "object_dict[\"net\"]"
   ]
  },
  {
   "cell_type": "code",
   "execution_count": null,
   "metadata": {},
   "outputs": [],
   "source": [
    "for param in object_dict[\"net\"].parameters():\n",
    "    print(param.shape)"
   ]
  },
  {
   "attachments": {},
   "cell_type": "markdown",
   "metadata": {},
   "source": [
    "## Run multiple trainings"
   ]
  },
  {
   "cell_type": "code",
   "execution_count": null,
   "metadata": {},
   "outputs": [],
   "source": []
  }
 ],
 "metadata": {
  "kernelspec": {
   "display_name": "dissect_spatial",
   "language": "python",
   "name": "python3"
  },
  "language_info": {
   "codemirror_mode": {
    "name": "ipython",
    "version": 3
   },
   "file_extension": ".py",
   "mimetype": "text/x-python",
   "name": "python",
   "nbconvert_exporter": "python",
   "pygments_lexer": "ipython3",
   "version": "3.8.16"
  },
  "orig_nbformat": 4,
  "vscode": {
   "interpreter": {
    "hash": "f49dfde4eb06c0a3671c2401bd6b6f73cacae937d3de5334273372658b299ab4"
   }
  }
 },
 "nbformat": 4,
 "nbformat_minor": 2
}
