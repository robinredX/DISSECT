{
 "cells": [
  {
   "cell_type": "code",
   "execution_count": 1,
   "metadata": {},
   "outputs": [],
   "source": [
    "%load_ext autoreload\n",
    "%autoreload 2"
   ]
  },
  {
   "cell_type": "code",
   "execution_count": 2,
   "metadata": {},
   "outputs": [],
   "source": [
    "import pyrootutils\n",
    "\n",
    "base_path = pyrootutils.setup_root(\n",
    "    search_from=\".\",\n",
    "    indicator=[\".gitignore\"],\n",
    "    project_root_env_var=True,  # set the PROJECT_ROOT environment variable to root directory\n",
    "    dotenv=True,  # load environment variables from .env if exists in root directory\n",
    "    pythonpath=True,  # add root directory to the PYTHONPATH (helps with imports)\n",
    "    cwd=True,  # change current working directory to the root directory (helps with filepaths)\n",
    ")\n",
    "import sys\n",
    "import pickle\n",
    "import scanpy as sc\n",
    "import squidpy as sq\n",
    "import matplotlib.pyplot as plt\n",
    "import numpy as np\n",
    "import torch\n",
    "import torch_geometric as pyg\n",
    "import pytorch_lightning as pl\n",
    "from pytorch_lightning.utilities.model_summary import ModelSummary\n",
    "from pytorch_lightning.loggers import WandbLogger\n",
    "from pytorch_lightning.callbacks import (\n",
    "    RichProgressBar,\n",
    "    TQDMProgressBar,\n",
    "    ModelCheckpoint,\n",
    ")\n",
    "import wandb\n",
    "import copy\n",
    "import pandas as pd\n",
    "from torch_geometric.nn.resolver import (\n",
    "    activation_resolver,\n",
    "    normalization_resolver,\n",
    ")\n",
    "from omegaconf import DictConfig\n",
    "from omegaconf import OmegaConf\n",
    "from hydra import initialize, initialize_config_module, initialize_config_dir, compose\n",
    "import hydra\n",
    "from hydra.core.hydra_config import HydraConfig\n",
    "from hydra.core.utils import _flush_loggers, configure_log\n",
    "\n",
    "from src.data.datasets import *\n",
    "from src.data.datamodules import SpatialDataModule\n",
    "from src.data.graph_utils import check_radius\n",
    "from src.data.utils import load_celltypes, load_sample_names\n",
    "from src.models.modules import DeconvolutionModel, ln_loss, beta_scheduler\n",
    "from src.models.dissect_spatial import DissectSpatial, DissectHetero, DissectSpatialHybrid\n",
    "from src.models.dissect import Dissect\n",
    "from src.utils.utils import seed_everything\n",
    "from src.train import train\n",
    "from src.utils.wandb import *\n",
    "from src.utils.config_utils import *\n",
    "from src.utils.experiment import run_experiment\n",
    "\n",
    "from configs.main_config import config\n",
    "\n",
    "\n",
    "# ignore all warnings\n",
    "import warnings\n",
    "\n",
    "warnings.filterwarnings(\"ignore\")\n",
    "\n",
    "plt.rcParams[\"figure.dpi\"] = 80"
   ]
  },
  {
   "attachments": {},
   "cell_type": "markdown",
   "metadata": {},
   "source": [
    "## Define data paths"
   ]
  },
  {
   "cell_type": "code",
   "execution_count": 3,
   "metadata": {},
   "outputs": [],
   "source": [
    "st_data_files = [\n",
    "    \"spatial/simulations_kidney_slideSeq_v2/UMOD-WT.WT-2a_resolution75.h5ad\",\n",
    "    \"spatial/simulations_heart_seqFISH/embryo1_resolution0.11.h5ad\",\n",
    "    \"spatial/simulations_kidney_slideSeq_v2/UMOD-KI.KI-4b_resolution105.h5ad\",\n",
    "    \"spatial/V1_Mouse_Brain_Sagittal_Anterior.h5ad\",\n",
    "    \"spatial/lymph_node/st_lymph.h5ad\",\n",
    "]\n",
    "experiment_dirs = [\n",
    "    \"experiments/experiment_kidney_slideSeq_v2_UMOD-WT.WT-2a_resolution75\",\n",
    "    \"experiments/experiment_heart_seqFISH_embryo1_resolution0.11-new\",\n",
    "    \"experiments/experiment_kidney_slideSeq_v2_105\",\n",
    "    \"experiments/experiment_mouse_st\",\n",
    "    \"experiments/experiment_lymph_node\"\n",
    "]\n",
    "st_paths = [\"${paths.data_dir}\" + f  for f in st_data_files]\n",
    "experiment_paths = [\"${paths.root_dir}\" + \"/\" + dir for dir in experiment_dirs]"
   ]
  },
  {
   "attachments": {},
   "cell_type": "markdown",
   "metadata": {},
   "source": [
    "## Setup experiment config"
   ]
  },
  {
   "attachments": {},
   "cell_type": "markdown",
   "metadata": {},
   "source": [
    "### Load default config"
   ]
  },
  {
   "cell_type": "code",
   "execution_count": 4,
   "metadata": {},
   "outputs": [],
   "source": [
    "experiment_name = None\n",
    "# experiment_name = \"hybrid\"\n",
    "experiment_name = \"multi_channel\"\n",
    "if experiment_name is not None:\n",
    "    overrides = [f\"experiment={experiment_name}\"]\n",
    "else:\n",
    "    overrides = []\n",
    "\n",
    "hydra.core.global_hydra.GlobalHydra.instance().clear()\n",
    "# import GlobalHydra\n",
    "\n",
    "config_path = \"../configs\"\n",
    "config_name = \"train.yaml\"\n",
    "\n",
    "initialize(version_base=\"1.3\", config_path=config_path)\n",
    "config = compose(\n",
    "    config_name=config_name,\n",
    "    overrides=overrides,\n",
    "    return_hydra_config=True,\n",
    ")\n",
    "HydraConfig.instance().set_config(config)\n",
    "OmegaConf.set_struct(config, False)\n",
    "del config[\"hydra\"]\n",
    "config.experiment = experiment_name\n",
    "# print_config(config)"
   ]
  },
  {
   "attachments": {},
   "cell_type": "markdown",
   "metadata": {},
   "source": [
    "### Load config from previous experiment"
   ]
  },
  {
   "cell_type": "code",
   "execution_count": 5,
   "metadata": {},
   "outputs": [
    {
     "name": "stdout",
     "output_type": "stream",
     "text": [
      "Net in config: True\n"
     ]
    }
   ],
   "source": [
    "# run_name = \"northern-river-217\"\n",
    "# config = get_run_config(run_name, project=\"dissect-spatial\")\n",
    "run_name = \"electric-sweep-37\"\n",
    "run_name = \"swift-sweep-658\"\n",
    "config = get_run_config(run_name, project=\"DISSECT-src\")\n",
    "config = convert_wandb_to_dict_config(config)"
   ]
  },
  {
   "attachments": {},
   "cell_type": "markdown",
   "metadata": {},
   "source": [
    "### Set custom values"
   ]
  },
  {
   "attachments": {},
   "cell_type": "markdown",
   "metadata": {},
   "source": [
    "#### Modify network architecture"
   ]
  },
  {
   "cell_type": "code",
   "execution_count": 6,
   "metadata": {},
   "outputs": [],
   "source": [
    "# config.net.latent_dim = 64\n",
    "# # config.net.encoder_kwargs.fusion = \"gating\"\n",
    "# # config.net.encoder_kwargs.fusion = \"concat_skip\"\n",
    "# config.net.encoder_kwargs.fusion = \"concat\"\n",
    "# config.net.encoder_kwargs.lin_channel = True\n",
    "# config.net.encoder_kwargs.num_heads = 1\n",
    "# config.net.encoder_kwargs.num_layers = 1\n",
    "# config.net.encoder_kwargs.use_ffn = False\n",
    "# config.net.encoder_kwargs.use_pos = False\n",
    "# config.net.encoder_kwargs.plain_last = False\n",
    "# # config.net.use_pos = True\n",
    "config.net.encoder_kwargs.use_sparse = True"
   ]
  },
  {
   "cell_type": "code",
   "execution_count": 7,
   "metadata": {},
   "outputs": [
    {
     "name": "stdout",
     "output_type": "stream",
     "text": [
      "use_id: false\n",
      "use_pos: false\n",
      "_target_: src.models.dissect_spatial.DissectSpatial\n",
      "activation: relu6\n",
      "latent_dim: 128\n",
      "encoder_type: gnn\n",
      "encoder_kwargs:\n",
      "  knn: 6\n",
      "  norm: batch_norm\n",
      "  cosine: false\n",
      "  fusion: concat\n",
      "  use_id: false\n",
      "  dropout: 0\n",
      "  use_ffn: false\n",
      "  use_pos: false\n",
      "  num_heads: 2\n",
      "  inter_skip: false\n",
      "  norm_first: false\n",
      "  num_layers: 1\n",
      "  plain_last: false\n",
      "  use_sparse: true\n",
      "  lin_channel: true\n",
      "  mha_channel: false\n",
      "  sim_pos_enc: false\n",
      "  ff_hidden_dim: 256\n",
      "  latent_channel: false\n",
      "  spatial_channel: true\n",
      "  init_embed_hidden_channels:\n",
      "  - 512\n",
      "  - 256\n",
      "decoder_kwargs:\n",
      "  num_layers: 2\n",
      "  hidden_channels: 64\n",
      "\n"
     ]
    }
   ],
   "source": [
    "print_config(config.net)"
   ]
  },
  {
   "attachments": {},
   "cell_type": "markdown",
   "metadata": {},
   "source": [
    "#### Modify training parameters"
   ]
  },
  {
   "cell_type": "code",
   "execution_count": 8,
   "metadata": {},
   "outputs": [
    {
     "name": "stdout",
     "output_type": "stream",
     "text": [
      "0.02\n"
     ]
    }
   ],
   "source": [
    "# config.data.radius = 0.04\n",
    "print(config.data.radius)"
   ]
  },
  {
   "cell_type": "code",
   "execution_count": 9,
   "metadata": {},
   "outputs": [],
   "source": [
    "# config.model.l2_lambda = 5e-5\n",
    "# config.model.l1_lambda = 0.0\n",
    "# config.model.weight_decay = 0.0\n",
    "# config.model.beta = 5\n",
    "# config.model.learning_rate = 1e-3\n",
    "# config.model.alpha_max = 0.1\n",
    "# config.model.alpha_min = 0.0\n",
    "# config.trainer.max_steps = 5000\n",
    "# config.trainer.check_val_every_n_epoch = 500"
   ]
  },
  {
   "cell_type": "code",
   "execution_count": 9,
   "metadata": {},
   "outputs": [
    {
     "name": "stdout",
     "output_type": "stream",
     "text": [
      "beta: 7.5\n",
      "_target_: src.models.modules.DeconvolutionModel\n",
      "plotting: false\n",
      "alpha_max: 0.1\n",
      "alpha_min: 0\n",
      "l1_lambda: 0\n",
      "l2_lambda: 1.0e-05\n",
      "log_hparams: false\n",
      "sim_loss_fn: kl_div\n",
      "weight_decay: 0\n",
      "learning_rate: 1.0e-05\n",
      "save_predictions: false\n",
      "move_data_to_device: true\n",
      "\n"
     ]
    }
   ],
   "source": [
    "print_config(config.model)\n",
    "# print_config(config.trainer)"
   ]
  },
  {
   "attachments": {},
   "cell_type": "markdown",
   "metadata": {},
   "source": [
    "## Run training"
   ]
  },
  {
   "cell_type": "code",
   "execution_count": 10,
   "metadata": {},
   "outputs": [
    {
     "name": "stdout",
     "output_type": "stream",
     "text": [
      "Running experiment on ${paths.data_dir}spatial/simulations_kidney_slideSeq_v2/UMOD-WT.WT-2a_resolution75.h5ad and experiment path ${paths.root_dir}/experiments/experiment_kidney_slideSeq_v2_UMOD-WT.WT-2a_resolution75\n"
     ]
    },
    {
     "name": "stderr",
     "output_type": "stream",
     "text": [
      "Global seed set to 42\n"
     ]
    },
    {
     "name": "stdout",
     "output_type": "stream",
     "text": [
      "Key experiment not in base config.\n",
      "Using deterministic mode\n"
     ]
    },
    {
     "name": "stderr",
     "output_type": "stream",
     "text": [
      "Failed to detect the name of this notebook, you can set it manually with the WANDB_NOTEBOOK_NAME environment variable to enable code saving.\n",
      "\u001b[34m\u001b[1mwandb\u001b[0m: Currently logged in as: \u001b[33mdschaub\u001b[0m. Use \u001b[1m`wandb login --relogin`\u001b[0m to force relogin\n"
     ]
    },
    {
     "data": {
      "text/html": [
       "wandb version 0.14.2 is available!  To upgrade, please run:\n",
       " $ pip install wandb --upgrade"
      ],
      "text/plain": [
       "<IPython.core.display.HTML object>"
      ]
     },
     "metadata": {},
     "output_type": "display_data"
    },
    {
     "data": {
      "text/html": [
       "Tracking run with wandb version 0.14.1"
      ],
      "text/plain": [
       "<IPython.core.display.HTML object>"
      ]
     },
     "metadata": {},
     "output_type": "display_data"
    },
    {
     "data": {
      "text/html": [
       "Run data is saved locally in <code>/data/DISSECT/logs/wandb/run-20230411_094700-n058n6au</code>"
      ],
      "text/plain": [
       "<IPython.core.display.HTML object>"
      ]
     },
     "metadata": {},
     "output_type": "display_data"
    },
    {
     "data": {
      "text/html": [
       "Syncing run <strong><a href='https://wandb.ai/dschaub/dissect-spatial/runs/n058n6au' target=\"_blank\">drawn-dream-300</a></strong> to <a href='https://wandb.ai/dschaub/dissect-spatial' target=\"_blank\">Weights & Biases</a> (<a href='https://wandb.me/run' target=\"_blank\">docs</a>)<br/>"
      ],
      "text/plain": [
       "<IPython.core.display.HTML object>"
      ]
     },
     "metadata": {},
     "output_type": "display_data"
    },
    {
     "data": {
      "text/html": [
       " View project at <a href='https://wandb.ai/dschaub/dissect-spatial' target=\"_blank\">https://wandb.ai/dschaub/dissect-spatial</a>"
      ],
      "text/plain": [
       "<IPython.core.display.HTML object>"
      ]
     },
     "metadata": {},
     "output_type": "display_data"
    },
    {
     "data": {
      "text/html": [
       " View run at <a href='https://wandb.ai/dschaub/dissect-spatial/runs/n058n6au' target=\"_blank\">https://wandb.ai/dschaub/dissect-spatial/runs/n058n6au</a>"
      ],
      "text/plain": [
       "<IPython.core.display.HTML object>"
      ]
     },
     "metadata": {},
     "output_type": "display_data"
    },
    {
     "name": "stderr",
     "output_type": "stream",
     "text": [
      "GPU available: True (cuda), used: True\n",
      "TPU available: False, using: 0 TPU cores\n",
      "IPU available: False, using: 0 IPUs\n",
      "HPU available: False, using: 0 HPUs\n",
      "`Trainer(limit_train_batches=1)` was configured so 1 batch per epoch will be used.\n",
      "LOCAL_RANK: 0 - CUDA_VISIBLE_DEVICES: [0,1,2,3,4,5,6,7]\n",
      "\n",
      "  | Name | Type           | Params\n",
      "----------------------------------------\n",
      "0 | net  | DissectSpatial | 257 K \n",
      "----------------------------------------\n",
      "257 K     Trainable params\n",
      "0         Non-trainable params\n",
      "257 K     Total params\n",
      "1.031     Total estimated model params size (MB)\n",
      "`Trainer.fit` stopped: `max_steps=5000` reached.\n"
     ]
    },
    {
     "data": {
      "text/html": [
       "Waiting for W&B process to finish... <strong style=\"color:green\">(success).</strong>"
      ],
      "text/plain": [
       "<IPython.core.display.HTML object>"
      ]
     },
     "metadata": {},
     "output_type": "display_data"
    },
    {
     "data": {
      "application/vnd.jupyter.widget-view+json": {
       "model_id": "e1b398b88c584d09a106af1eb3a019c7",
       "version_major": 2,
       "version_minor": 0
      },
      "text/plain": [
       "VBox(children=(Label(value='18.812 MB of 19.721 MB uploaded (0.000 MB deduped)\\r'), FloatProgress(value=0.9539…"
      ]
     },
     "metadata": {},
     "output_type": "display_data"
    },
    {
     "data": {
      "text/html": [
       "<style>\n",
       "    table.wandb td:nth-child(1) { padding: 0 10px; text-align: left ; width: auto;} td:nth-child(2) {text-align: left ; width: 100%}\n",
       "    .wandb-row { display: flex; flex-direction: row; flex-wrap: wrap; justify-content: flex-start; width: 100% }\n",
       "    .wandb-col { display: flex; flex-direction: column; flex-basis: 100%; flex: 1; padding: 10px; }\n",
       "    </style>\n",
       "<div class=\"wandb-row\"><div class=\"wandb-col\"><h3>Run history:</h3><br/><table class=\"wandb\"><tr><td>epoch</td><td>▁▁▁▂▂▂▂▂▂▃▃▃▃▃▄▄▄▄▄▄▅▅▅▅▅▅▆▆▆▆▆▇▇▇▇▇▇███</td></tr><tr><td>train/beta</td><td>▁▁▁▁▁▁▁▁▁▁▁▁▁▁▁▁▁▁▁▁▁▁▁▁▁▁▁▁▁▁▁▁▁▁▁▁▁▁▁▁</td></tr><tr><td>train/l1_loss</td><td>▁▁▂▂▃▃▄▄▄▅▅▅▅▆▆▆▆▆▆▇▇▇▇▇▇▇▇▇▇▇██████████</td></tr><tr><td>train/l2_loss</td><td>▁▁▂▂▃▃▃▄▄▄▅▅▅▅▆▆▆▆▆▆▆▆▇▇▇▇▇▇▇▇▇▇████████</td></tr><tr><td>train/mix_loss</td><td>▁▁▂▄▄▅▆▇▇▆▅▇▆▆▇▇▅▇▅▆▇▆▇▇██▆▃▅█▃▇▄▅▃▆█▅▄▄</td></tr><tr><td>train/sim_loss</td><td>██▇▆▅▅▅▄▄▄▄▃▃▃▃▃▂▂▂▂▂▂▂▂▂▂▂▂▂▁▁▁▁▁▁▁▁▁▁▁</td></tr><tr><td>train/total_loss</td><td>██▇▆▆▅▅▄▄▄▄▃▃▃▃▃▂▂▂▂▂▂▂▂▂▂▂▂▂▂▁▁▁▁▁▁▁▁▁▁</td></tr><tr><td>trainer/global_step</td><td>▁▁▁▁▂▂▂▂▂▃▃▃▃▃▃▄▄▄▄▄▅▅▅▅▅▅▆▆▆▆▆▆▇▇▇▇▇███</td></tr><tr><td>validation/mean_ccc</td><td>▁▄▆▇▇█████</td></tr><tr><td>validation/mean_ccc_</td><td>▁▄▆▇▇█████</td></tr><tr><td>validation/mean_corr</td><td>▁▅▇▇██████</td></tr><tr><td>validation/mean_corr_</td><td>▁▅▇▇██████</td></tr><tr><td>validation/mean_rmse</td><td>█▄▂▁▁▁▁▁▂▂</td></tr><tr><td>validation/mean_rmse_</td><td>█▄▂▁▁▁▁▁▂▂</td></tr></table><br/></div><div class=\"wandb-col\"><h3>Run summary:</h3><br/><table class=\"wandb\"><tr><td>epoch</td><td>4999</td></tr><tr><td>train/beta</td><td>7.5</td></tr><tr><td>train/l1_loss</td><td>36160.625</td></tr><tr><td>train/l2_loss</td><td>963.10974</td></tr><tr><td>train/mix_loss</td><td>0.00089</td></tr><tr><td>train/sim_loss</td><td>0.13674</td></tr><tr><td>train/total_loss</td><td>0.15306</td></tr><tr><td>trainer/global_step</td><td>4999</td></tr><tr><td>validation/mean_ccc_</td><td>0.6502</td></tr><tr><td>validation/mean_corr_</td><td>0.69269</td></tr><tr><td>validation/mean_rmse_</td><td>0.07956</td></tr></table><br/></div></div>"
      ],
      "text/plain": [
       "<IPython.core.display.HTML object>"
      ]
     },
     "metadata": {},
     "output_type": "display_data"
    },
    {
     "data": {
      "text/html": [
       " View run <strong style=\"color:#cdcd00\">drawn-dream-300</strong> at: <a href='https://wandb.ai/dschaub/dissect-spatial/runs/n058n6au' target=\"_blank\">https://wandb.ai/dschaub/dissect-spatial/runs/n058n6au</a><br/>Synced 6 W&B file(s), 11 media file(s), 11 artifact file(s) and 0 other file(s)"
      ],
      "text/plain": [
       "<IPython.core.display.HTML object>"
      ]
     },
     "metadata": {},
     "output_type": "display_data"
    },
    {
     "data": {
      "text/html": [
       "Find logs at: <code>./logs/wandb/run-20230411_094700-n058n6au/logs</code>"
      ],
      "text/plain": [
       "<IPython.core.display.HTML object>"
      ]
     },
     "metadata": {},
     "output_type": "display_data"
    },
    {
     "name": "stdout",
     "output_type": "stream",
     "text": [
      "Running experiment on ${paths.data_dir}spatial/simulations_kidney_slideSeq_v2/UMOD-KI.KI-4b_resolution105.h5ad and experiment path ${paths.root_dir}/experiments/experiment_kidney_slideSeq_v2_105\n"
     ]
    },
    {
     "name": "stderr",
     "output_type": "stream",
     "text": [
      "Global seed set to 42\n"
     ]
    },
    {
     "name": "stdout",
     "output_type": "stream",
     "text": [
      "Key experiment not in base config.\n",
      "Using deterministic mode\n"
     ]
    },
    {
     "data": {
      "text/html": [
       "wandb version 0.14.2 is available!  To upgrade, please run:\n",
       " $ pip install wandb --upgrade"
      ],
      "text/plain": [
       "<IPython.core.display.HTML object>"
      ]
     },
     "metadata": {},
     "output_type": "display_data"
    },
    {
     "data": {
      "text/html": [
       "Tracking run with wandb version 0.14.1"
      ],
      "text/plain": [
       "<IPython.core.display.HTML object>"
      ]
     },
     "metadata": {},
     "output_type": "display_data"
    },
    {
     "data": {
      "text/html": [
       "Run data is saved locally in <code>/data/DISSECT/logs/wandb/run-20230411_095116-83v1sazk</code>"
      ],
      "text/plain": [
       "<IPython.core.display.HTML object>"
      ]
     },
     "metadata": {},
     "output_type": "display_data"
    },
    {
     "data": {
      "text/html": [
       "Syncing run <strong><a href='https://wandb.ai/dschaub/dissect-spatial/runs/83v1sazk' target=\"_blank\">earnest-field-301</a></strong> to <a href='https://wandb.ai/dschaub/dissect-spatial' target=\"_blank\">Weights & Biases</a> (<a href='https://wandb.me/run' target=\"_blank\">docs</a>)<br/>"
      ],
      "text/plain": [
       "<IPython.core.display.HTML object>"
      ]
     },
     "metadata": {},
     "output_type": "display_data"
    },
    {
     "data": {
      "text/html": [
       " View project at <a href='https://wandb.ai/dschaub/dissect-spatial' target=\"_blank\">https://wandb.ai/dschaub/dissect-spatial</a>"
      ],
      "text/plain": [
       "<IPython.core.display.HTML object>"
      ]
     },
     "metadata": {},
     "output_type": "display_data"
    },
    {
     "data": {
      "text/html": [
       " View run at <a href='https://wandb.ai/dschaub/dissect-spatial/runs/83v1sazk' target=\"_blank\">https://wandb.ai/dschaub/dissect-spatial/runs/83v1sazk</a>"
      ],
      "text/plain": [
       "<IPython.core.display.HTML object>"
      ]
     },
     "metadata": {},
     "output_type": "display_data"
    },
    {
     "name": "stderr",
     "output_type": "stream",
     "text": [
      "GPU available: True (cuda), used: True\n",
      "TPU available: False, using: 0 TPU cores\n",
      "IPU available: False, using: 0 IPUs\n",
      "HPU available: False, using: 0 HPUs\n",
      "`Trainer(limit_train_batches=1)` was configured so 1 batch per epoch will be used.\n",
      "LOCAL_RANK: 0 - CUDA_VISIBLE_DEVICES: [0,1,2,3,4,5,6,7]\n",
      "\n",
      "  | Name | Type           | Params\n",
      "----------------------------------------\n",
      "0 | net  | DissectSpatial | 257 K \n",
      "----------------------------------------\n",
      "257 K     Trainable params\n",
      "0         Non-trainable params\n",
      "257 K     Total params\n",
      "1.030     Total estimated model params size (MB)\n",
      "`Trainer.fit` stopped: `max_steps=5000` reached.\n"
     ]
    },
    {
     "data": {
      "text/html": [
       "Waiting for W&B process to finish... <strong style=\"color:green\">(success).</strong>"
      ],
      "text/plain": [
       "<IPython.core.display.HTML object>"
      ]
     },
     "metadata": {},
     "output_type": "display_data"
    },
    {
     "data": {
      "application/vnd.jupyter.widget-view+json": {
       "model_id": "ae738c8630ee4138b3da0a531f9ef4bd",
       "version_major": 2,
       "version_minor": 0
      },
      "text/plain": [
       "VBox(children=(Label(value='10.168 MB of 10.168 MB uploaded (0.000 MB deduped)\\r'), FloatProgress(value=1.0, m…"
      ]
     },
     "metadata": {},
     "output_type": "display_data"
    },
    {
     "data": {
      "text/html": [
       "<style>\n",
       "    table.wandb td:nth-child(1) { padding: 0 10px; text-align: left ; width: auto;} td:nth-child(2) {text-align: left ; width: 100%}\n",
       "    .wandb-row { display: flex; flex-direction: row; flex-wrap: wrap; justify-content: flex-start; width: 100% }\n",
       "    .wandb-col { display: flex; flex-direction: column; flex-basis: 100%; flex: 1; padding: 10px; }\n",
       "    </style>\n",
       "<div class=\"wandb-row\"><div class=\"wandb-col\"><h3>Run history:</h3><br/><table class=\"wandb\"><tr><td>epoch</td><td>▁▁▁▂▂▂▂▂▂▃▃▃▃▃▄▄▄▄▄▄▅▅▅▅▅▅▆▆▆▆▆▇▇▇▇▇▇███</td></tr><tr><td>train/beta</td><td>▁▁▁▁▁▁▁▁▁▁▁▁▁▁▁▁▁▁▁▁▁▁▁▁▁▁▁▁▁▁▁▁▁▁▁▁▁▁▁▁</td></tr><tr><td>train/l1_loss</td><td>▁▁▂▂▂▃▃▄▄▄▅▅▅▅▅▆▆▆▆▆▆▇▇▇▇▇▇▇▇▇▇▇████████</td></tr><tr><td>train/l2_loss</td><td>▁▁▂▂▂▃▃▄▄▄▄▅▅▅▅▅▅▆▆▆▆▆▆▆▇▇▇▇▇▇▇▇▇███████</td></tr><tr><td>train/mix_loss</td><td>▁▁▃▃▃▄▄▃▅▅▄▆▅▆▃▄▇▆▂▃▇▇▃▂▆▂▇▇▅▇▄▃▆▂▇▃▇█▇▇</td></tr><tr><td>train/sim_loss</td><td>██▆▆▅▅▅▄▄▄▃▃▃▃▃▃▃▂▂▂▂▂▂▂▂▂▂▂▂▂▁▁▁▁▁▁▁▁▁▁</td></tr><tr><td>train/total_loss</td><td>██▆▆▅▅▅▄▄▄▃▃▃▃▃▃▃▂▂▂▂▂▂▂▂▂▂▂▂▂▁▁▁▁▁▁▁▁▁▁</td></tr><tr><td>trainer/global_step</td><td>▁▁▁▁▂▂▂▂▂▃▃▃▃▃▃▄▄▄▄▄▅▅▅▅▅▅▆▆▆▆▆▆▇▇▇▇▇███</td></tr><tr><td>validation/mean_ccc</td><td>▁▅▆▇▇█████</td></tr><tr><td>validation/mean_ccc_</td><td>▁▅▆▇▇█████</td></tr><tr><td>validation/mean_corr</td><td>▁▄▆▇▇▇████</td></tr><tr><td>validation/mean_corr_</td><td>▁▄▆▇▇▇████</td></tr><tr><td>validation/mean_rmse</td><td>█▄▂▁▁▁▁▁▁▂</td></tr><tr><td>validation/mean_rmse_</td><td>█▄▂▁▁▁▁▁▁▂</td></tr></table><br/></div><div class=\"wandb-col\"><h3>Run summary:</h3><br/><table class=\"wandb\"><tr><td>epoch</td><td>4999</td></tr><tr><td>train/beta</td><td>7.5</td></tr><tr><td>train/l1_loss</td><td>39712.16016</td></tr><tr><td>train/l2_loss</td><td>976.00983</td></tr><tr><td>train/mix_loss</td><td>0.0016</td></tr><tr><td>train/sim_loss</td><td>0.11429</td></tr><tr><td>train/total_loss</td><td>0.13607</td></tr><tr><td>trainer/global_step</td><td>4999</td></tr><tr><td>validation/mean_ccc_</td><td>0.73468</td></tr><tr><td>validation/mean_corr_</td><td>0.77152</td></tr><tr><td>validation/mean_rmse_</td><td>0.08063</td></tr></table><br/></div></div>"
      ],
      "text/plain": [
       "<IPython.core.display.HTML object>"
      ]
     },
     "metadata": {},
     "output_type": "display_data"
    },
    {
     "data": {
      "text/html": [
       " View run <strong style=\"color:#cdcd00\">earnest-field-301</strong> at: <a href='https://wandb.ai/dschaub/dissect-spatial/runs/83v1sazk' target=\"_blank\">https://wandb.ai/dschaub/dissect-spatial/runs/83v1sazk</a><br/>Synced 6 W&B file(s), 11 media file(s), 11 artifact file(s) and 0 other file(s)"
      ],
      "text/plain": [
       "<IPython.core.display.HTML object>"
      ]
     },
     "metadata": {},
     "output_type": "display_data"
    },
    {
     "data": {
      "text/html": [
       "Find logs at: <code>./logs/wandb/run-20230411_095116-83v1sazk/logs</code>"
      ],
      "text/plain": [
       "<IPython.core.display.HTML object>"
      ]
     },
     "metadata": {},
     "output_type": "display_data"
    },
    {
     "name": "stdout",
     "output_type": "stream",
     "text": [
      "Running experiment on ${paths.data_dir}spatial/simulations_heart_seqFISH/embryo1_resolution0.11.h5ad and experiment path ${paths.root_dir}/experiments/experiment_heart_seqFISH_embryo1_resolution0.11-new\n"
     ]
    },
    {
     "name": "stderr",
     "output_type": "stream",
     "text": [
      "Global seed set to 42\n"
     ]
    },
    {
     "name": "stdout",
     "output_type": "stream",
     "text": [
      "Key experiment not in base config.\n",
      "Using deterministic mode\n"
     ]
    },
    {
     "data": {
      "text/html": [
       "wandb version 0.14.2 is available!  To upgrade, please run:\n",
       " $ pip install wandb --upgrade"
      ],
      "text/plain": [
       "<IPython.core.display.HTML object>"
      ]
     },
     "metadata": {},
     "output_type": "display_data"
    },
    {
     "data": {
      "text/html": [
       "Tracking run with wandb version 0.14.1"
      ],
      "text/plain": [
       "<IPython.core.display.HTML object>"
      ]
     },
     "metadata": {},
     "output_type": "display_data"
    },
    {
     "data": {
      "text/html": [
       "Run data is saved locally in <code>/data/DISSECT/logs/wandb/run-20230411_095451-3q0esvrs</code>"
      ],
      "text/plain": [
       "<IPython.core.display.HTML object>"
      ]
     },
     "metadata": {},
     "output_type": "display_data"
    },
    {
     "data": {
      "text/html": [
       "Syncing run <strong><a href='https://wandb.ai/dschaub/dissect-spatial/runs/3q0esvrs' target=\"_blank\">giddy-monkey-302</a></strong> to <a href='https://wandb.ai/dschaub/dissect-spatial' target=\"_blank\">Weights & Biases</a> (<a href='https://wandb.me/run' target=\"_blank\">docs</a>)<br/>"
      ],
      "text/plain": [
       "<IPython.core.display.HTML object>"
      ]
     },
     "metadata": {},
     "output_type": "display_data"
    },
    {
     "data": {
      "text/html": [
       " View project at <a href='https://wandb.ai/dschaub/dissect-spatial' target=\"_blank\">https://wandb.ai/dschaub/dissect-spatial</a>"
      ],
      "text/plain": [
       "<IPython.core.display.HTML object>"
      ]
     },
     "metadata": {},
     "output_type": "display_data"
    },
    {
     "data": {
      "text/html": [
       " View run at <a href='https://wandb.ai/dschaub/dissect-spatial/runs/3q0esvrs' target=\"_blank\">https://wandb.ai/dschaub/dissect-spatial/runs/3q0esvrs</a>"
      ],
      "text/plain": [
       "<IPython.core.display.HTML object>"
      ]
     },
     "metadata": {},
     "output_type": "display_data"
    },
    {
     "name": "stderr",
     "output_type": "stream",
     "text": [
      "GPU available: True (cuda), used: True\n",
      "TPU available: False, using: 0 TPU cores\n",
      "IPU available: False, using: 0 IPUs\n",
      "HPU available: False, using: 0 HPUs\n",
      "`Trainer(limit_train_batches=1)` was configured so 1 batch per epoch will be used.\n",
      "LOCAL_RANK: 0 - CUDA_VISIBLE_DEVICES: [0,1,2,3,4,5,6,7]\n",
      "\n",
      "  | Name | Type           | Params\n",
      "----------------------------------------\n",
      "0 | net  | DissectSpatial | 258 K \n",
      "----------------------------------------\n",
      "258 K     Trainable params\n",
      "0         Non-trainable params\n",
      "258 K     Total params\n",
      "1.033     Total estimated model params size (MB)\n",
      "`Trainer.fit` stopped: `max_steps=5000` reached.\n"
     ]
    },
    {
     "data": {
      "text/html": [
       "Waiting for W&B process to finish... <strong style=\"color:green\">(success).</strong>"
      ],
      "text/plain": [
       "<IPython.core.display.HTML object>"
      ]
     },
     "metadata": {},
     "output_type": "display_data"
    },
    {
     "data": {
      "text/html": [
       "<style>\n",
       "    table.wandb td:nth-child(1) { padding: 0 10px; text-align: left ; width: auto;} td:nth-child(2) {text-align: left ; width: 100%}\n",
       "    .wandb-row { display: flex; flex-direction: row; flex-wrap: wrap; justify-content: flex-start; width: 100% }\n",
       "    .wandb-col { display: flex; flex-direction: column; flex-basis: 100%; flex: 1; padding: 10px; }\n",
       "    </style>\n",
       "<div class=\"wandb-row\"><div class=\"wandb-col\"><h3>Run history:</h3><br/><table class=\"wandb\"><tr><td>epoch</td><td>▁▁▁▂▂▂▂▂▂▃▃▃▃▃▄▄▄▄▄▄▅▅▅▅▅▅▆▆▆▆▆▇▇▇▇▇▇███</td></tr><tr><td>train/beta</td><td>▁▁▁▁▁▁▁▁▁▁▁▁▁▁▁▁▁▁▁▁▁▁▁▁▁▁▁▁▁▁▁▁▁▁▁▁▁▁▁▁</td></tr><tr><td>train/l1_loss</td><td>█▇▆▆▅▅▅▅▄▄▄▄▃▃▃▃▂▂▂▂▂▂▂▂▁▁▁▁▁▁▁▁▁▁▁▁▁▁▁▁</td></tr><tr><td>train/l2_loss</td><td>█▆▅▅▅▅▄▄▄▄▃▃▃▂▂▂▂▂▂▂▁▁▁▁▁▁▁▁▁▁▁▁▁▁▁▁▁▁▁▂</td></tr><tr><td>train/mix_loss</td><td>▁▁▁▁▂▃▃▄▃▄▅▆▄▅▄▆▆▅▄▆▇█▅▄▆█▆▇▆▇▆█▇▄▆▄▄▆▇▃</td></tr><tr><td>train/sim_loss</td><td>███▇▆▆▆▅▅▅▅▄▄▄▄▄▄▄▃▃▃▃▃▃▃▂▂▂▂▂▂▂▂▂▂▁▁▁▁▁</td></tr><tr><td>train/total_loss</td><td>███▇▆▆▆▅▅▅▅▄▄▄▄▄▄▄▃▃▃▃▃▃▃▂▂▂▂▂▂▂▂▂▂▁▁▁▁▁</td></tr><tr><td>trainer/global_step</td><td>▁▁▁▁▂▂▂▂▂▃▃▃▃▃▃▄▄▄▄▄▅▅▅▅▅▅▆▆▆▆▆▆▇▇▇▇▇███</td></tr><tr><td>validation/mean_ccc</td><td>▁▃▄▅▅▆▇▇██</td></tr><tr><td>validation/mean_ccc_</td><td>▁▃▄▅▅▆▇▇██</td></tr><tr><td>validation/mean_corr</td><td>▁▄▅▆▇▇▇███</td></tr><tr><td>validation/mean_corr_</td><td>▁▄▅▆▇▇▇███</td></tr><tr><td>validation/mean_rmse</td><td>█▇▅▅▄▃▃▂▂▁</td></tr><tr><td>validation/mean_rmse_</td><td>█▇▅▅▄▃▃▂▂▁</td></tr></table><br/></div><div class=\"wandb-col\"><h3>Run summary:</h3><br/><table class=\"wandb\"><tr><td>epoch</td><td>4999</td></tr><tr><td>train/beta</td><td>7.5</td></tr><tr><td>train/l1_loss</td><td>14979.79004</td></tr><tr><td>train/l2_loss</td><td>786.94421</td></tr><tr><td>train/mix_loss</td><td>0.00033</td></tr><tr><td>train/sim_loss</td><td>1.09385</td></tr><tr><td>train/total_loss</td><td>1.10422</td></tr><tr><td>trainer/global_step</td><td>4999</td></tr><tr><td>validation/mean_ccc_</td><td>0.45048</td></tr><tr><td>validation/mean_corr_</td><td>0.67641</td></tr><tr><td>validation/mean_rmse_</td><td>0.1098</td></tr></table><br/></div></div>"
      ],
      "text/plain": [
       "<IPython.core.display.HTML object>"
      ]
     },
     "metadata": {},
     "output_type": "display_data"
    },
    {
     "data": {
      "text/html": [
       " View run <strong style=\"color:#cdcd00\">giddy-monkey-302</strong> at: <a href='https://wandb.ai/dschaub/dissect-spatial/runs/3q0esvrs' target=\"_blank\">https://wandb.ai/dschaub/dissect-spatial/runs/3q0esvrs</a><br/>Synced 6 W&B file(s), 11 media file(s), 11 artifact file(s) and 0 other file(s)"
      ],
      "text/plain": [
       "<IPython.core.display.HTML object>"
      ]
     },
     "metadata": {},
     "output_type": "display_data"
    },
    {
     "data": {
      "text/html": [
       "Find logs at: <code>./logs/wandb/run-20230411_095451-3q0esvrs/logs</code>"
      ],
      "text/plain": [
       "<IPython.core.display.HTML object>"
      ]
     },
     "metadata": {},
     "output_type": "display_data"
    },
    {
     "name": "stdout",
     "output_type": "stream",
     "text": [
      "Running experiment on ${paths.data_dir}spatial/V1_Mouse_Brain_Sagittal_Anterior.h5ad and experiment path ${paths.root_dir}/experiments/experiment_mouse_st\n"
     ]
    },
    {
     "name": "stderr",
     "output_type": "stream",
     "text": [
      "Global seed set to 42\n"
     ]
    },
    {
     "name": "stdout",
     "output_type": "stream",
     "text": [
      "Key experiment not in base config.\n",
      "Using deterministic mode\n"
     ]
    },
    {
     "data": {
      "text/html": [
       "wandb version 0.14.2 is available!  To upgrade, please run:\n",
       " $ pip install wandb --upgrade"
      ],
      "text/plain": [
       "<IPython.core.display.HTML object>"
      ]
     },
     "metadata": {},
     "output_type": "display_data"
    },
    {
     "data": {
      "text/html": [
       "Tracking run with wandb version 0.14.1"
      ],
      "text/plain": [
       "<IPython.core.display.HTML object>"
      ]
     },
     "metadata": {},
     "output_type": "display_data"
    },
    {
     "data": {
      "text/html": [
       "Run data is saved locally in <code>/data/DISSECT/logs/wandb/run-20230411_095802-96nq56n9</code>"
      ],
      "text/plain": [
       "<IPython.core.display.HTML object>"
      ]
     },
     "metadata": {},
     "output_type": "display_data"
    },
    {
     "data": {
      "text/html": [
       "Syncing run <strong><a href='https://wandb.ai/dschaub/dissect-spatial/runs/96nq56n9' target=\"_blank\">chocolate-breeze-303</a></strong> to <a href='https://wandb.ai/dschaub/dissect-spatial' target=\"_blank\">Weights & Biases</a> (<a href='https://wandb.me/run' target=\"_blank\">docs</a>)<br/>"
      ],
      "text/plain": [
       "<IPython.core.display.HTML object>"
      ]
     },
     "metadata": {},
     "output_type": "display_data"
    },
    {
     "data": {
      "text/html": [
       " View project at <a href='https://wandb.ai/dschaub/dissect-spatial' target=\"_blank\">https://wandb.ai/dschaub/dissect-spatial</a>"
      ],
      "text/plain": [
       "<IPython.core.display.HTML object>"
      ]
     },
     "metadata": {},
     "output_type": "display_data"
    },
    {
     "data": {
      "text/html": [
       " View run at <a href='https://wandb.ai/dschaub/dissect-spatial/runs/96nq56n9' target=\"_blank\">https://wandb.ai/dschaub/dissect-spatial/runs/96nq56n9</a>"
      ],
      "text/plain": [
       "<IPython.core.display.HTML object>"
      ]
     },
     "metadata": {},
     "output_type": "display_data"
    },
    {
     "name": "stderr",
     "output_type": "stream",
     "text": [
      "GPU available: True (cuda), used: True\n",
      "TPU available: False, using: 0 TPU cores\n",
      "IPU available: False, using: 0 IPUs\n",
      "HPU available: False, using: 0 HPUs\n",
      "`Trainer(limit_train_batches=1)` was configured so 1 batch per epoch will be used.\n",
      "LOCAL_RANK: 0 - CUDA_VISIBLE_DEVICES: [0,1,2,3,4,5,6,7]\n",
      "\n",
      "  | Name | Type           | Params\n",
      "----------------------------------------\n",
      "0 | net  | DissectSpatial | 258 K \n",
      "----------------------------------------\n",
      "258 K     Trainable params\n",
      "0         Non-trainable params\n",
      "258 K     Total params\n",
      "1.033     Total estimated model params size (MB)\n",
      "`Trainer.fit` stopped: `max_steps=5000` reached.\n"
     ]
    },
    {
     "data": {
      "text/html": [
       "Waiting for W&B process to finish... <strong style=\"color:green\">(success).</strong>"
      ],
      "text/plain": [
       "<IPython.core.display.HTML object>"
      ]
     },
     "metadata": {},
     "output_type": "display_data"
    },
    {
     "data": {
      "application/vnd.jupyter.widget-view+json": {
       "model_id": "d4f15f6e0bcf46b4931ae7415323d8bc",
       "version_major": 2,
       "version_minor": 0
      },
      "text/plain": [
       "VBox(children=(Label(value='29.400 MB of 29.400 MB uploaded (0.000 MB deduped)\\r'), FloatProgress(value=1.0, m…"
      ]
     },
     "metadata": {},
     "output_type": "display_data"
    },
    {
     "data": {
      "text/html": [
       "<style>\n",
       "    table.wandb td:nth-child(1) { padding: 0 10px; text-align: left ; width: auto;} td:nth-child(2) {text-align: left ; width: 100%}\n",
       "    .wandb-row { display: flex; flex-direction: row; flex-wrap: wrap; justify-content: flex-start; width: 100% }\n",
       "    .wandb-col { display: flex; flex-direction: column; flex-basis: 100%; flex: 1; padding: 10px; }\n",
       "    </style>\n",
       "<div class=\"wandb-row\"><div class=\"wandb-col\"><h3>Run history:</h3><br/><table class=\"wandb\"><tr><td>epoch</td><td>▁▁▁▂▂▂▂▂▂▃▃▃▃▃▄▄▄▄▄▄▅▅▅▅▅▅▆▆▆▆▆▇▇▇▇▇▇███</td></tr><tr><td>train/beta</td><td>▁▁▁▁▁▁▁▁▁▁▁▁▁▁▁▁▁▁▁▁▁▁▁▁▁▁▁▁▁▁▁▁▁▁▁▁▁▁▁▁</td></tr><tr><td>train/l1_loss</td><td>▂▁▁▁▂▂▃▃▄▄▄▅▅▅▅▆▆▆▆▆▆▇▇▇▇▇▇▇▇▇██████████</td></tr><tr><td>train/l2_loss</td><td>▁▁▁▁▂▂▂▃▃▃▄▄▄▄▅▅▅▅▆▆▆▆▆▇▇▇▇▇▇▇▇▇▇███████</td></tr><tr><td>train/mix_loss</td><td>▁▁▂▃▄▅▆▇▇█████▇██▇▆▇█▇▆▅▆▇▆▆▆▆▅▆▆▃▄▃▃▄▄▂</td></tr><tr><td>train/sim_loss</td><td>██▇▆▆▅▅▄▄▄▄▃▃▃▃▃▃▂▂▂▂▂▂▂▂▂▁▁▁▁▁▁▁▁▁▁▁▁▁▁</td></tr><tr><td>train/total_loss</td><td>██▇▆▆▅▅▄▄▄▄▃▃▃▃▃▃▂▂▂▂▂▂▂▂▂▁▁▁▁▁▁▁▁▁▁▁▁▁▁</td></tr><tr><td>trainer/global_step</td><td>▁▁▁▂▂▂▂▂▂▃▃▃▃▃▄▄▄▄▄▄▅▅▅▅▅▅▆▆▆▆▆▇▇▇▇▇▇███</td></tr></table><br/></div><div class=\"wandb-col\"><h3>Run summary:</h3><br/><table class=\"wandb\"><tr><td>epoch</td><td>4999</td></tr><tr><td>train/beta</td><td>7.5</td></tr><tr><td>train/l1_loss</td><td>45418.29297</td></tr><tr><td>train/l2_loss</td><td>1015.57056</td></tr><tr><td>train/mix_loss</td><td>0.00024</td></tr><tr><td>train/sim_loss</td><td>0.18774</td></tr><tr><td>train/total_loss</td><td>0.19971</td></tr><tr><td>trainer/global_step</td><td>4999</td></tr></table><br/></div></div>"
      ],
      "text/plain": [
       "<IPython.core.display.HTML object>"
      ]
     },
     "metadata": {},
     "output_type": "display_data"
    },
    {
     "data": {
      "text/html": [
       " View run <strong style=\"color:#cdcd00\">chocolate-breeze-303</strong> at: <a href='https://wandb.ai/dschaub/dissect-spatial/runs/96nq56n9' target=\"_blank\">https://wandb.ai/dschaub/dissect-spatial/runs/96nq56n9</a><br/>Synced 6 W&B file(s), 11 media file(s), 11 artifact file(s) and 0 other file(s)"
      ],
      "text/plain": [
       "<IPython.core.display.HTML object>"
      ]
     },
     "metadata": {},
     "output_type": "display_data"
    },
    {
     "data": {
      "text/html": [
       "Find logs at: <code>./logs/wandb/run-20230411_095802-96nq56n9/logs</code>"
      ],
      "text/plain": [
       "<IPython.core.display.HTML object>"
      ]
     },
     "metadata": {},
     "output_type": "display_data"
    },
    {
     "name": "stdout",
     "output_type": "stream",
     "text": [
      "Running experiment on ${paths.data_dir}spatial/lymph_node/st_lymph.h5ad and experiment path ${paths.root_dir}/experiments/experiment_lymph_node\n"
     ]
    },
    {
     "name": "stderr",
     "output_type": "stream",
     "text": [
      "Global seed set to 42\n"
     ]
    },
    {
     "name": "stdout",
     "output_type": "stream",
     "text": [
      "Key experiment not in base config.\n",
      "Using deterministic mode\n"
     ]
    },
    {
     "data": {
      "text/html": [
       "wandb version 0.14.2 is available!  To upgrade, please run:\n",
       " $ pip install wandb --upgrade"
      ],
      "text/plain": [
       "<IPython.core.display.HTML object>"
      ]
     },
     "metadata": {},
     "output_type": "display_data"
    },
    {
     "data": {
      "text/html": [
       "Tracking run with wandb version 0.14.1"
      ],
      "text/plain": [
       "<IPython.core.display.HTML object>"
      ]
     },
     "metadata": {},
     "output_type": "display_data"
    },
    {
     "data": {
      "text/html": [
       "Run data is saved locally in <code>/data/DISSECT/logs/wandb/run-20230411_100309-rix40004</code>"
      ],
      "text/plain": [
       "<IPython.core.display.HTML object>"
      ]
     },
     "metadata": {},
     "output_type": "display_data"
    },
    {
     "data": {
      "text/html": [
       "Syncing run <strong><a href='https://wandb.ai/dschaub/dissect-spatial/runs/rix40004' target=\"_blank\">laced-cosmos-304</a></strong> to <a href='https://wandb.ai/dschaub/dissect-spatial' target=\"_blank\">Weights & Biases</a> (<a href='https://wandb.me/run' target=\"_blank\">docs</a>)<br/>"
      ],
      "text/plain": [
       "<IPython.core.display.HTML object>"
      ]
     },
     "metadata": {},
     "output_type": "display_data"
    },
    {
     "data": {
      "text/html": [
       " View project at <a href='https://wandb.ai/dschaub/dissect-spatial' target=\"_blank\">https://wandb.ai/dschaub/dissect-spatial</a>"
      ],
      "text/plain": [
       "<IPython.core.display.HTML object>"
      ]
     },
     "metadata": {},
     "output_type": "display_data"
    },
    {
     "data": {
      "text/html": [
       " View run at <a href='https://wandb.ai/dschaub/dissect-spatial/runs/rix40004' target=\"_blank\">https://wandb.ai/dschaub/dissect-spatial/runs/rix40004</a>"
      ],
      "text/plain": [
       "<IPython.core.display.HTML object>"
      ]
     },
     "metadata": {},
     "output_type": "display_data"
    },
    {
     "name": "stderr",
     "output_type": "stream",
     "text": [
      "GPU available: True (cuda), used: True\n",
      "TPU available: False, using: 0 TPU cores\n",
      "IPU available: False, using: 0 IPUs\n",
      "HPU available: False, using: 0 HPUs\n",
      "`Trainer(limit_train_batches=1)` was configured so 1 batch per epoch will be used.\n",
      "LOCAL_RANK: 0 - CUDA_VISIBLE_DEVICES: [0,1,2,3,4,5,6,7]\n",
      "\n",
      "  | Name | Type           | Params\n",
      "----------------------------------------\n",
      "0 | net  | DissectSpatial | 259 K \n",
      "----------------------------------------\n",
      "259 K     Trainable params\n",
      "0         Non-trainable params\n",
      "259 K     Total params\n",
      "1.036     Total estimated model params size (MB)\n",
      "`Trainer.fit` stopped: `max_steps=5000` reached.\n"
     ]
    },
    {
     "data": {
      "text/html": [
       "Waiting for W&B process to finish... <strong style=\"color:green\">(success).</strong>"
      ],
      "text/plain": [
       "<IPython.core.display.HTML object>"
      ]
     },
     "metadata": {},
     "output_type": "display_data"
    },
    {
     "data": {
      "application/vnd.jupyter.widget-view+json": {
       "model_id": "5b727ee3576e451f8cd14d15c83f885d",
       "version_major": 2,
       "version_minor": 0
      },
      "text/plain": [
       "VBox(children=(Label(value='64.215 MB of 64.215 MB uploaded (0.000 MB deduped)\\r'), FloatProgress(value=1.0, m…"
      ]
     },
     "metadata": {},
     "output_type": "display_data"
    },
    {
     "data": {
      "text/html": [
       "<style>\n",
       "    table.wandb td:nth-child(1) { padding: 0 10px; text-align: left ; width: auto;} td:nth-child(2) {text-align: left ; width: 100%}\n",
       "    .wandb-row { display: flex; flex-direction: row; flex-wrap: wrap; justify-content: flex-start; width: 100% }\n",
       "    .wandb-col { display: flex; flex-direction: column; flex-basis: 100%; flex: 1; padding: 10px; }\n",
       "    </style>\n",
       "<div class=\"wandb-row\"><div class=\"wandb-col\"><h3>Run history:</h3><br/><table class=\"wandb\"><tr><td>epoch</td><td>▁▁▁▂▂▂▂▂▂▃▃▃▃▃▄▄▄▄▄▄▅▅▅▅▅▅▆▆▆▆▆▇▇▇▇▇▇███</td></tr><tr><td>train/beta</td><td>▁▁▁▁▁▁▁▁▁▁▁▁▁▁▁▁▁▁▁▁▁▁▁▁▁▁▁▁▁▁▁▁▁▁▁▁▁▁▁▁</td></tr><tr><td>train/l1_loss</td><td>▁▁▁▁▂▂▃▃▃▄▄▄▅▅▅▅▅▆▆▆▆▆▆▆▇▇▇▇▇▇▇▇▇███████</td></tr><tr><td>train/l2_loss</td><td>▁▁▁▁▂▂▂▂▃▃▃▄▄▄▄▄▅▅▅▅▅▅▆▆▆▆▆▆▇▇▇▇▇▇▇█████</td></tr><tr><td>train/mix_loss</td><td>▁▁▁▂▂▃▄▅▅▅▆▇█▇▇█▇▇▇▇█▇█████████▇▇█▇▇▇▇▇▇</td></tr><tr><td>train/sim_loss</td><td>███▇▇▆▆▆▅▅▅▅▄▄▄▄▄▃▃▃▃▃▃▃▂▂▂▂▂▂▂▂▂▂▁▁▁▁▁▁</td></tr><tr><td>train/total_loss</td><td>███▇▇▆▆▆▅▅▅▅▄▄▄▄▄▃▃▃▃▃▃▃▂▂▂▂▂▂▂▂▂▂▁▁▁▁▁▁</td></tr><tr><td>trainer/global_step</td><td>▁▁▁▂▂▂▂▂▂▃▃▃▃▃▄▄▄▄▄▄▅▅▅▅▅▅▆▆▆▆▆▇▇▇▇▇▇███</td></tr></table><br/></div><div class=\"wandb-col\"><h3>Run summary:</h3><br/><table class=\"wandb\"><tr><td>epoch</td><td>4999</td></tr><tr><td>train/beta</td><td>7.5</td></tr><tr><td>train/l1_loss</td><td>55700.24219</td></tr><tr><td>train/l2_loss</td><td>1301.14917</td></tr><tr><td>train/mix_loss</td><td>0.0002</td></tr><tr><td>train/sim_loss</td><td>0.64309</td></tr><tr><td>train/total_loss</td><td>0.6576</td></tr><tr><td>trainer/global_step</td><td>4999</td></tr></table><br/></div></div>"
      ],
      "text/plain": [
       "<IPython.core.display.HTML object>"
      ]
     },
     "metadata": {},
     "output_type": "display_data"
    },
    {
     "data": {
      "text/html": [
       " View run <strong style=\"color:#cdcd00\">laced-cosmos-304</strong> at: <a href='https://wandb.ai/dschaub/dissect-spatial/runs/rix40004' target=\"_blank\">https://wandb.ai/dschaub/dissect-spatial/runs/rix40004</a><br/>Synced 6 W&B file(s), 11 media file(s), 11 artifact file(s) and 0 other file(s)"
      ],
      "text/plain": [
       "<IPython.core.display.HTML object>"
      ]
     },
     "metadata": {},
     "output_type": "display_data"
    },
    {
     "data": {
      "text/html": [
       "Find logs at: <code>./logs/wandb/run-20230411_100309-rix40004/logs</code>"
      ],
      "text/plain": [
       "<IPython.core.display.HTML object>"
      ]
     },
     "metadata": {},
     "output_type": "display_data"
    }
   ],
   "source": [
    "# run training on all datasets if no dataset is specified\n",
    "tags = \"new-experiment\"\n",
    "tags = \"ablation-new\"\n",
    "tags = \"latestv6\"\n",
    "wandb_mode = \"disabled\"\n",
    "wandb_mode = \"online\"\n",
    "if wandb_mode == \"online\":\n",
    "    config.trainer.fast_dev_run = False\n",
    "else:\n",
    "    config.trainer.fast_dev_run = True\n",
    "config.trainer.deterministic = True\n",
    "for st_path, experiment_path in list(zip(st_paths, experiment_paths))[0::]:\n",
    "    print(f\"Running experiment on {st_path} and experiment path {experiment_path}\")\n",
    "    metric_dict, object_dict = run_experiment(\n",
    "        config,\n",
    "        st_path,\n",
    "        experiment_path,\n",
    "        wandb_mode=wandb_mode,\n",
    "        tags=tags,\n",
    "        config_path=\"../../configs\",\n",
    "        progress_bar=False\n",
    "    )\n"
   ]
  },
  {
   "cell_type": "code",
   "execution_count": 68,
   "metadata": {},
   "outputs": [
    {
     "name": "stdout",
     "output_type": "stream",
     "text": [
      "   | Name                                          | Type                            | Params\n",
      "---------------------------------------------------------------------------------------------------\n",
      "0  | net                                           | DissectSpatial                  | 4.4 M \n",
      "1  | net.encoder                                   | MultiChannelGNNEncoder          | 4.4 M \n",
      "2  | net.encoder.mlp                               | MLP                             | 4.0 M \n",
      "3  | net.encoder.mlp.act                           | ReLU6                           | 0     \n",
      "4  | net.encoder.mlp.lins                          | ModuleList                      | 4.0 M \n",
      "5  | net.encoder.mlp.lins.0                        | Linear                          | 3.8 M \n",
      "6  | net.encoder.mlp.lins.1                        | Linear                          | 131 K \n",
      "7  | net.encoder.mlp.lins.2                        | Linear                          | 32.9 K\n",
      "8  | net.encoder.mlp.norms                         | ModuleList                      | 0     \n",
      "9  | net.encoder.mlp.norms.0                       | Identity                        | 0     \n",
      "10 | net.encoder.mlp.norms.1                       | Identity                        | 0     \n",
      "11 | net.encoder.layers                            | ModuleList                      | 364 K \n",
      "12 | net.encoder.layers.0                          | MultiChannelGNNBlock            | 364 K \n",
      "13 | net.encoder.layers.0.spatial_conv             | GATv2Conv                       | 133 K \n",
      "14 | net.encoder.layers.0.spatial_conv.aggr_module | SumAggregation                  | 0     \n",
      "15 | net.encoder.layers.0.spatial_conv.lin_l       | Linear                          | 66.0 K\n",
      "16 | net.encoder.layers.0.spatial_conv.lin_r       | Linear                          | 66.0 K\n",
      "17 | net.encoder.layers.0.spatial_conv.lin_edge    | Linear                          | 512   \n",
      "18 | net.encoder.layers.0.mha                      | MultiHeadSelfAttention          | 66.3 K\n",
      "19 | net.encoder.layers.0.mha.out_proj             | NonDynamicallyQuantizableLinear | 16.5 K\n",
      "20 | net.encoder.layers.0.concat_linear            | Linear                          | 98.4 K\n",
      "21 | net.encoder.layers.0.ffn                      | FeedForwardBlock                | 65.9 K\n",
      "22 | net.encoder.layers.0.ffn.linear1              | Linear                          | 33.0 K\n",
      "23 | net.encoder.layers.0.ffn.linear2              | Linear                          | 32.9 K\n",
      "24 | net.encoder.layers.0.ffn.dropout1             | Dropout                         | 0     \n",
      "25 | net.encoder.layers.0.ffn.dropout2             | Dropout                         | 0     \n",
      "26 | net.encoder.layers.0.ffn.activation           | ReLU6                           | 0     \n",
      "27 | net.encoder.layers.0.activation               | ReLU6                           | 0     \n",
      "28 | net.encoder.layers.0.norm1                    | BatchNorm                       | 256   \n",
      "29 | net.encoder.layers.0.norm1.module             | BatchNorm1d                     | 256   \n",
      "30 | net.encoder.layers.0.norm2                    | BatchNorm                       | 256   \n",
      "31 | net.encoder.layers.0.norm2.module             | BatchNorm1d                     | 256   \n",
      "32 | net.encoder.pos_encoder                       | Linear                          | 384   \n",
      "33 | net.encoder.sim_pos_encoder                   | Linear                          | 384   \n",
      "34 | net.decoder                                   | CelltypeDecoder                 | 9.0 K \n",
      "35 | net.decoder.mlp                               | MLP                             | 9.0 K \n",
      "36 | net.decoder.mlp.act                           | ReLU6                           | 0     \n",
      "37 | net.decoder.mlp.lins                          | ModuleList                      | 9.0 K \n",
      "38 | net.decoder.mlp.lins.0                        | Linear                          | 8.3 K \n",
      "39 | net.decoder.mlp.lins.1                        | Linear                          | 780   \n",
      "40 | net.decoder.mlp.norms                         | ModuleList                      | 0     \n",
      "41 | net.decoder.mlp.norms.0                       | Identity                        | 0     \n",
      "42 | net.decoder.softmax                           | Softmax                         | 0     \n",
      "---------------------------------------------------------------------------------------------------\n",
      "4.4 M     Trainable params\n",
      "0         Non-trainable params\n",
      "4.4 M     Total params\n",
      "17.487    Total estimated model params size (MB)\n"
     ]
    }
   ],
   "source": [
    "summary = ModelSummary(object_dict[\"model\"], max_depth=-1)\n",
    "print(summary)"
   ]
  },
  {
   "cell_type": "code",
   "execution_count": 69,
   "metadata": {},
   "outputs": [
    {
     "data": {
      "text/plain": [
       "DissectSpatial(\n",
       "  (encoder): MultiChannelGNNEncoder(\n",
       "    (mlp): MLP(-1, 512, 256, 128)\n",
       "    (layers): ModuleList(\n",
       "      (0): MultiChannelGNNBlock(\n",
       "        (spatial_conv): GATv2Conv(128, 128, heads=4)\n",
       "        (mha): MultiHeadSelfAttention(\n",
       "          (out_proj): NonDynamicallyQuantizableLinear(in_features=128, out_features=128, bias=True)\n",
       "        )\n",
       "        (concat_linear): Linear(in_features=768, out_features=128, bias=True)\n",
       "        (ffn): FeedForwardBlock(\n",
       "          (linear1): Linear(in_features=128, out_features=256, bias=True)\n",
       "          (linear2): Linear(in_features=256, out_features=128, bias=True)\n",
       "          (dropout1): Dropout(p=0.0, inplace=False)\n",
       "          (dropout2): Dropout(p=0.0, inplace=False)\n",
       "          (activation): ReLU6()\n",
       "        )\n",
       "        (activation): ReLU6()\n",
       "        (norm1): BatchNorm(128)\n",
       "        (norm2): BatchNorm(128)\n",
       "      )\n",
       "    )\n",
       "    (pos_encoder): Linear(in_features=2, out_features=128, bias=True)\n",
       "    (sim_pos_encoder): Linear(in_features=2, out_features=128, bias=True)\n",
       "  )\n",
       "  (decoder): CelltypeDecoder(\n",
       "    (mlp): MLP(128, 64, 12)\n",
       "    (softmax): Softmax(dim=-1)\n",
       "  )\n",
       ")"
      ]
     },
     "execution_count": 69,
     "metadata": {},
     "output_type": "execute_result"
    }
   ],
   "source": [
    "object_dict[\"net\"]"
   ]
  },
  {
   "cell_type": "code",
   "execution_count": 61,
   "metadata": {},
   "outputs": [
    {
     "name": "stdout",
     "output_type": "stream",
     "text": [
      "torch.Size([512, 7485])\n",
      "torch.Size([512])\n",
      "torch.Size([256, 512])\n",
      "torch.Size([256])\n",
      "torch.Size([128, 256])\n",
      "torch.Size([128])\n",
      "torch.Size([1, 4, 128])\n",
      "torch.Size([512])\n",
      "torch.Size([512, 128])\n",
      "torch.Size([512])\n",
      "torch.Size([512, 128])\n",
      "torch.Size([512])\n",
      "torch.Size([512, 1])\n",
      "torch.Size([384, 128])\n",
      "torch.Size([384])\n",
      "torch.Size([1, 1, 128])\n",
      "torch.Size([1, 1, 128])\n",
      "torch.Size([128, 128])\n",
      "torch.Size([128])\n",
      "torch.Size([128, 768])\n",
      "torch.Size([128])\n",
      "torch.Size([256, 128])\n",
      "torch.Size([256])\n",
      "torch.Size([128, 256])\n",
      "torch.Size([128])\n",
      "torch.Size([128])\n",
      "torch.Size([128])\n",
      "torch.Size([128])\n",
      "torch.Size([128])\n",
      "torch.Size([128, 2])\n",
      "torch.Size([128])\n",
      "torch.Size([128, 2])\n",
      "torch.Size([128])\n",
      "torch.Size([64, 128])\n",
      "torch.Size([64])\n",
      "torch.Size([12, 64])\n",
      "torch.Size([12])\n"
     ]
    }
   ],
   "source": [
    "for param in object_dict[\"net\"].parameters():\n",
    "    print(param.shape)"
   ]
  }
 ],
 "metadata": {
  "kernelspec": {
   "display_name": "dissect_spatial",
   "language": "python",
   "name": "python3"
  },
  "language_info": {
   "codemirror_mode": {
    "name": "ipython",
    "version": 3
   },
   "file_extension": ".py",
   "mimetype": "text/x-python",
   "name": "python",
   "nbconvert_exporter": "python",
   "pygments_lexer": "ipython3",
   "version": "3.8.16"
  },
  "orig_nbformat": 4,
  "vscode": {
   "interpreter": {
    "hash": "f49dfde4eb06c0a3671c2401bd6b6f73cacae937d3de5334273372658b299ab4"
   }
  }
 },
 "nbformat": 4,
 "nbformat_minor": 2
}
