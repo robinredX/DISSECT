{
 "cells": [
  {
   "cell_type": "code",
   "execution_count": 1,
   "metadata": {},
   "outputs": [],
   "source": [
    "%load_ext autoreload\n",
    "%autoreload 2"
   ]
  },
  {
   "cell_type": "code",
   "execution_count": 2,
   "metadata": {},
   "outputs": [],
   "source": [
    "import pyrootutils\n",
    "\n",
    "base_path = pyrootutils.setup_root(\n",
    "    search_from=\".\",\n",
    "    indicator=[\".gitignore\"],\n",
    "    project_root_env_var=True,  # set the PROJECT_ROOT environment variable to root directory\n",
    "    dotenv=True,  # load environment variables from .env if exists in root directory\n",
    "    pythonpath=True,  # add root directory to the PYTHONPATH (helps with imports)\n",
    "    cwd=True,  # change current working directory to the root directory (helps with filepaths)\n",
    ")\n",
    "import matplotlib.pyplot as plt\n",
    "import numpy as np\n",
    "from pytorch_lightning.utilities.model_summary import ModelSummary\n",
    "import wandb\n",
    "import copy\n",
    "import pandas as pd\n",
    "from scipy.sparse import csr_matrix, coo_matrix\n",
    "from omegaconf import DictConfig\n",
    "from omegaconf import OmegaConf\n",
    "from hydra import initialize, initialize_config_module, initialize_config_dir, compose\n",
    "import hydra\n",
    "from hydra.core.hydra_config import HydraConfig\n",
    "from hydra.core.utils import _flush_loggers, configure_log\n",
    "\n",
    "from src.data.datasets import *\n",
    "from src.data.utils import *\n",
    "from src.utils.wandb import *\n",
    "from src.utils.config_utils import *\n",
    "from src.utils.experiment import run_experiment\n",
    "from src.utils.data_paths_valid import *\n",
    "\n",
    "# from src.utils.data_paths_anca import *\n",
    "\n",
    "\n",
    "from torch_geometric.nn.resolver import (\n",
    "    activation_resolver,\n",
    "    normalization_resolver,\n",
    ")\n",
    "from torch_geometric.nn import GCNConv, GCN, MLP, TransformerConv, GATv2Conv, GAT\n",
    "\n",
    "\n",
    "# ignore all warnings\n",
    "import warnings\n",
    "\n",
    "warnings.filterwarnings(\"ignore\")\n",
    "\n",
    "plt.rcParams[\"figure.dpi\"] = 80"
   ]
  },
  {
   "attachments": {},
   "cell_type": "markdown",
   "metadata": {},
   "source": [
    "## Define data paths"
   ]
  },
  {
   "cell_type": "code",
   "execution_count": 3,
   "metadata": {},
   "outputs": [],
   "source": [
    "st_paths, experiment_paths = get_paths_for_training(\n",
    "    st_data_files,\n",
    "    sc_data_files,\n",
    "    celltype_cols=celltype_cols,\n",
    "    extra_settings_sim=extra_settings_sim,\n",
    "    extra_settings_prep=extra_settings_prep,\n",
    "    use_old_experiment_paths=True,\n",
    "    experiment_dirs=experiment_dirs,\n",
    ")\n",
    "# st_paths, experiment_paths"
   ]
  },
  {
   "cell_type": "code",
   "execution_count": 5,
   "metadata": {},
   "outputs": [],
   "source": [
    "st_files_real = [\n",
    "    \"spatial/simulations_kidney_slideSeq_v2/UMOD-WT.WT-2a_resolution75.h5ad\",\n",
    "    \"spatial/simulations_kidney_slideSeq_v2/UMOD-KI.KI-4b_resolution105.h5ad\",\n",
    "]\n",
    "st_files_sim = [\n",
    "    \"../deconvolution/simulation/slideseqv2_mouse_kidney_2a/st_simulated.h5ad\",\n",
    "    \"../deconvolution/simulation/slideseqv2_mouse_kidney_4b/st_simulated.h5ad\",\n",
    "]"
   ]
  },
  {
   "cell_type": "code",
   "execution_count": 6,
   "metadata": {},
   "outputs": [
    {
     "name": "stdout",
     "output_type": "stream",
     "text": [
      "<class 'numpy.ndarray'>\n",
      "<class 'scipy.sparse._csr.csr_matrix'>\n"
     ]
    }
   ],
   "source": [
    "index = 6\n",
    "\n",
    "st_data = sc.read_h5ad(f\"data/{st_data_files[index]}\")\n",
    "sc_data = sc.read_h5ad(f\"data/{sc_data_files[index]}\")\n",
    "\n",
    "print(type(st_data.X))\n",
    "print(type(sc_data.X))"
   ]
  },
  {
   "attachments": {},
   "cell_type": "markdown",
   "metadata": {},
   "source": [
    "## Setup experiment config"
   ]
  },
  {
   "attachments": {},
   "cell_type": "markdown",
   "metadata": {},
   "source": [
    "### Load default config"
   ]
  },
  {
   "cell_type": "code",
   "execution_count": 7,
   "metadata": {},
   "outputs": [],
   "source": [
    "experiment_name = None\n",
    "# experiment_name = \"hybrid\"\n",
    "experiment_name = \"multi_channel\"\n",
    "\n",
    "config_path = \"../../configs\"\n",
    "config_name = \"train.yaml\"\n",
    "\n",
    "base_config = load_base_config(\n",
    "    experiment_name=experiment_name,\n",
    "    config_path=config_path,\n",
    "    config_name=config_name,\n",
    "    overrides=[\"data=digraph.yaml\"],\n",
    ")\n",
    "# print_config(config)\n",
    "\n",
    "# print_config(base_config)"
   ]
  },
  {
   "attachments": {},
   "cell_type": "markdown",
   "metadata": {},
   "source": [
    "### Load config from previous experiment"
   ]
  },
  {
   "cell_type": "code",
   "execution_count": 8,
   "metadata": {},
   "outputs": [
    {
     "name": "stdout",
     "output_type": "stream",
     "text": [
      "Net in config: True\n"
     ]
    }
   ],
   "source": [
    "# run_name = \"northern-river-217\"\n",
    "run_name = \"fiery-music-355\"\n",
    "project = \"dissect-spatial\"\n",
    "\n",
    "run_name = \"electric-field-1\"\n",
    "run_name = \"eager-wind-245\"\n",
    "project = \"multi-channel-gnn\"\n",
    "\n",
    "config = get_run_config(run_name, project=project)\n",
    "# run_name = \"electric-sweep-37\"\n",
    "# # run_name = \"swift-sweep-658\"\n",
    "# config = get_run_config(run_name, project=\"DISSECT-src\")\n",
    "config = convert_wandb_to_dict_config(config)\n",
    "config.experiment = \"multi_channel\"\n",
    "\n",
    "# optionally override config with baseconfig\n",
    "config.data = base_config.data\n",
    "\n",
    "# print_config(config)"
   ]
  },
  {
   "attachments": {},
   "cell_type": "markdown",
   "metadata": {},
   "source": [
    "### Set custom values"
   ]
  },
  {
   "attachments": {},
   "cell_type": "markdown",
   "metadata": {},
   "source": [
    "#### Modify network architecture"
   ]
  },
  {
   "cell_type": "code",
   "execution_count": 13,
   "metadata": {},
   "outputs": [],
   "source": [
    "config.net.encoder_kwargs.lin_channel = True\n",
    "config.net.encoder_kwargs.spatial_channel = False\n",
    "config.net.encoder_kwargs.mha_channel = False\n",
    "config.net.encoder_kwargs.latent_channel = False\n",
    "\n",
    "config.net.encoder_kwargs.inter_skip = False\n",
    "\n",
    "# config.net.latent_dim = 64\n",
    "# # config.net.encoder_kwargs.fusion = \"gating\"\n",
    "# # config.net.encoder_kwargs.fusion = \"concat_skip\"\n",
    "# config.net.encoder_kwargs.fusion = \"concat\"\n",
    "# config.net.encoder_kwargs.lin_channel = True\n",
    "# config.net.encoder_kwargs.num_heads = 4\n",
    "# config.net.encoder_kwargs.num_layers = 1\n",
    "# config.net.encoder_kwargs.use_ffn = False\n",
    "# config.net.encoder_kwargs.use_pos = False\n",
    "# config.net.encoder_kwargs.plain_last = False\n",
    "# # config.net.use_pos = True\n",
    "# config.net.encoder_kwargs.use_sparse = False\n",
    "# config.net.decoder_kwargs.norm = None\n",
    "# config.net.encoder_kwargs.norm = None\n",
    "# config.net.encoder_kwargs.norm_last = False\n",
    "# try:\n",
    "#     del config.net.encoder_kwargs.knn\n",
    "#     del config.net.encoder_kwargs.cosine\n",
    "#     # del config.net.encoder_kwargs.num_heads\n",
    "# except:\n",
    "#     pass\n",
    "# config.net.encoder_kwargs.spatial_channel_kwargs.num_layers = 2\n",
    "# config.net.encoder_kwargs.spatial_channel_kwargs.activation = \"elu\"\n",
    "# config.net.encoder_kwargs.spatial_channel_kwargs.back_to_latent = True\n",
    "# config.net.encoder_kwargs.spatial_channel_kwargs.conv_type = \"gcn\"\n"
   ]
  },
  {
   "cell_type": "code",
   "execution_count": 14,
   "metadata": {},
   "outputs": [
    {
     "name": "stdout",
     "output_type": "stream",
     "text": [
      "use_id: false\n",
      "use_pos: false\n",
      "_target_: src.models.dissect_spatial.DissectSpatial\n",
      "activation: elu\n",
      "latent_dim: 256\n",
      "encoder_type: gnn\n",
      "decoder_kwargs:\n",
      "  norm: None\n",
      "  num_layers: 2\n",
      "  hidden_channels: 64\n",
      "encoder_kwargs:\n",
      "  norm: None\n",
      "  fusion: concat_skip\n",
      "  use_id: false\n",
      "  dropout: 0\n",
      "  use_ffn: false\n",
      "  use_pos: false\n",
      "  num_heads: 4\n",
      "  inter_skip: false\n",
      "  norm_first: false\n",
      "  num_layers: 1\n",
      "  plain_last: false\n",
      "  use_sparse: true\n",
      "  lin_channel: true\n",
      "  mha_channel: false\n",
      "  sim_pos_enc: false\n",
      "  ff_hidden_dim: 256\n",
      "  latent_channel: false\n",
      "  spatial_channel: false\n",
      "  mha_channel_kwargs:\n",
      "    norm: None\n",
      "    num_heads: 8\n",
      "    activation: None\n",
      "    num_layers: 1\n",
      "  init_embed_hidden_channels:\n",
      "  - 512\n",
      "  - 256\n",
      "  latent_channel_kwargs:\n",
      "    norm: None\n",
      "    num_heads: 8\n",
      "    activation: None\n",
      "    num_layers: 1\n",
      "  spatial_channel_kwargs:\n",
      "    norm: None\n",
      "    num_heads: 8\n",
      "    activation: None\n",
      "    num_layers: 1\n",
      "\n"
     ]
    }
   ],
   "source": [
    "print_config(config.net)\n"
   ]
  },
  {
   "attachments": {},
   "cell_type": "markdown",
   "metadata": {},
   "source": [
    "#### Modify training parameters"
   ]
  },
  {
   "cell_type": "code",
   "execution_count": 10,
   "metadata": {},
   "outputs": [],
   "source": [
    "# config.data.radius = 0.04\n",
    "# config.data.use_rctd_genes = True\n",
    "# config.data.with_platform_effects = True\n",
    "# config.data.renormalize = False\n"
   ]
  },
  {
   "cell_type": "code",
   "execution_count": 15,
   "metadata": {},
   "outputs": [],
   "source": [
    "# config.model.l2_lambda = 5e-5\n",
    "# config.model.l1_lambda = 0.0\n",
    "# config.model.weight_decay = 0.0\n",
    "# config.model.beta = 5\n",
    "# config.model.learning_rate = 1e-3\n",
    "# config.model.alpha_max = 0.1\n",
    "# config.model.alpha_min = 0.0\n",
    "# config.model.g_mix_from_g_real = False\n",
    "# config.model.combine_graphs = True\n",
    "config.model.combine_graphs = False\n",
    "\n",
    "config.trainer.max_steps = 5000\n",
    "config.trainer.check_val_every_n_epoch = 500\n"
   ]
  },
  {
   "cell_type": "code",
   "execution_count": null,
   "metadata": {},
   "outputs": [],
   "source": [
    "# print_config(config.model)\n",
    "# print_config(config.trainer)\n"
   ]
  },
  {
   "attachments": {},
   "cell_type": "markdown",
   "metadata": {},
   "source": [
    "## Run training"
   ]
  },
  {
   "cell_type": "code",
   "execution_count": null,
   "metadata": {},
   "outputs": [],
   "source": [
    "# run training on all datasets if no dataset is specified\n",
    "tags = \"latest\"\n",
    "tags = \"latestv2\"\n",
    "# tags = \"anca_latest\"\n",
    "# tags = \"reference_switch\"\n",
    "# tags = \"latestv2-switched\"\n",
    "project = \"multi-channel-gnn\"\n",
    "wandb_mode = \"disabled\"\n",
    "wandb_mode = \"online\"\n",
    "\n",
    "if wandb_mode == \"online\":\n",
    "    config.trainer.fast_dev_run = False\n",
    "else:\n",
    "    config.trainer.fast_dev_run = True\n",
    "config.trainer.deterministic = True\n",
    "# config.trainer.deterministic = False\n",
    "for st_path, experiment_path in list(zip(st_paths, experiment_paths))[0:1]:\n",
    "    print(f\"Running experiment on {st_path} and experiment path {experiment_path}\")\n",
    "    config.data.st_path = st_path\n",
    "    config.data.reference_dir = experiment_path\n",
    "    metric_dict, object_dict = run_experiment(\n",
    "        config,\n",
    "        wandb_mode=wandb_mode,\n",
    "        tags=tags,\n",
    "        config_path=\"../../configs\",\n",
    "        progress_bar=False,\n",
    "        device=7,\n",
    "        project=project,\n",
    "    )"
   ]
  },
  {
   "cell_type": "code",
   "execution_count": null,
   "metadata": {},
   "outputs": [],
   "source": [
    "summary = ModelSummary(object_dict[\"model\"], max_depth=-1)\n",
    "print(summary)\n"
   ]
  },
  {
   "cell_type": "code",
   "execution_count": null,
   "metadata": {},
   "outputs": [],
   "source": [
    "object_dict[\"net\"]"
   ]
  },
  {
   "cell_type": "code",
   "execution_count": null,
   "metadata": {},
   "outputs": [],
   "source": [
    "for param in object_dict[\"net\"].parameters():\n",
    "    print(param.shape)\n"
   ]
  },
  {
   "attachments": {},
   "cell_type": "markdown",
   "metadata": {},
   "source": [
    "## Run DiGraph training"
   ]
  },
  {
   "cell_type": "code",
   "execution_count": 16,
   "metadata": {},
   "outputs": [
    {
     "name": "stdout",
     "output_type": "stream",
     "text": [
      "Running experiment on ${paths.data_dir}spatial/simulations_kidney_slideSeq_v2/UMOD-WT.WT-2a_resolution75.h5ad and ${paths.root_dir}/../deconvolution/simulation/slideseqv2_mouse_kidney_2a/st_simulated.h5ad\n"
     ]
    },
    {
     "name": "stderr",
     "output_type": "stream",
     "text": [
      "Global seed set to 42\n"
     ]
    },
    {
     "name": "stdout",
     "output_type": "stream",
     "text": [
      "Key combine_graphs not in base config.\n",
      "Key num_heads not in base config.\n",
      "Key experiment not in base config.\n",
      "Using deterministic mode\n",
      "Removing genes with variance below 0.1\n",
      "Genes in real data before filtering: 18961\n",
      "Genes in simulated data before filtering: 18961\n",
      "Genes in real data after filtering: 6113\n",
      "Genes in simulated data after filtering: 13668\n",
      "There are 6113 common genes in both datasets.\n",
      "Input kwargs: {'num_heads': 4}\n"
     ]
    },
    {
     "data": {
      "application/vnd.jupyter.widget-view+json": {
       "model_id": "bc04e9ea5d66413cb8194abe21c0f375",
       "version_major": 2,
       "version_minor": 0
      },
      "text/plain": [
       "VBox(children=(Label(value='Waiting for wandb.init()...\\r'), FloatProgress(value=0.016669316325957577, max=1.0…"
      ]
     },
     "metadata": {},
     "output_type": "display_data"
    },
    {
     "data": {
      "text/html": [
       "Tracking run with wandb version 0.15.3"
      ],
      "text/plain": [
       "<IPython.core.display.HTML object>"
      ]
     },
     "metadata": {},
     "output_type": "display_data"
    },
    {
     "data": {
      "text/html": [
       "Run data is saved locally in <code>/data/DISSECT/logs/wandb/run-20230602_135727-4rohuj12</code>"
      ],
      "text/plain": [
       "<IPython.core.display.HTML object>"
      ]
     },
     "metadata": {},
     "output_type": "display_data"
    },
    {
     "data": {
      "text/html": [
       "Syncing run <strong><a href='https://wandb.ai/dschaub/multi-channel-gnn/runs/4rohuj12' target=\"_blank\">lucky-fire-531</a></strong> to <a href='https://wandb.ai/dschaub/multi-channel-gnn' target=\"_blank\">Weights & Biases</a> (<a href='https://wandb.me/run' target=\"_blank\">docs</a>)<br/>"
      ],
      "text/plain": [
       "<IPython.core.display.HTML object>"
      ]
     },
     "metadata": {},
     "output_type": "display_data"
    },
    {
     "data": {
      "text/html": [
       " View project at <a href='https://wandb.ai/dschaub/multi-channel-gnn' target=\"_blank\">https://wandb.ai/dschaub/multi-channel-gnn</a>"
      ],
      "text/plain": [
       "<IPython.core.display.HTML object>"
      ]
     },
     "metadata": {},
     "output_type": "display_data"
    },
    {
     "data": {
      "text/html": [
       " View run at <a href='https://wandb.ai/dschaub/multi-channel-gnn/runs/4rohuj12' target=\"_blank\">https://wandb.ai/dschaub/multi-channel-gnn/runs/4rohuj12</a>"
      ],
      "text/plain": [
       "<IPython.core.display.HTML object>"
      ]
     },
     "metadata": {},
     "output_type": "display_data"
    },
    {
     "name": "stderr",
     "output_type": "stream",
     "text": [
      "GPU available: True (cuda), used: True\n",
      "TPU available: False, using: 0 TPU cores\n",
      "IPU available: False, using: 0 IPUs\n",
      "HPU available: False, using: 0 HPUs\n",
      "`Trainer(limit_train_batches=1)` was configured so 1 batch per epoch will be used.\n",
      "LOCAL_RANK: 0 - CUDA_VISIBLE_DEVICES: [0,1,2,3,4,5,6,7]\n",
      "\n",
      "  | Name | Type           | Params\n",
      "----------------------------------------\n",
      "0 | net  | DissectSpatial | 280 K \n",
      "----------------------------------------\n",
      "280 K     Trainable params\n",
      "0         Non-trainable params\n",
      "280 K     Total params\n",
      "1.123     Total estimated model params size (MB)\n"
     ]
    },
    {
     "name": "stdout",
     "output_type": "stream",
     "text": [
      "Epoch: 0, mean_rmse: 0.13705699145793915, mean_corr: 0.0021247830932867185, mean_ccc: -3.0253615101293047e-05\n",
      "Saving predictions...\n",
      "Epoch: 499, mean_rmse: 0.16550347208976746, mean_corr: 0.11210999563122157, mean_ccc: 0.05838067045735656\n",
      "Saving predictions...\n",
      "Epoch: 999, mean_rmse: 0.16775226593017578, mean_corr: 0.11462167091773724, mean_ccc: 0.0665320533176891\n",
      "Saving predictions...\n",
      "Epoch: 1499, mean_rmse: 0.17159324884414673, mean_corr: 0.14774045026536492, mean_ccc: 0.10666477261501954\n",
      "Saving predictions...\n",
      "Epoch: 1999, mean_rmse: 0.1791640818119049, mean_corr: 0.09149982338274629, mean_ccc: 0.0912811945428558\n",
      "Saving predictions...\n",
      "Epoch: 2499, mean_rmse: 0.18254795670509338, mean_corr: 0.06559020202275195, mean_ccc: 0.07754926793556242\n",
      "Saving predictions...\n",
      "Epoch: 2999, mean_rmse: 0.18457502126693726, mean_corr: 0.05227734628803131, mean_ccc: 0.07107377777621235\n",
      "Saving predictions...\n",
      "Epoch: 3499, mean_rmse: 0.18641170859336853, mean_corr: 0.04247076805673238, mean_ccc: 0.06483675931235075\n",
      "Saving predictions...\n",
      "Epoch: 3999, mean_rmse: 0.1874324530363083, mean_corr: 0.03810881715480684, mean_ccc: 0.061082354329954645\n",
      "Saving predictions...\n",
      "Epoch: 4499, mean_rmse: 0.18811041116714478, mean_corr: 0.03534722075947067, mean_ccc: 0.05842753523526005\n",
      "Saving predictions...\n",
      "Epoch: 4999, mean_rmse: 0.18858371675014496, mean_corr: 0.0337999907979017, mean_ccc: 0.0568608797031493\n",
      "Saving predictions...\n"
     ]
    },
    {
     "name": "stderr",
     "output_type": "stream",
     "text": [
      "`Trainer.fit` stopped: `max_steps=5000` reached.\n"
     ]
    },
    {
     "data": {
      "text/html": [
       "Waiting for W&B process to finish... <strong style=\"color:green\">(success).</strong>"
      ],
      "text/plain": [
       "<IPython.core.display.HTML object>"
      ]
     },
     "metadata": {},
     "output_type": "display_data"
    },
    {
     "data": {
      "application/vnd.jupyter.widget-view+json": {
       "model_id": "ed9d954ce533491ba7f0857f2d353c0e",
       "version_major": 2,
       "version_minor": 0
      },
      "text/plain": [
       "VBox(children=(Label(value='20.337 MB of 20.337 MB uploaded (0.000 MB deduped)\\r'), FloatProgress(value=1.0, m…"
      ]
     },
     "metadata": {},
     "output_type": "display_data"
    },
    {
     "data": {
      "text/html": [
       "<style>\n",
       "    table.wandb td:nth-child(1) { padding: 0 10px; text-align: left ; width: auto;} td:nth-child(2) {text-align: left ; width: 100%}\n",
       "    .wandb-row { display: flex; flex-direction: row; flex-wrap: wrap; justify-content: flex-start; width: 100% }\n",
       "    .wandb-col { display: flex; flex-direction: column; flex-basis: 100%; flex: 1; padding: 10px; }\n",
       "    </style>\n",
       "<div class=\"wandb-row\"><div class=\"wandb-col\"><h3>Run history:</h3><br/><table class=\"wandb\"><tr><td>epoch</td><td>▁▁▁▂▂▂▂▂▂▃▃▃▃▃▄▄▄▄▄▄▅▅▅▅▅▅▆▆▆▆▆▇▇▇▇▇▇███</td></tr><tr><td>train/beta</td><td>▁▁▁▁▁▁▁▁▁▁▁▁▁▁▁▁████████████████▆▆▆▆▆▆▆▆</td></tr><tr><td>train/l1_loss</td><td>▁▁▁▁▂▂▂▂▂▃▃▃▄▄▄▅▅▅▆▆▆▆▆▇▇▇▇▇▇▇▇█████████</td></tr><tr><td>train/l2_loss</td><td>▁▁▁▁▂▂▂▂▂▂▃▃▄▄▄▅▅▅▅▆▆▆▆▆▇▇▇▇▇▇▇▇████████</td></tr><tr><td>train/mix_loss</td><td>▁▁▁▁▁▁▁▁▂▁▂▂▃▄▁▅▅▆▆▅▇▇▅██▇███▆▇▂▆█▅▇▆▇▆▇</td></tr><tr><td>train/sim_loss</td><td>█▅▄▄▄▃▃▃▃▃▃▂▂▂▂▂▂▁▁▁▁▁▁▁▁▁▁▁▁▁▁▁▁▁▁▁▁▁▁▁</td></tr><tr><td>train/total_loss</td><td>█▅▄▄▃▃▃▃▃▃▃▂▂▂▂▂▂▂▁▁▁▁▁▁▁▁▁▁▁▁▁▁▁▁▁▁▁▁▁▁</td></tr><tr><td>trainer/global_step</td><td>▁▁▁▁▂▂▂▂▂▃▃▃▃▃▃▄▄▄▄▄▅▅▅▅▅▅▆▆▆▆▆▆▇▇▇▇▇███</td></tr><tr><td>validation/mean_ccc</td><td>▁▂█▆▄▃▂▂▁▁</td></tr><tr><td>validation/mean_ccc_</td><td>▁▂█▆▄▃▂▂▁▁</td></tr><tr><td>validation/mean_corr</td><td>▆▆█▅▃▂▂▁▁▁</td></tr><tr><td>validation/mean_corr_</td><td>▆▆█▅▃▂▂▁▁▁</td></tr><tr><td>validation/mean_rmse</td><td>▁▂▃▅▆▇▇███</td></tr><tr><td>validation/mean_rmse_</td><td>▁▂▃▅▆▇▇███</td></tr></table><br/></div><div class=\"wandb-col\"><h3>Run summary:</h3><br/><table class=\"wandb\"><tr><td>epoch</td><td>4999</td></tr><tr><td>train/beta</td><td>10.0</td></tr><tr><td>train/l1_loss</td><td>36822.35547</td></tr><tr><td>train/l2_loss</td><td>912.90271</td></tr><tr><td>train/mix_loss</td><td>0.00024</td></tr><tr><td>train/sim_loss</td><td>0.00571</td></tr><tr><td>train/total_loss</td><td>0.00906</td></tr><tr><td>trainer/global_step</td><td>4999</td></tr><tr><td>validation/mean_ccc_</td><td>0.05686</td></tr><tr><td>validation/mean_corr_</td><td>0.0338</td></tr><tr><td>validation/mean_rmse_</td><td>0.18858</td></tr></table><br/></div></div>"
      ],
      "text/plain": [
       "<IPython.core.display.HTML object>"
      ]
     },
     "metadata": {},
     "output_type": "display_data"
    },
    {
     "data": {
      "text/html": [
       " View run <strong style=\"color:#cdcd00\">lucky-fire-531</strong> at: <a href='https://wandb.ai/dschaub/multi-channel-gnn/runs/4rohuj12' target=\"_blank\">https://wandb.ai/dschaub/multi-channel-gnn/runs/4rohuj12</a><br/>Synced 6 W&B file(s), 11 media file(s), 11 artifact file(s) and 0 other file(s)"
      ],
      "text/plain": [
       "<IPython.core.display.HTML object>"
      ]
     },
     "metadata": {},
     "output_type": "display_data"
    },
    {
     "data": {
      "text/html": [
       "Find logs at: <code>./logs/wandb/run-20230602_135727-4rohuj12/logs</code>"
      ],
      "text/plain": [
       "<IPython.core.display.HTML object>"
      ]
     },
     "metadata": {},
     "output_type": "display_data"
    }
   ],
   "source": [
    "st_paths_real = [\"${paths.data_dir}\" + f\"{st_file}\" for st_file in st_files_real]\n",
    "st_paths_sim = [\"${paths.root_dir}\" + f\"/{st_file}\" for st_file in st_files_sim] \n",
    "\n",
    "tags = [\"digraph\"]\n",
    "project = \"multi-channel-gnn\"\n",
    "wandb_mode = \"test\"\n",
    "# wandb_mode = \"disabled\"\n",
    "wandb_mode = \"online\"\n",
    "\n",
    "if wandb_mode == \"online\":\n",
    "    config.trainer.fast_dev_run = False\n",
    "elif wandb_mode == \"test\":\n",
    "    wandb_mode = \"disabled\"\n",
    "    config.trainer.fast_dev_run = True\n",
    "else:\n",
    "    config.trainer.fast_dev_run = False\n",
    "\n",
    "config.trainer.deterministic = True\n",
    "\n",
    "st_path_real = st_paths_real[0]\n",
    "st_path_sim = st_paths_sim[0]\n",
    "\n",
    "print(f\"Running experiment on {st_path_real} and {st_path_sim}\")\n",
    "config.data.st_path_real = st_path_real\n",
    "config.data.st_path_sim = st_path_sim\n",
    "metric_dict, object_dict = run_experiment(\n",
    "    config,\n",
    "    wandb_mode=wandb_mode,\n",
    "    tags=tags,\n",
    "    config_path=\"../../configs\",\n",
    "    progress_bar=False,\n",
    "    device=7,\n",
    "    project=project,\n",
    "    overrides=[\"data=digraph.yaml\"],\n",
    ")"
   ]
  },
  {
   "cell_type": "code",
   "execution_count": null,
   "metadata": {},
   "outputs": [],
   "source": []
  },
  {
   "attachments": {},
   "cell_type": "markdown",
   "metadata": {},
   "source": [
    "## Run multiple trainings"
   ]
  },
  {
   "cell_type": "code",
   "execution_count": null,
   "metadata": {},
   "outputs": [],
   "source": []
  }
 ],
 "metadata": {
  "kernelspec": {
   "display_name": "dissect_spatial",
   "language": "python",
   "name": "python3"
  },
  "language_info": {
   "codemirror_mode": {
    "name": "ipython",
    "version": 3
   },
   "file_extension": ".py",
   "mimetype": "text/x-python",
   "name": "python",
   "nbconvert_exporter": "python",
   "pygments_lexer": "ipython3",
   "version": "3.8.16"
  },
  "orig_nbformat": 4,
  "vscode": {
   "interpreter": {
    "hash": "f49dfde4eb06c0a3671c2401bd6b6f73cacae937d3de5334273372658b299ab4"
   }
  }
 },
 "nbformat": 4,
 "nbformat_minor": 2
}
