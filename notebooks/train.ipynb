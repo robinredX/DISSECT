{
 "cells": [
  {
   "cell_type": "code",
   "execution_count": 1,
   "metadata": {},
   "outputs": [],
   "source": [
    "%load_ext autoreload\n",
    "%autoreload 2"
   ]
  },
  {
   "cell_type": "code",
   "execution_count": 2,
   "metadata": {},
   "outputs": [],
   "source": [
    "import pyrootutils\n",
    "\n",
    "base_path = pyrootutils.setup_root(\n",
    "    search_from=\".\",\n",
    "    indicator=[\".gitignore\"],\n",
    "    project_root_env_var=True,  # set the PROJECT_ROOT environment variable to root directory\n",
    "    dotenv=True,  # load environment variables from .env if exists in root directory\n",
    "    pythonpath=True,  # add root directory to the PYTHONPATH (helps with imports)\n",
    "    cwd=True,  # change current working directory to the root directory (helps with filepaths)\n",
    ")\n",
    "import matplotlib.pyplot as plt\n",
    "import numpy as np\n",
    "from pytorch_lightning.utilities.model_summary import ModelSummary\n",
    "import wandb\n",
    "import copy\n",
    "import pandas as pd\n",
    "from omegaconf import DictConfig\n",
    "from omegaconf import OmegaConf\n",
    "from hydra import initialize, initialize_config_module, initialize_config_dir, compose\n",
    "import hydra\n",
    "from hydra.core.hydra_config import HydraConfig\n",
    "from hydra.core.utils import _flush_loggers, configure_log\n",
    "\n",
    "from src.data.datasets import *\n",
    "from src.utils.wandb import *\n",
    "from src.utils.config_utils import *\n",
    "from src.utils.experiment import run_experiment\n",
    "from src.utils.data_paths_valid import get_paths_for_training\n",
    "\n",
    "\n",
    "from torch_geometric.nn.resolver import (\n",
    "    activation_resolver,\n",
    "    normalization_resolver,\n",
    ")\n",
    "from torch_geometric.nn import GCNConv, GCN, MLP, TransformerConv, GATv2Conv, GAT\n",
    "\n",
    "\n",
    "\n",
    "\n",
    "# ignore all warnings\n",
    "import warnings\n",
    "\n",
    "warnings.filterwarnings(\"ignore\")\n",
    "\n",
    "plt.rcParams[\"figure.dpi\"] = 80"
   ]
  },
  {
   "attachments": {},
   "cell_type": "markdown",
   "metadata": {},
   "source": [
    "## Define data paths"
   ]
  },
  {
   "cell_type": "code",
   "execution_count": 3,
   "metadata": {},
   "outputs": [],
   "source": [
    "st_paths, experiment_paths = get_paths_for_training()\n",
    "# st_paths, experiment_paths"
   ]
  },
  {
   "cell_type": "code",
   "execution_count": 4,
   "metadata": {},
   "outputs": [
    {
     "data": {
      "text/plain": [
       "['${paths.root_dir}/experiments/experiment_kidney_slideSeq_v2_UMOD-WT.WT-2a_resolution75',\n",
       " '${paths.root_dir}/experiments/experiment_kidney_slideSeq_v2_105',\n",
       " '${paths.root_dir}/experiments/experiment_heart_seqFISH/embryo1_resolution0.11',\n",
       " '${paths.root_dir}/experiments/experiment_heart_seqFISH/embryo2_resolution0.11',\n",
       " '${paths.root_dir}/experiments/experiment_heart_seqFISH/embryo3_resolution0.11',\n",
       " '${paths.root_dir}/experiments/experiment_hypothalamus_MERFISH/0_resolution0.04',\n",
       " '${paths.root_dir}/experiments/experiment_hypothalamus_MERFISH/1_resolution0.04',\n",
       " '${paths.root_dir}/experiments/experiment_mouse_st',\n",
       " '${paths.root_dir}/experiments/experiment_lymph_node',\n",
       " '${paths.root_dir}/experiments/experiment_kidney/UMOD-WT.WT-2a_resolution75+kidney_full_v3_harmonized_celltypes_raw_mouseGenes_cell_type',\n",
       " '${paths.root_dir}/experiments/experiment_kidney/UMOD-KI.KI-4b_resolution105+kidney_full_v3_harmonized_celltypes_raw_mouseGenes_cell_type',\n",
       " '${paths.root_dir}/experiments/experiment_heart_seqFISH/embryo1_resolution0.11+embryo3_celltype_mapped_refined',\n",
       " '${paths.root_dir}/experiments/experiment_heart_seqFISH/embryo2_resolution0.11+embryo3_celltype_mapped_refined',\n",
       " '${paths.root_dir}/experiments/experiment_hypothalamus_MERFISH/0_resolution0.04+2_cell_type',\n",
       " '${paths.root_dir}/experiments/experiment_hypothalamus_MERFISH/1_resolution0.04+2_cell_type',\n",
       " '${paths.root_dir}/experiments/experiment_kidney/UMOD-WT.WT-2a_resolution75+kidney_full_v3_harmonized_celltypes_raw_mouseGenes_cell_type+no_var_cut',\n",
       " '${paths.root_dir}/experiments/experiment_kidney/UMOD-KI.KI-4b_resolution105+kidney_full_v3_harmonized_celltypes_raw_mouseGenes_cell_type+no_var_cut']"
      ]
     },
     "execution_count": 4,
     "metadata": {},
     "output_type": "execute_result"
    }
   ],
   "source": [
    "experiment_paths"
   ]
  },
  {
   "attachments": {},
   "cell_type": "markdown",
   "metadata": {},
   "source": [
    "## Setup experiment config"
   ]
  },
  {
   "attachments": {},
   "cell_type": "markdown",
   "metadata": {},
   "source": [
    "### Load default config"
   ]
  },
  {
   "cell_type": "code",
   "execution_count": 5,
   "metadata": {},
   "outputs": [],
   "source": [
    "experiment_name = None\n",
    "# experiment_name = \"hybrid\"\n",
    "experiment_name = \"multi_channel\"\n",
    "if experiment_name is not None:\n",
    "    overrides = [f\"experiment={experiment_name}\"]\n",
    "else:\n",
    "    overrides = []\n",
    "\n",
    "hydra.core.global_hydra.GlobalHydra.instance().clear()\n",
    "# import GlobalHydra\n",
    "\n",
    "config_path = \"../configs\"\n",
    "config_name = \"train.yaml\"\n",
    "\n",
    "initialize(version_base=\"1.3\", config_path=config_path)\n",
    "config = compose(\n",
    "    config_name=config_name,\n",
    "    overrides=overrides,\n",
    "    return_hydra_config=True,\n",
    ")\n",
    "HydraConfig.instance().set_config(config)\n",
    "OmegaConf.set_struct(config, False)\n",
    "del config[\"hydra\"]\n",
    "config.experiment = experiment_name\n",
    "# print_config(config)"
   ]
  },
  {
   "attachments": {},
   "cell_type": "markdown",
   "metadata": {},
   "source": [
    "### Load config from previous experiment"
   ]
  },
  {
   "cell_type": "code",
   "execution_count": 6,
   "metadata": {},
   "outputs": [
    {
     "name": "stdout",
     "output_type": "stream",
     "text": [
      "Net in config: True\n"
     ]
    }
   ],
   "source": [
    "# run_name = \"northern-river-217\"\n",
    "run_name = \"fiery-music-355\"\n",
    "project = \"dissect-spatial\"\n",
    "\n",
    "run_name = \"electric-field-1\"\n",
    "run_name = \"eager-wind-245\"\n",
    "project = \"multi-channel-gnn\"\n",
    "\n",
    "config = get_run_config(run_name, project=project)\n",
    "# run_name = \"electric-sweep-37\"\n",
    "# # run_name = \"swift-sweep-658\"\n",
    "# config = get_run_config(run_name, project=\"DISSECT-src\")\n",
    "config = convert_wandb_to_dict_config(config)\n",
    "config.experiment = \"multi_channel\""
   ]
  },
  {
   "attachments": {},
   "cell_type": "markdown",
   "metadata": {},
   "source": [
    "### Set custom values"
   ]
  },
  {
   "attachments": {},
   "cell_type": "markdown",
   "metadata": {},
   "source": [
    "#### Modify network architecture"
   ]
  },
  {
   "cell_type": "code",
   "execution_count": 7,
   "metadata": {},
   "outputs": [],
   "source": [
    "# config.net.latent_dim = 64\n",
    "# # config.net.encoder_kwargs.fusion = \"gating\"\n",
    "# # config.net.encoder_kwargs.fusion = \"concat_skip\"\n",
    "# config.net.encoder_kwargs.fusion = \"concat\"\n",
    "# config.net.encoder_kwargs.lin_channel = True\n",
    "# config.net.encoder_kwargs.num_heads = 4\n",
    "# config.net.encoder_kwargs.num_layers = 1\n",
    "# config.net.encoder_kwargs.use_ffn = False\n",
    "# config.net.encoder_kwargs.use_pos = False\n",
    "# config.net.encoder_kwargs.plain_last = False\n",
    "# # config.net.use_pos = True\n",
    "# config.net.encoder_kwargs.use_sparse = False\n",
    "# config.net.decoder_kwargs.norm = None\n",
    "# config.net.encoder_kwargs.norm = None\n",
    "# config.net.encoder_kwargs.norm_last = False\n",
    "# try:\n",
    "#     del config.net.encoder_kwargs.knn\n",
    "#     del config.net.encoder_kwargs.cosine\n",
    "#     # del config.net.encoder_kwargs.num_heads\n",
    "# except:\n",
    "#     pass\n",
    "# config.net.encoder_kwargs.spatial_channel_kwargs.num_layers = 2\n",
    "# config.net.encoder_kwargs.spatial_channel_kwargs.activation = \"elu\"\n",
    "# config.net.encoder_kwargs.spatial_channel_kwargs.back_to_latent = True\n",
    "# config.net.encoder_kwargs.spatial_channel_kwargs.conv_type = \"gcn\""
   ]
  },
  {
   "cell_type": "code",
   "execution_count": 8,
   "metadata": {},
   "outputs": [
    {
     "name": "stdout",
     "output_type": "stream",
     "text": [
      "use_id: false\n",
      "use_pos: false\n",
      "_target_: src.models.dissect_spatial.DissectSpatial\n",
      "activation: elu\n",
      "latent_dim: 256\n",
      "encoder_type: gnn\n",
      "decoder_kwargs:\n",
      "  norm: None\n",
      "  num_layers: 2\n",
      "  hidden_channels: 64\n",
      "encoder_kwargs:\n",
      "  norm: None\n",
      "  fusion: concat_skip\n",
      "  use_id: false\n",
      "  dropout: 0\n",
      "  use_ffn: false\n",
      "  use_pos: false\n",
      "  num_heads: 4\n",
      "  inter_skip: true\n",
      "  norm_first: false\n",
      "  num_layers: 1\n",
      "  plain_last: false\n",
      "  use_sparse: true\n",
      "  lin_channel: true\n",
      "  mha_channel: true\n",
      "  sim_pos_enc: false\n",
      "  ff_hidden_dim: 256\n",
      "  latent_channel: false\n",
      "  spatial_channel: true\n",
      "  mha_channel_kwargs:\n",
      "    norm: None\n",
      "    num_heads: 8\n",
      "    activation: None\n",
      "    num_layers: 1\n",
      "  init_embed_hidden_channels:\n",
      "  - 512\n",
      "  - 256\n",
      "  latent_channel_kwargs:\n",
      "    norm: None\n",
      "    num_heads: 8\n",
      "    activation: None\n",
      "    num_layers: 1\n",
      "  spatial_channel_kwargs:\n",
      "    norm: None\n",
      "    num_heads: 8\n",
      "    activation: None\n",
      "    num_layers: 1\n",
      "\n"
     ]
    }
   ],
   "source": [
    "print_config(config.net)"
   ]
  },
  {
   "attachments": {},
   "cell_type": "markdown",
   "metadata": {},
   "source": [
    "#### Modify training parameters"
   ]
  },
  {
   "cell_type": "code",
   "execution_count": 9,
   "metadata": {},
   "outputs": [
    {
     "name": "stdout",
     "output_type": "stream",
     "text": [
      "0.02\n"
     ]
    }
   ],
   "source": [
    "# config.data.radius = 0.04\n",
    "print(config.data.radius)"
   ]
  },
  {
   "cell_type": "code",
   "execution_count": 10,
   "metadata": {},
   "outputs": [],
   "source": [
    "# config.model.l2_lambda = 5e-5\n",
    "# config.model.l1_lambda = 0.0\n",
    "# config.model.weight_decay = 0.0\n",
    "# config.model.beta = 5\n",
    "# config.model.learning_rate = 1e-3\n",
    "# config.model.alpha_max = 0.1\n",
    "# config.model.alpha_min = 0.0\n",
    "# config.model.g_mix_from_g_real = False\n",
    "config.trainer.max_steps = 5000\n",
    "# config.trainer.check_val_every_n_epoch = 500"
   ]
  },
  {
   "cell_type": "code",
   "execution_count": 11,
   "metadata": {},
   "outputs": [
    {
     "name": "stdout",
     "output_type": "stream",
     "text": [
      "beta: None\n",
      "_target_: src.models.modules.DeconvolutionModel\n",
      "plotting: false\n",
      "alpha_max: 0.2\n",
      "alpha_min: 0\n",
      "l1_lambda: 0\n",
      "l2_lambda: 1.0e-06\n",
      "log_hparams: false\n",
      "sim_loss_fn: kl_div\n",
      "weight_decay: 0\n",
      "learning_rate: 1.0e-05\n",
      "save_predictions: true\n",
      "move_data_to_device: true\n",
      "\n"
     ]
    }
   ],
   "source": [
    "print_config(config.model)\n",
    "# print_config(config.trainer)"
   ]
  },
  {
   "attachments": {},
   "cell_type": "markdown",
   "metadata": {},
   "source": [
    "## Run training"
   ]
  },
  {
   "cell_type": "code",
   "execution_count": 12,
   "metadata": {},
   "outputs": [
    {
     "name": "stdout",
     "output_type": "stream",
     "text": [
      "Running experiment on ${paths.data_dir}spatial/simulations_kidney_slideSeq_v2/UMOD-WT.WT-2a_resolution75.h5ad and experiment path ${paths.root_dir}/experiments/experiment_kidney_slideSeq_v2_UMOD-WT.WT-2a_resolution75\n"
     ]
    },
    {
     "name": "stderr",
     "output_type": "stream",
     "text": [
      "Global seed set to 42\n"
     ]
    },
    {
     "name": "stdout",
     "output_type": "stream",
     "text": [
      "Key num_heads not in base config.\n",
      "Key experiment not in base config.\n",
      "Using deterministic mode\n",
      "Input kwargs: {'num_heads': 4}\n"
     ]
    },
    {
     "name": "stderr",
     "output_type": "stream",
     "text": [
      "Failed to detect the name of this notebook, you can set it manually with the WANDB_NOTEBOOK_NAME environment variable to enable code saving.\n",
      "\u001b[34m\u001b[1mwandb\u001b[0m: Currently logged in as: \u001b[33mdschaub\u001b[0m. Use \u001b[1m`wandb login --relogin`\u001b[0m to force relogin\n"
     ]
    },
    {
     "data": {
      "text/html": [
       "Tracking run with wandb version 0.15.0"
      ],
      "text/plain": [
       "<IPython.core.display.HTML object>"
      ]
     },
     "metadata": {},
     "output_type": "display_data"
    },
    {
     "data": {
      "text/html": [
       "Run data is saved locally in <code>/data/DISSECT/logs/wandb/run-20230502_104752-dnoiztyx</code>"
      ],
      "text/plain": [
       "<IPython.core.display.HTML object>"
      ]
     },
     "metadata": {},
     "output_type": "display_data"
    },
    {
     "data": {
      "text/html": [
       "Syncing run <strong><a href='https://wandb.ai/dschaub/multi-channel-gnn/runs/dnoiztyx' target=\"_blank\">light-field-486</a></strong> to <a href='https://wandb.ai/dschaub/multi-channel-gnn' target=\"_blank\">Weights & Biases</a> (<a href='https://wandb.me/run' target=\"_blank\">docs</a>)<br/>"
      ],
      "text/plain": [
       "<IPython.core.display.HTML object>"
      ]
     },
     "metadata": {},
     "output_type": "display_data"
    },
    {
     "data": {
      "text/html": [
       " View project at <a href='https://wandb.ai/dschaub/multi-channel-gnn' target=\"_blank\">https://wandb.ai/dschaub/multi-channel-gnn</a>"
      ],
      "text/plain": [
       "<IPython.core.display.HTML object>"
      ]
     },
     "metadata": {},
     "output_type": "display_data"
    },
    {
     "data": {
      "text/html": [
       " View run at <a href='https://wandb.ai/dschaub/multi-channel-gnn/runs/dnoiztyx' target=\"_blank\">https://wandb.ai/dschaub/multi-channel-gnn/runs/dnoiztyx</a>"
      ],
      "text/plain": [
       "<IPython.core.display.HTML object>"
      ]
     },
     "metadata": {},
     "output_type": "display_data"
    },
    {
     "name": "stderr",
     "output_type": "stream",
     "text": [
      "GPU available: True (cuda), used: True\n",
      "TPU available: False, using: 0 TPU cores\n",
      "IPU available: False, using: 0 IPUs\n",
      "HPU available: False, using: 0 HPUs\n",
      "`Trainer(limit_train_batches=1)` was configured so 1 batch per epoch will be used.\n",
      "LOCAL_RANK: 0 - CUDA_VISIBLE_DEVICES: [0,1,2,3,4,5,6,7]\n",
      "\n",
      "  | Name | Type           | Params\n",
      "----------------------------------------\n",
      "0 | net  | DissectSpatial | 1.1 M \n",
      "----------------------------------------\n",
      "1.1 M     Trainable params\n",
      "0         Non-trainable params\n",
      "1.1 M     Total params\n",
      "4.295     Total estimated model params size (MB)\n"
     ]
    },
    {
     "name": "stdout",
     "output_type": "stream",
     "text": [
      "Saving predictions...\n",
      "Saving predictions...\n",
      "Saving predictions...\n",
      "Saving predictions...\n",
      "Saving predictions...\n",
      "Saving predictions...\n",
      "Saving predictions...\n",
      "Saving predictions...\n",
      "Saving predictions...\n",
      "Saving predictions...\n",
      "Saving predictions...\n"
     ]
    },
    {
     "name": "stderr",
     "output_type": "stream",
     "text": [
      "`Trainer.fit` stopped: `max_steps=5000` reached.\n"
     ]
    },
    {
     "data": {
      "text/html": [
       "Waiting for W&B process to finish... <strong style=\"color:green\">(success).</strong>"
      ],
      "text/plain": [
       "<IPython.core.display.HTML object>"
      ]
     },
     "metadata": {},
     "output_type": "display_data"
    },
    {
     "data": {
      "application/vnd.jupyter.widget-view+json": {
       "model_id": "bd88352ccdfc43f0a4b0f0b357bfae49",
       "version_major": 2,
       "version_minor": 0
      },
      "text/plain": [
       "VBox(children=(Label(value='19.870 MB of 19.870 MB uploaded (0.000 MB deduped)\\r'), FloatProgress(value=1.0, m…"
      ]
     },
     "metadata": {},
     "output_type": "display_data"
    },
    {
     "data": {
      "text/html": [
       "<style>\n",
       "    table.wandb td:nth-child(1) { padding: 0 10px; text-align: left ; width: auto;} td:nth-child(2) {text-align: left ; width: 100%}\n",
       "    .wandb-row { display: flex; flex-direction: row; flex-wrap: wrap; justify-content: flex-start; width: 100% }\n",
       "    .wandb-col { display: flex; flex-direction: column; flex-basis: 100%; flex: 1; padding: 10px; }\n",
       "    </style>\n",
       "<div class=\"wandb-row\"><div class=\"wandb-col\"><h3>Run history:</h3><br/><table class=\"wandb\"><tr><td>epoch</td><td>▁▁▁▂▂▂▂▂▂▃▃▃▃▃▄▄▄▄▄▄▅▅▅▅▅▅▆▆▆▆▆▇▇▇▇▇▇███</td></tr><tr><td>train/beta</td><td>▁▁▁▁▁▁▁▁▁▁▁▁▁▁▁▁████████████████▆▆▆▆▆▆▆▆</td></tr><tr><td>train/l1_loss</td><td>██▇▇▇▆▆▅▅▄▄▃▃▂▂▁▁▁▁▁▁▁▁▂▂▂▂▂▂▂▂▂▂▂▃▃▃▃▃▃</td></tr><tr><td>train/l2_loss</td><td>█▇▇▆▆▅▅▄▄▃▃▃▂▂▂▁▁▁▁▁▁▁▁▁▁▂▂▂▂▂▂▂▂▂▂▂▂▃▃▃</td></tr><tr><td>train/mix_loss</td><td>▁▁▃▄▄▅▅▆▆▇▅█▇▇██▅▅▄▅▅▅▅▅▅▅▄▂▄▅▂▅▃▄▃▄▅▄▃▃</td></tr><tr><td>train/sim_loss</td><td>█▆▅▄▄▃▃▃▂▂▂▂▂▂▂▂▂▂▂▂▁▁▁▁▁▁▁▁▁▁▁▁▁▁▁▁▁▁▁▁</td></tr><tr><td>train/total_loss</td><td>█▆▅▄▄▃▃▃▂▂▂▂▂▂▂▂▂▂▂▂▂▂▂▂▁▁▁▁▁▁▁▁▁▁▁▁▁▁▁▁</td></tr><tr><td>trainer/global_step</td><td>▁▁▁▁▂▂▂▂▂▃▃▃▃▃▃▄▄▄▄▄▅▅▅▅▅▅▆▆▆▆▆▆▇▇▇▇▇███</td></tr><tr><td>validation/mean_ccc</td><td>▁▆▇▇▇█████</td></tr><tr><td>validation/mean_ccc_</td><td>▁▆▇▇▇█████</td></tr><tr><td>validation/mean_corr</td><td>▁▇▇▇█████▇</td></tr><tr><td>validation/mean_corr_</td><td>▁▇▇▇█████▇</td></tr><tr><td>validation/mean_rmse</td><td>█▁▃▆▃▃▃▄▅▆</td></tr><tr><td>validation/mean_rmse_</td><td>█▁▃▆▃▃▃▄▅▆</td></tr></table><br/></div><div class=\"wandb-col\"><h3>Run summary:</h3><br/><table class=\"wandb\"><tr><td>epoch</td><td>4999</td></tr><tr><td>train/beta</td><td>10.0</td></tr><tr><td>train/l1_loss</td><td>60202.34766</td></tr><tr><td>train/l2_loss</td><td>1866.63696</td></tr><tr><td>train/mix_loss</td><td>0.00144</td></tr><tr><td>train/sim_loss</td><td>0.12418</td></tr><tr><td>train/total_loss</td><td>0.14049</td></tr><tr><td>trainer/global_step</td><td>4999</td></tr><tr><td>validation/mean_ccc_</td><td>0.65714</td></tr><tr><td>validation/mean_corr_</td><td>0.68853</td></tr><tr><td>validation/mean_rmse_</td><td>0.08134</td></tr></table><br/></div></div>"
      ],
      "text/plain": [
       "<IPython.core.display.HTML object>"
      ]
     },
     "metadata": {},
     "output_type": "display_data"
    },
    {
     "data": {
      "text/html": [
       " View run <strong style=\"color:#cdcd00\">light-field-486</strong> at: <a href='https://wandb.ai/dschaub/multi-channel-gnn/runs/dnoiztyx' target=\"_blank\">https://wandb.ai/dschaub/multi-channel-gnn/runs/dnoiztyx</a><br/>Synced 6 W&B file(s), 11 media file(s), 11 artifact file(s) and 0 other file(s)"
      ],
      "text/plain": [
       "<IPython.core.display.HTML object>"
      ]
     },
     "metadata": {},
     "output_type": "display_data"
    },
    {
     "data": {
      "text/html": [
       "Find logs at: <code>./logs/wandb/run-20230502_104752-dnoiztyx/logs</code>"
      ],
      "text/plain": [
       "<IPython.core.display.HTML object>"
      ]
     },
     "metadata": {},
     "output_type": "display_data"
    }
   ],
   "source": [
    "# run training on all datasets if no dataset is specified\n",
    "tags = \"latest\"\n",
    "tags = \"latestv2\"\n",
    "# tags = \"reference_switch\"\n",
    "# tags = \"latestv2-switched\"\n",
    "project = \"multi-channel-gnn\"\n",
    "wandb_mode = \"disabled\"\n",
    "wandb_mode = \"online\"\n",
    "if wandb_mode == \"online\":\n",
    "    config.trainer.fast_dev_run = False\n",
    "else:\n",
    "    config.trainer.fast_dev_run = True\n",
    "config.trainer.deterministic = True\n",
    "# config.trainer.deterministic = False\n",
    "for st_path, experiment_path in list(zip(st_paths, experiment_paths))[0:1]:\n",
    "    print(f\"Running experiment on {st_path} and experiment path {experiment_path}\")\n",
    "    metric_dict, object_dict = run_experiment(\n",
    "        config,\n",
    "        st_path,\n",
    "        experiment_path,\n",
    "        wandb_mode=wandb_mode,\n",
    "        tags=tags,\n",
    "        config_path=\"../../configs\",\n",
    "        progress_bar=False,\n",
    "        device=7,\n",
    "        project=project,\n",
    "    )\n"
   ]
  },
  {
   "cell_type": "code",
   "execution_count": null,
   "metadata": {},
   "outputs": [],
   "source": [
    "summary = ModelSummary(object_dict[\"model\"], max_depth=-1)\n",
    "print(summary)"
   ]
  },
  {
   "cell_type": "code",
   "execution_count": 32,
   "metadata": {},
   "outputs": [
    {
     "data": {
      "text/plain": [
       "1"
      ]
     },
     "execution_count": 32,
     "metadata": {},
     "output_type": "execute_result"
    }
   ],
   "source": [
    "1500 // 1000"
   ]
  },
  {
   "cell_type": "code",
   "execution_count": null,
   "metadata": {},
   "outputs": [
    {
     "data": {
      "text/plain": [
       "DissectSpatial(\n",
       "  (encoder): MultiChannelGNNEncoder(\n",
       "    (mlp): MLP(-1, 512, 256, 256)\n",
       "    (layers): ModuleList(\n",
       "      (0): MultiChannelGNNBlock(\n",
       "        (spatial_channel): GNNChannel(\n",
       "          (convs): ModuleList(\n",
       "            (0): GATv2Conv(256, 256, heads=8)\n",
       "            (1): GATv2Conv(256, 256, heads=8)\n",
       "          )\n",
       "          (norms): ModuleList(\n",
       "            (0): None\n",
       "            (1): None\n",
       "          )\n",
       "          (dropouts): ModuleList(\n",
       "            (0): Dropout(p=0.0, inplace=False)\n",
       "            (1): Dropout(p=0.0, inplace=False)\n",
       "          )\n",
       "          (activations): ModuleList(\n",
       "            (0): ELU(alpha=1.0)\n",
       "            (1): ELU(alpha=1.0)\n",
       "          )\n",
       "          (concat_linears): ModuleList(\n",
       "            (0): Linear(in_features=2048, out_features=256, bias=True)\n",
       "            (1): Linear(in_features=2048, out_features=256, bias=True)\n",
       "          )\n",
       "        )\n",
       "        (lin_channel): Linear(256, 256, bias=True)\n",
       "        (mha_channel): MHAChannel(\n",
       "          (convs): ModuleList(\n",
       "            (0): MultiHeadSelfAttention(\n",
       "              (out_proj): NonDynamicallyQuantizableLinear(in_features=256, out_features=256, bias=True)\n",
       "            )\n",
       "          )\n",
       "          (norms): ModuleList(\n",
       "            (0): None\n",
       "          )\n",
       "          (dropouts): ModuleList(\n",
       "            (0): Dropout(p=0.0, inplace=False)\n",
       "          )\n",
       "          (activations): ModuleList(\n",
       "            (0): None\n",
       "          )\n",
       "        )\n",
       "        (fusion_component): FusionComponent(\n",
       "          (concat_linear): Linear(in_features=768, out_features=256, bias=True)\n",
       "        )\n",
       "        (activation): ELU(alpha=1.0)\n",
       "        (norm1): Identity()\n",
       "        (norm2): Identity()\n",
       "        (norm3): Identity()\n",
       "      )\n",
       "    )\n",
       "  )\n",
       "  (decoder): CelltypeDecoder(\n",
       "    (mlp): MLP(256, 64, 13)\n",
       "  )\n",
       ")"
      ]
     },
     "execution_count": 29,
     "metadata": {},
     "output_type": "execute_result"
    }
   ],
   "source": [
    "object_dict[\"net\"]"
   ]
  },
  {
   "cell_type": "code",
   "execution_count": null,
   "metadata": {},
   "outputs": [],
   "source": [
    "for param in object_dict[\"net\"].parameters():\n",
    "    print(param.shape)"
   ]
  },
  {
   "cell_type": "code",
   "execution_count": 8,
   "metadata": {},
   "outputs": [],
   "source": [
    "ablation_settings = {\n",
    "    \"data\": {\n",
    "        \"radius\": [0.0001, 0.01, 0.03, 0.04],\n",
    "    },\n",
    "    \"net\": {\n",
    "        \"latent_dim\": [64, 128, 512],\n",
    "        \"activation\": [\"relu\", \"leaky_relu\", \"elu\"],\n",
    "        \"use_pos\": [True],\n",
    "    },\n",
    "    \"encoder\": {\n",
    "        \"num_heads\": [1, 2, 4],\n",
    "        \"inter_skip\": [False],\n",
    "        \"mha_channel\": [False],\n",
    "        \"lin_channel\": [False],\n",
    "        \"spatial_channel\": [False],\n",
    "        \"num_layers\": [2, 3],\n",
    "        \"plain_last\": [True],\n",
    "        \"use_ffn\": [True],\n",
    "        \"fusion\": [\"concat\", \"gating\", \"concat_simple\"],\n",
    "        \"latent_dim\": [64, 128, 512],\n",
    "        \"use_pos\": [True],\n",
    "    },\n",
    "    \"model\": {\n",
    "        \"l2_lambda\": [0.0, 1e-5, 1e-7],\n",
    "        \"beta\": [0.0, 7.5],\n",
    "        \"alpha_max\": [0.2, 0.5],\n",
    "        \"learning_rate\": [1e-3, 1e-4],\n",
    "    },\n",
    "}"
   ]
  },
  {
   "cell_type": "code",
   "execution_count": 9,
   "metadata": {},
   "outputs": [
    {
     "name": "stdout",
     "output_type": "stream",
     "text": [
      "{'beta': 'None', '_target_': 'src.models.modules.DeconvolutionModel', 'plotting': False, 'alpha_max': 0.2, 'alpha_min': 0, 'l1_lambda': 0, 'l2_lambda': 1e-06, 'log_hparams': False, 'sim_loss_fn': 'kl_div', 'weight_decay': 0, 'learning_rate': 1e-05, 'save_predictions': False, 'move_data_to_device': True}\n",
      "{'beta': 'None', '_target_': 'src.models.modules.DeconvolutionModel', 'plotting': False, 'alpha_max': 0.2, 'alpha_min': 0, 'l1_lambda': 0, 'l2_lambda': 1e-06, 'log_hparams': False, 'sim_loss_fn': 'kl_div', 'weight_decay': 0, 'learning_rate': 1e-05, 'save_predictions': False, 'move_data_to_device': True}\n",
      "{'beta': 'None', '_target_': 'src.models.modules.DeconvolutionModel', 'plotting': False, 'alpha_max': 0.2, 'alpha_min': 0, 'l1_lambda': 0, 'l2_lambda': 1e-06, 'log_hparams': False, 'sim_loss_fn': 'kl_div', 'weight_decay': 0, 'learning_rate': 1e-05, 'save_predictions': False, 'move_data_to_device': True}\n",
      "{'beta': 'None', '_target_': 'src.models.modules.DeconvolutionModel', 'plotting': False, 'alpha_max': 0.2, 'alpha_min': 0, 'l1_lambda': 0, 'l2_lambda': 1e-06, 'log_hparams': False, 'sim_loss_fn': 'kl_div', 'weight_decay': 0, 'learning_rate': 1e-05, 'save_predictions': False, 'move_data_to_device': True}\n"
     ]
    }
   ],
   "source": [
    "for setting, entries in ablation_settings.items():\n",
    "    for entry, values in entries.items():\n",
    "        for value in values:\n",
    "            config_copy = copy.deepcopy(config)\n",
    "            if setting == \"data\":\n",
    "                config_copy.data[entry] = value\n",
    "            if setting == \"net\": \n",
    "                config_copy.net[entry] = value\n",
    "            if setting == \"encoder\": \n",
    "                config_copy.net.encoder_kwargs[entry] = value\n",
    "            if setting == \"model\":\n",
    "                config_copy.model[entry] = value\n",
    "            print(config_copy.model)\n",
    "    break"
   ]
  }
 ],
 "metadata": {
  "kernelspec": {
   "display_name": "dissect_spatial",
   "language": "python",
   "name": "python3"
  },
  "language_info": {
   "codemirror_mode": {
    "name": "ipython",
    "version": 3
   },
   "file_extension": ".py",
   "mimetype": "text/x-python",
   "name": "python",
   "nbconvert_exporter": "python",
   "pygments_lexer": "ipython3",
   "version": "3.8.16"
  },
  "orig_nbformat": 4,
  "vscode": {
   "interpreter": {
    "hash": "f49dfde4eb06c0a3671c2401bd6b6f73cacae937d3de5334273372658b299ab4"
   }
  }
 },
 "nbformat": 4,
 "nbformat_minor": 2
}
