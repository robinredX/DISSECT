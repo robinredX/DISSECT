{
 "cells": [
  {
   "cell_type": "code",
   "execution_count": 1,
   "metadata": {},
   "outputs": [],
   "source": [
    "%load_ext autoreload\n",
    "%autoreload 2"
   ]
  },
  {
   "cell_type": "code",
   "execution_count": 2,
   "metadata": {},
   "outputs": [],
   "source": [
    "import sys\n",
    "base_path = \"..\"\n",
    "sys.path.append(base_path)\n",
    "sys.path.append(base_path + \"/PropsSimulator\")\n",
    "import numpy as np\n",
    "import random\n",
    "import scanpy as sc\n",
    "import os\n",
    "import copy\n",
    "\n",
    "\n",
    "from configs.main_config import config as config_orig\n",
    "from PropsSimulator.main_config import config as props_config_orig\n",
    "\n",
    "from prepare_data import dataset\n",
    "from PropsSimulator.ST_simulator import Simulate, save_dict_to_file\n",
    "\n",
    "from dissect import run_dissect\n",
    "from ensemble import ensemble\n",
    "\n",
    "from src.utils.data_paths_valid import *\n",
    "\n",
    "import warnings\n",
    "warnings.filterwarnings('ignore')\n",
    "# ignore future warning\n",
    "warnings.simplefilter(action='ignore', category=FutureWarning)"
   ]
  },
  {
   "attachments": {},
   "cell_type": "markdown",
   "metadata": {},
   "source": [
    "## Define data paths"
   ]
  },
  {
   "attachments": {},
   "cell_type": "markdown",
   "metadata": {},
   "source": [
    "### Check celltype col"
   ]
  },
  {
   "cell_type": "code",
   "execution_count": 3,
   "metadata": {},
   "outputs": [
    {
     "name": "stdout",
     "output_type": "stream",
     "text": [
      "../data/single-cell/kidney/kidney_full_v3_harmonized_celltypes_raw_mouseGenes.h5ad\n"
     ]
    },
    {
     "data": {
      "text/plain": [
       "Teen Tx    15059\n",
       "TxK4        5793\n",
       "RCC1        3522\n",
       "RCC2        3242\n",
       "VHL_RCC     3181\n",
       "Wilms3      2309\n",
       "RCC3        2239\n",
       "Wilms1      1927\n",
       "TxK1        1650\n",
       "Wilms2       579\n",
       "TxK3         307\n",
       "TxK2         160\n",
       "PapRCC        62\n",
       "Name: Experiment, dtype: int64"
      ]
     },
     "execution_count": 3,
     "metadata": {},
     "output_type": "execute_result"
    }
   ],
   "source": [
    "sc_paths, st_paths = get_sc_and_st_paths(base_path)\n",
    "sc_path = sc_paths[-4]\n",
    "print(sc_path)\n",
    "adata = sc.read_h5ad(sc_path)\n",
    "adata.obs[\"Experiment\"].value_counts()"
   ]
  },
  {
   "cell_type": "code",
   "execution_count": 4,
   "metadata": {},
   "outputs": [],
   "source": [
    "# (adata.obs[\"celltype_mapped_refined\"] == adata.obs[\"cell_type\"]).all()"
   ]
  },
  {
   "attachments": {},
   "cell_type": "markdown",
   "metadata": {},
   "source": [
    "### Extract relevant paths"
   ]
  },
  {
   "cell_type": "code",
   "execution_count": 5,
   "metadata": {},
   "outputs": [],
   "source": [
    "sc_paths, st_paths, simulation_paths, experiment_paths = get_paths_for_processing(base_path)"
   ]
  },
  {
   "attachments": {},
   "cell_type": "markdown",
   "metadata": {},
   "source": [
    "## Check the data"
   ]
  },
  {
   "cell_type": "code",
   "execution_count": 6,
   "metadata": {},
   "outputs": [
    {
     "data": {
      "text/plain": [
       "791.0"
      ]
     },
     "execution_count": 6,
     "metadata": {},
     "output_type": "execute_result"
    }
   ],
   "source": [
    "adata = sc.read_h5ad(sc_paths[1])\n",
    "# adata.obs[[\"celltype\", \"broad_celltype\", \"cell_type\"]]\n",
    "# adata.obs[\"cell_type\"].value_counts()\n",
    "adata.X.max()\n",
    "# adata.obs\n",
    "# check wether celltype_mappped_refined = cell_type\n",
    "# print(adata.obs[\"celltype_mapped_refined\"].value_counts())\n",
    "# print(adata.obs[\"cell_type\"].value_counts())"
   ]
  },
  {
   "cell_type": "code",
   "execution_count": 7,
   "metadata": {},
   "outputs": [
    {
     "data": {
      "text/plain": [
       "['../data/simulated/kidney_slideSeq_v2/UMOD-WT_cell_type',\n",
       " '../data/simulated/kidney_slideSeq_v2/UMOD-KI_cell_type',\n",
       " '../data/simulated/heart_seqFISH/embryo1_celltype_mapped_refined',\n",
       " '../data/simulated/heart_seqFISH/embryo2_celltype_mapped_refined',\n",
       " '../data/simulated/heart_seqFISH/embryo3_celltype_mapped_refined',\n",
       " '../data/simulated/hypothalamus_MERFISH/0_cell_type',\n",
       " '../data/simulated/hypothalamus_MERFISH/1_cell_type',\n",
       " '../data/simulated/single-cell/Allenbrain_forSimulation_uniquect_Celltype',\n",
       " '../data/simulated/lymph_node/sc_lymph_Subset',\n",
       " '../data/simulated/kidney/kidney_full_v3_harmonized_celltypes_raw_mouseGenes_cell_type',\n",
       " '../data/simulated/kidney/kidney_full_v3_harmonized_celltypes_raw_mouseGenes_cell_type',\n",
       " '../data/simulated/heart_seqFISH/embryo3_celltype_mapped_refined',\n",
       " '../data/simulated/heart_seqFISH/embryo3_celltype_mapped_refined',\n",
       " '../data/simulated/hypothalamus_MERFISH/2_cell_type',\n",
       " '../data/simulated/hypothalamus_MERFISH/2_cell_type',\n",
       " '../data/simulated/kidney/kidney_full_v3_harmonized_celltypes_raw_mouseGenes_cell_type+per_batch',\n",
       " '../data/simulated/kidney/kidney_full_v3_harmonized_celltypes_raw_mouseGenes_cell_type+per_batch',\n",
       " '../data/simulated/kidney/kidney_full_v3_harmonized_celltypes_raw_mouseGenes_cell_type',\n",
       " '../data/simulated/kidney/kidney_full_v3_harmonized_celltypes_raw_mouseGenes_cell_type']"
      ]
     },
     "execution_count": 7,
     "metadata": {},
     "output_type": "execute_result"
    }
   ],
   "source": [
    "simulation_paths"
   ]
  },
  {
   "cell_type": "code",
   "execution_count": 8,
   "metadata": {},
   "outputs": [
    {
     "data": {
      "text/plain": [
       "['../experiments/experiment_kidney_slideSeq_v2/UMOD-WT.WT-2a_resolution75+UMOD-WT_cell_type',\n",
       " '../experiments/experiment_kidney_slideSeq_v2/UMOD-KI.KI-4b_resolution105+UMOD-KI_cell_type',\n",
       " '../experiments/experiment_heart_seqFISH/embryo1_resolution0.11+embryo1_celltype_mapped_refined',\n",
       " '../experiments/experiment_heart_seqFISH/embryo2_resolution0.11+embryo2_celltype_mapped_refined',\n",
       " '../experiments/experiment_heart_seqFISH/embryo3_resolution0.11+embryo3_celltype_mapped_refined',\n",
       " '../experiments/experiment_hypothalamus_MERFISH/0_resolution0.04+0_cell_type',\n",
       " '../experiments/experiment_hypothalamus_MERFISH/1_resolution0.04+1_cell_type',\n",
       " '../experiments/experiment_single-cell/V1_Mouse_Brain_Sagittal_Anterior+Allenbrain_forSimulation_uniquect_Celltype',\n",
       " '../experiments/experiment_lymph_node/st_lymph+sc_lymph_Subset',\n",
       " '../experiments/experiment_kidney/UMOD-WT.WT-2a_resolution75+kidney_full_v3_harmonized_celltypes_raw_mouseGenes_cell_type',\n",
       " '../experiments/experiment_kidney/UMOD-KI.KI-4b_resolution105+kidney_full_v3_harmonized_celltypes_raw_mouseGenes_cell_type',\n",
       " '../experiments/experiment_heart_seqFISH/embryo1_resolution0.11+embryo3_celltype_mapped_refined',\n",
       " '../experiments/experiment_heart_seqFISH/embryo2_resolution0.11+embryo3_celltype_mapped_refined',\n",
       " '../experiments/experiment_hypothalamus_MERFISH/0_resolution0.04+2_cell_type',\n",
       " '../experiments/experiment_hypothalamus_MERFISH/1_resolution0.04+2_cell_type',\n",
       " '../experiments/experiment_kidney/UMOD-WT.WT-2a_resolution75+kidney_full_v3_harmonized_celltypes_raw_mouseGenes_cell_type+per_batch',\n",
       " '../experiments/experiment_kidney/UMOD-KI.KI-4b_resolution105+kidney_full_v3_harmonized_celltypes_raw_mouseGenes_cell_type+per_batch',\n",
       " '../experiments/experiment_kidney/UMOD-WT.WT-2a_resolution75+kidney_full_v3_harmonized_celltypes_raw_mouseGenes_cell_type+no_var_cut',\n",
       " '../experiments/experiment_kidney/UMOD-KI.KI-4b_resolution105+kidney_full_v3_harmonized_celltypes_raw_mouseGenes_cell_type+no_var_cut']"
      ]
     },
     "execution_count": 8,
     "metadata": {},
     "output_type": "execute_result"
    }
   ],
   "source": [
    "experiment_paths"
   ]
  },
  {
   "cell_type": "code",
   "execution_count": 9,
   "metadata": {},
   "outputs": [
    {
     "data": {
      "text/plain": [
       "2516.0"
      ]
     },
     "execution_count": 9,
     "metadata": {},
     "output_type": "execute_result"
    }
   ],
   "source": [
    "spadata = sc.read_h5ad(st_paths[-1])\n",
    "spadata.X.max()"
   ]
  },
  {
   "cell_type": "code",
   "execution_count": 10,
   "metadata": {},
   "outputs": [
    {
     "data": {
      "text/plain": [
       "Index(['Erg28', '0610009B22Rik', '0610009E02Rik', '0610009L18Rik', 'Dele1',\n",
       "       '0610010F05Rik', '0610010K14Rik', 'Mettl26', '0610025J13Rik',\n",
       "       '0610030E20Rik',\n",
       "       ...\n",
       "       'mt-Ti', 'mt-Tl1', 'mt-Tl2', 'mt-Tm', 'mt-Tp', 'mt-Tq', 'mt-Tr',\n",
       "       'mt-Ts2', 'mt-Tt', 'mt-Tv'],\n",
       "      dtype='object', length=18961)"
      ]
     },
     "execution_count": 10,
     "metadata": {},
     "output_type": "execute_result"
    }
   ],
   "source": [
    "spadata.var_names"
   ]
  },
  {
   "attachments": {},
   "cell_type": "markdown",
   "metadata": {},
   "source": [
    "## Full data pipeline"
   ]
  },
  {
   "cell_type": "code",
   "execution_count": 11,
   "metadata": {},
   "outputs": [
    {
     "data": {
      "text/plain": [
       "[17, 18]"
      ]
     },
     "execution_count": 11,
     "metadata": {},
     "output_type": "execute_result"
    }
   ],
   "source": [
    "indices = list(range(len(sc_paths)))[-2::]\n",
    "indices"
   ]
  },
  {
   "cell_type": "code",
   "execution_count": 12,
   "metadata": {},
   "outputs": [
    {
     "name": "stdout",
     "output_type": "stream",
     "text": [
      "Data already simulated!\n",
      "test dataset has 18961 distinct and variable genes.\n",
      "simulated dataset has 14957 distinct genes.\n",
      "There are 13507 common genes between simulated and test dataset.\n",
      "Saving numpy files.\n",
      "Done.\n",
      "Data already simulated!\n",
      "test dataset has 18961 distinct and variable genes.\n",
      "simulated dataset has 14957 distinct genes.\n",
      "There are 13507 common genes between simulated and test dataset.\n",
      "Saving numpy files.\n",
      "Done.\n"
     ]
    }
   ],
   "source": [
    "# prepare the config\n",
    "for idx in indices:\n",
    "    props_config = copy.deepcopy(props_config_orig)\n",
    "    props_config[\"experiment_folder\"] = simulation_paths[idx]\n",
    "    # check if path already exists\n",
    "    if os.path.exists(props_config[\"experiment_folder\"]):\n",
    "        print(\"Data already simulated!\")\n",
    "    else:\n",
    "        props_config[\"scdata\"] = sc_paths[idx]\n",
    "        props_config[\"n_samples\"] = None\n",
    "        if \"seqFISH\" in sc_paths[idx] or \"MERFISH\" in sc_paths[idx]:\n",
    "            props_config[\"preprocess\"] = False\n",
    "        if \"lymph_node\" in sc_paths[idx]:\n",
    "            props_config[\"n_samples\"] = 8000\n",
    "        props_config[\"celltype_col\"] = celltype_cols[idx]\n",
    "        if extra_settings_sim[idx] == \"per_batch\":\n",
    "            props_config[\"batch_col\"] = \"Experiment\"\n",
    "        print(props_config)\n",
    "        # run simulation\n",
    "        s = 42\n",
    "        random.seed(s)\n",
    "        np.random.seed(s)\n",
    "\n",
    "        sim = Simulate(props_config)\n",
    "        if props_config[\"preprocess\"]:\n",
    "            sim.preprocess()\n",
    "        sim.generate_props()\n",
    "        batch_col = sim.config[\"batch_col\"]\n",
    "        columns = sim.sc_adata.obs.columns\n",
    "        print(batch_col)\n",
    "        print(columns)\n",
    "        if batch_col in columns:\n",
    "            sim.batches = np.array(sim.sc_adata.obs[sim.config[\"batch_col\"]].unique())\n",
    "            print(sim.batches)\n",
    "            if len(sim.batches) > 1:\n",
    "                sim.simulate_per_batch(save=True)\n",
    "            else:\n",
    "                sim.simulate(save=True)\n",
    "        else:\n",
    "            print(\"Number of batches in single-cell data is 1.\")\n",
    "            sim.simulate(save=True)\n",
    "        save_dict_to_file(props_config)\n",
    "\n",
    "    config = copy.deepcopy(config_orig)\n",
    "    config[\"experiment_folder\"] = experiment_paths[idx]\n",
    "    if os.path.exists(config[\"experiment_folder\"]):\n",
    "        print(\"Data already processed!\")\n",
    "    else:\n",
    "        config[\"test_dataset\"] = st_paths[idx]\n",
    "        config[\"reference\"] = simulation_paths[idx] + \"/simulated.h5ad\"\n",
    "        if \"seqFISH\" in sc_paths[idx] or \"MERFISH\" in sc_paths[idx]:\n",
    "            pass\n",
    "        else:\n",
    "            # some optional extra settings\n",
    "            config[\"normalize_simulated\"] = \"cpm\"\n",
    "            config[\"normalize_test\"] = \"cpm\"\n",
    "            if extra_settings_prep[idx] == \"no_var_cut\":\n",
    "                config[\"var_cutoff\"] = 0.0\n",
    "            else:\n",
    "                config[\"var_cutoff\"] = 0.1\n",
    "\n",
    "        dataset(config)"
   ]
  },
  {
   "cell_type": "code",
   "execution_count": 15,
   "metadata": {},
   "outputs": [],
   "source": [
    "sim.sc_adata"
   ]
  },
  {
   "cell_type": "code",
   "execution_count": 8,
   "metadata": {},
   "outputs": [
    {
     "data": {
      "text/plain": [
       "AnnData object with n_obs × n_vars = 11000 × 23834\n",
       "    obs: 'Unknown', 'endothelial cell', 'kidney collecting duct intercalated cell', 'kidney collecting duct principal cell', 'kidney distal convoluted tubule epithelial cell', 'kidney interstitial fibroblast', 'kidney loop of Henle thick ascending limb epithelial cell', 'kidney proximal convoluted tubule epithelial cell', 'leukocyte', 'macrophage', 'podocyte'\n",
       "    obsm: 'cells'\n",
       "    layers: 'Unknown', 'endothelial cell', 'kidney collecting duct intercalated cell', 'kidney collecting duct principal cell', 'kidney distal convoluted tubule epithelial cell', 'kidney interstitial fibroblast', 'kidney loop of Henle thick ascending limb epithelial cell', 'kidney proximal convoluted tubule epithelial cell', 'leukocyte', 'macrophage', 'podocyte'"
      ]
     },
     "execution_count": 8,
     "metadata": {},
     "output_type": "execute_result"
    }
   ],
   "source": [
    "# check simulated data\n",
    "sim_adata = sc.read_h5ad(props_config[\"experiment_folder\"] + \"/simulated.h5ad\")\n",
    "sim_adata"
   ]
  },
  {
   "attachments": {},
   "cell_type": "markdown",
   "metadata": {},
   "source": [
    "## Run DISSECT"
   ]
  },
  {
   "cell_type": "code",
   "execution_count": 12,
   "metadata": {},
   "outputs": [
    {
     "data": {
      "text/plain": [
       "[17, 18]"
      ]
     },
     "execution_count": 12,
     "metadata": {},
     "output_type": "execute_result"
    }
   ],
   "source": [
    "indices"
   ]
  },
  {
   "cell_type": "code",
   "execution_count": 13,
   "metadata": {},
   "outputs": [
    {
     "name": "stdout",
     "output_type": "stream",
     "text": [
      "Loading prepared datasets...\n",
      "Starting training model 0\n"
     ]
    },
    {
     "name": "stderr",
     "output_type": "stream",
     "text": [
      "2023-04-27 10:39:57.981746: I tensorflow/core/platform/cpu_feature_guard.cc:151] This TensorFlow binary is optimized with oneAPI Deep Neural Network Library (oneDNN) to use the following CPU instructions in performance-critical operations:  AVX2 FMA\n",
      "To enable them in other operations, rebuild TensorFlow with the appropriate compiler flags.\n",
      "2023-04-27 10:40:05.619215: I tensorflow/core/common_runtime/gpu/gpu_device.cc:1525] Created device /job:localhost/replica:0/task:0/device:GPU:0 with 7541 MB memory:  -> device: 0, name: Tesla V100-SXM2-16GB, pci bus id: 0000:06:00.0, compute capability: 7.0\n",
      "2023-04-27 10:40:05.620976: I tensorflow/core/common_runtime/gpu/gpu_device.cc:1525] Created device /job:localhost/replica:0/task:0/device:GPU:1 with 2086 MB memory:  -> device: 1, name: Tesla V100-SXM2-16GB, pci bus id: 0000:07:00.0, compute capability: 7.0\n",
      "2023-04-27 10:40:05.622666: I tensorflow/core/common_runtime/gpu/gpu_device.cc:1525] Created device /job:localhost/replica:0/task:0/device:GPU:2 with 79 MB memory:  -> device: 2, name: Tesla V100-SXM2-16GB, pci bus id: 0000:0a:00.0, compute capability: 7.0\n",
      "2023-04-27 10:40:05.624287: I tensorflow/core/common_runtime/gpu/gpu_device.cc:1525] Created device /job:localhost/replica:0/task:0/device:GPU:3 with 1726 MB memory:  -> device: 3, name: Tesla V100-SXM2-16GB, pci bus id: 0000:0b:00.0, compute capability: 7.0\n",
      "2023-04-27 10:40:05.626323: I tensorflow/core/common_runtime/gpu/gpu_device.cc:1525] Created device /job:localhost/replica:0/task:0/device:GPU:4 with 14633 MB memory:  -> device: 4, name: Tesla V100-SXM2-16GB, pci bus id: 0000:85:00.0, compute capability: 7.0\n",
      "2023-04-27 10:40:05.628407: I tensorflow/core/common_runtime/gpu/gpu_device.cc:1525] Created device /job:localhost/replica:0/task:0/device:GPU:5 with 5539 MB memory:  -> device: 5, name: Tesla V100-SXM2-16GB, pci bus id: 0000:86:00.0, compute capability: 7.0\n",
      "2023-04-27 10:40:05.631744: I tensorflow/core/common_runtime/gpu/gpu_device.cc:1525] Created device /job:localhost/replica:0/task:0/device:GPU:6 with 14635 MB memory:  -> device: 6, name: Tesla V100-SXM2-16GB, pci bus id: 0000:89:00.0, compute capability: 7.0\n",
      "2023-04-27 10:40:05.634015: I tensorflow/core/common_runtime/gpu/gpu_device.cc:1525] Created device /job:localhost/replica:0/task:0/device:GPU:7 with 14635 MB memory:  -> device: 7, name: Tesla V100-SXM2-16GB, pci bus id: 0000:8a:00.0, compute capability: 7.0\n",
      "step: 4| Losses - total_loss: 0.8925 | reg_loss: 0.8925 | cons_loss: 0.0000:   0%|          | 4/5000 [00:01<17:19,  4.80it/s]  "
     ]
    },
    {
     "name": "stdout",
     "output_type": "stream",
     "text": [
      "Network architecture -\n",
      "Model: \"sequential\"\n",
      "_________________________________________________________________\n",
      " Layer (type)                Output Shape              Param #   \n",
      "=================================================================\n",
      " dense (Dense)               (64, 512)                 6916096   \n",
      "                                                                 \n",
      " dense_1 (Dense)             (64, 256)                 131328    \n",
      "                                                                 \n",
      " dense_2 (Dense)             (64, 128)                 32896     \n",
      "                                                                 \n",
      " dense_3 (Dense)             (64, 64)                  8256      \n",
      "                                                                 \n",
      " dense_4 (Dense)             (64, 11)                  715       \n",
      "                                                                 \n",
      "=================================================================\n",
      "Total params: 7,089,291\n",
      "Trainable params: 7,089,291\n",
      "Non-trainable params: 0\n",
      "_________________________________________________________________\n",
      "None\n"
     ]
    },
    {
     "name": "stderr",
     "output_type": "stream",
     "text": [
      "step: 5000| Losses - total_loss: 0.1305 | reg_loss: 0.1254 | cons_loss: 0.0005: 100%|██████████| 5000/5000 [03:34<00:00, 23.31it/s]"
     ]
    },
    {
     "name": "stdout",
     "output_type": "stream",
     "text": [
      "WARNING:tensorflow:Compiled the loaded model, but the compiled metrics have yet to be built. `model.compile_metrics` will be empty until you train or evaluate the model.\n"
     ]
    },
    {
     "name": "stderr",
     "output_type": "stream",
     "text": [
      "\n",
      "2023-04-27 10:43:44.406784: W tensorflow/python/util/util.cc:368] Sets are not currently considered sequences, but this may change in the future, so consider avoiding using them.\n"
     ]
    },
    {
     "name": "stdout",
     "output_type": "stream",
     "text": [
      "INFO:tensorflow:Assets written to: ../experiments/experiment_kidney/UMOD-WT.WT-2a_resolution75+kidney_full_v3_harmonized_celltypes_raw_mouseGenes_cell_type+no_var_cut/model_0/assets\n",
      "WARNING:tensorflow:No training configuration found in save file, so the model was *not* compiled. Compile it manually.\n",
      "Running deconvolution\n",
      "Estimated proportions are saved at ../experiments/experiment_kidney/UMOD-WT.WT-2a_resolution75+kidney_full_v3_harmonized_celltypes_raw_mouseGenes_cell_type+no_var_cut/dissect_fractions_0.txt.\n",
      "Starting training model 1\n"
     ]
    },
    {
     "name": "stderr",
     "output_type": "stream",
     "text": [
      "step: 4| Losses - total_loss: 0.8675 | reg_loss: 0.8675 | cons_loss: 0.0000:   0%|          | 4/5000 [00:00<06:02, 13.77it/s]"
     ]
    },
    {
     "name": "stdout",
     "output_type": "stream",
     "text": [
      "Network architecture -\n",
      "Model: \"sequential_1\"\n",
      "_________________________________________________________________\n",
      " Layer (type)                Output Shape              Param #   \n",
      "=================================================================\n",
      " dense_5 (Dense)             (64, 512)                 6916096   \n",
      "                                                                 \n",
      " dense_6 (Dense)             (64, 256)                 131328    \n",
      "                                                                 \n",
      " dense_7 (Dense)             (64, 128)                 32896     \n",
      "                                                                 \n",
      " dense_8 (Dense)             (64, 64)                  8256      \n",
      "                                                                 \n",
      " dense_9 (Dense)             (64, 11)                  715       \n",
      "                                                                 \n",
      "=================================================================\n",
      "Total params: 7,089,291\n",
      "Trainable params: 7,089,291\n",
      "Non-trainable params: 0\n",
      "_________________________________________________________________\n",
      "None\n"
     ]
    },
    {
     "name": "stderr",
     "output_type": "stream",
     "text": [
      "step: 5000| Losses - total_loss: 0.1328 | reg_loss: 0.1250 | cons_loss: 0.0008: 100%|██████████| 5000/5000 [03:36<00:00, 23.10it/s]"
     ]
    },
    {
     "name": "stdout",
     "output_type": "stream",
     "text": [
      "WARNING:tensorflow:Compiled the loaded model, but the compiled metrics have yet to be built. `model.compile_metrics` will be empty until you train or evaluate the model.\n"
     ]
    },
    {
     "name": "stderr",
     "output_type": "stream",
     "text": [
      "\n"
     ]
    },
    {
     "name": "stdout",
     "output_type": "stream",
     "text": [
      "INFO:tensorflow:Assets written to: ../experiments/experiment_kidney/UMOD-WT.WT-2a_resolution75+kidney_full_v3_harmonized_celltypes_raw_mouseGenes_cell_type+no_var_cut/model_1/assets\n",
      "WARNING:tensorflow:No training configuration found in save file, so the model was *not* compiled. Compile it manually.\n",
      "Running deconvolution\n",
      "Estimated proportions are saved at ../experiments/experiment_kidney/UMOD-WT.WT-2a_resolution75+kidney_full_v3_harmonized_celltypes_raw_mouseGenes_cell_type+no_var_cut/dissect_fractions_1.txt.\n",
      "Starting training model 2\n"
     ]
    },
    {
     "name": "stderr",
     "output_type": "stream",
     "text": [
      "step: 5| Losses - total_loss: 0.8804 | reg_loss: 0.8804 | cons_loss: 0.0000:   0%|          | 4/5000 [00:00<05:10, 16.09it/s]"
     ]
    },
    {
     "name": "stdout",
     "output_type": "stream",
     "text": [
      "Network architecture -\n",
      "Model: \"sequential_2\"\n",
      "_________________________________________________________________\n",
      " Layer (type)                Output Shape              Param #   \n",
      "=================================================================\n",
      " dense_10 (Dense)            (64, 512)                 6916096   \n",
      "                                                                 \n",
      " dense_11 (Dense)            (64, 256)                 131328    \n",
      "                                                                 \n",
      " dense_12 (Dense)            (64, 128)                 32896     \n",
      "                                                                 \n",
      " dense_13 (Dense)            (64, 64)                  8256      \n",
      "                                                                 \n",
      " dense_14 (Dense)            (64, 11)                  715       \n",
      "                                                                 \n",
      "=================================================================\n",
      "Total params: 7,089,291\n",
      "Trainable params: 7,089,291\n",
      "Non-trainable params: 0\n",
      "_________________________________________________________________\n",
      "None\n"
     ]
    },
    {
     "name": "stderr",
     "output_type": "stream",
     "text": [
      "step: 5000| Losses - total_loss: 0.1300 | reg_loss: 0.1226 | cons_loss: 0.0007: 100%|██████████| 5000/5000 [03:45<00:00, 22.20it/s]"
     ]
    },
    {
     "name": "stdout",
     "output_type": "stream",
     "text": [
      "WARNING:tensorflow:Compiled the loaded model, but the compiled metrics have yet to be built. `model.compile_metrics` will be empty until you train or evaluate the model.\n"
     ]
    },
    {
     "name": "stderr",
     "output_type": "stream",
     "text": [
      "\n"
     ]
    },
    {
     "name": "stdout",
     "output_type": "stream",
     "text": [
      "INFO:tensorflow:Assets written to: ../experiments/experiment_kidney/UMOD-WT.WT-2a_resolution75+kidney_full_v3_harmonized_celltypes_raw_mouseGenes_cell_type+no_var_cut/model_2/assets\n",
      "WARNING:tensorflow:No training configuration found in save file, so the model was *not* compiled. Compile it manually.\n",
      "Running deconvolution\n",
      "Estimated proportions are saved at ../experiments/experiment_kidney/UMOD-WT.WT-2a_resolution75+kidney_full_v3_harmonized_celltypes_raw_mouseGenes_cell_type+no_var_cut/dissect_fractions_2.txt.\n",
      "Starting training model 3\n"
     ]
    },
    {
     "name": "stderr",
     "output_type": "stream",
     "text": [
      "step: 4| Losses - total_loss: 0.8681 | reg_loss: 0.8681 | cons_loss: 0.0000:   0%|          | 4/5000 [00:00<05:37, 14.81it/s]"
     ]
    },
    {
     "name": "stdout",
     "output_type": "stream",
     "text": [
      "Network architecture -\n",
      "Model: \"sequential_3\"\n",
      "_________________________________________________________________\n",
      " Layer (type)                Output Shape              Param #   \n",
      "=================================================================\n",
      " dense_15 (Dense)            (64, 512)                 6916096   \n",
      "                                                                 \n",
      " dense_16 (Dense)            (64, 256)                 131328    \n",
      "                                                                 \n",
      " dense_17 (Dense)            (64, 128)                 32896     \n",
      "                                                                 \n",
      " dense_18 (Dense)            (64, 64)                  8256      \n",
      "                                                                 \n",
      " dense_19 (Dense)            (64, 11)                  715       \n",
      "                                                                 \n",
      "=================================================================\n",
      "Total params: 7,089,291\n",
      "Trainable params: 7,089,291\n",
      "Non-trainable params: 0\n",
      "_________________________________________________________________\n",
      "None\n"
     ]
    },
    {
     "name": "stderr",
     "output_type": "stream",
     "text": [
      "step: 5000| Losses - total_loss: 0.1313 | reg_loss: 0.1251 | cons_loss: 0.0006: 100%|██████████| 5000/5000 [03:38<00:00, 22.86it/s]"
     ]
    },
    {
     "name": "stdout",
     "output_type": "stream",
     "text": [
      "WARNING:tensorflow:Compiled the loaded model, but the compiled metrics have yet to be built. `model.compile_metrics` will be empty until you train or evaluate the model.\n"
     ]
    },
    {
     "name": "stderr",
     "output_type": "stream",
     "text": [
      "\n"
     ]
    },
    {
     "name": "stdout",
     "output_type": "stream",
     "text": [
      "INFO:tensorflow:Assets written to: ../experiments/experiment_kidney/UMOD-WT.WT-2a_resolution75+kidney_full_v3_harmonized_celltypes_raw_mouseGenes_cell_type+no_var_cut/model_3/assets\n",
      "WARNING:tensorflow:No training configuration found in save file, so the model was *not* compiled. Compile it manually.\n",
      "Running deconvolution\n",
      "Estimated proportions are saved at ../experiments/experiment_kidney/UMOD-WT.WT-2a_resolution75+kidney_full_v3_harmonized_celltypes_raw_mouseGenes_cell_type+no_var_cut/dissect_fractions_3.txt.\n",
      "Starting training model 4\n"
     ]
    },
    {
     "name": "stderr",
     "output_type": "stream",
     "text": [
      "step: 4| Losses - total_loss: 0.9010 | reg_loss: 0.9010 | cons_loss: 0.0000:   0%|          | 4/5000 [00:00<05:52, 14.16it/s]"
     ]
    },
    {
     "name": "stdout",
     "output_type": "stream",
     "text": [
      "Network architecture -\n",
      "Model: \"sequential_4\"\n",
      "_________________________________________________________________\n",
      " Layer (type)                Output Shape              Param #   \n",
      "=================================================================\n",
      " dense_20 (Dense)            (64, 512)                 6916096   \n",
      "                                                                 \n",
      " dense_21 (Dense)            (64, 256)                 131328    \n",
      "                                                                 \n",
      " dense_22 (Dense)            (64, 128)                 32896     \n",
      "                                                                 \n",
      " dense_23 (Dense)            (64, 64)                  8256      \n",
      "                                                                 \n",
      " dense_24 (Dense)            (64, 11)                  715       \n",
      "                                                                 \n",
      "=================================================================\n",
      "Total params: 7,089,291\n",
      "Trainable params: 7,089,291\n",
      "Non-trainable params: 0\n",
      "_________________________________________________________________\n",
      "None\n"
     ]
    },
    {
     "name": "stderr",
     "output_type": "stream",
     "text": [
      "step: 5000| Losses - total_loss: 0.1148 | reg_loss: 0.1097 | cons_loss: 0.0005: 100%|██████████| 5000/5000 [03:44<00:00, 22.31it/s]"
     ]
    },
    {
     "name": "stdout",
     "output_type": "stream",
     "text": [
      "WARNING:tensorflow:Compiled the loaded model, but the compiled metrics have yet to be built. `model.compile_metrics` will be empty until you train or evaluate the model.\n"
     ]
    },
    {
     "name": "stderr",
     "output_type": "stream",
     "text": [
      "\n"
     ]
    },
    {
     "name": "stdout",
     "output_type": "stream",
     "text": [
      "INFO:tensorflow:Assets written to: ../experiments/experiment_kidney/UMOD-WT.WT-2a_resolution75+kidney_full_v3_harmonized_celltypes_raw_mouseGenes_cell_type+no_var_cut/model_4/assets\n",
      "WARNING:tensorflow:No training configuration found in save file, so the model was *not* compiled. Compile it manually.\n",
      "Running deconvolution\n",
      "Estimated proportions are saved at ../experiments/experiment_kidney/UMOD-WT.WT-2a_resolution75+kidney_full_v3_harmonized_celltypes_raw_mouseGenes_cell_type+no_var_cut/dissect_fractions_4.txt.\n",
      "Ensemble predictions are saved to ../experiments/experiment_kidney/UMOD-WT.WT-2a_resolution75+kidney_full_v3_harmonized_celltypes_raw_mouseGenes_cell_type+no_var_cut/dissect_fractions_ens.txt\n",
      "Loading prepared datasets...\n",
      "Starting training model 0\n"
     ]
    },
    {
     "name": "stderr",
     "output_type": "stream",
     "text": [
      "step: 5| Losses - total_loss: 0.8347 | reg_loss: 0.8347 | cons_loss: 0.0000:   0%|          | 4/5000 [00:00<05:02, 16.52it/s]"
     ]
    },
    {
     "name": "stdout",
     "output_type": "stream",
     "text": [
      "Network architecture -\n",
      "Model: \"sequential_5\"\n",
      "_________________________________________________________________\n",
      " Layer (type)                Output Shape              Param #   \n",
      "=================================================================\n",
      " dense_25 (Dense)            (64, 512)                 6916096   \n",
      "                                                                 \n",
      " dense_26 (Dense)            (64, 256)                 131328    \n",
      "                                                                 \n",
      " dense_27 (Dense)            (64, 128)                 32896     \n",
      "                                                                 \n",
      " dense_28 (Dense)            (64, 64)                  8256      \n",
      "                                                                 \n",
      " dense_29 (Dense)            (64, 11)                  715       \n",
      "                                                                 \n",
      "=================================================================\n",
      "Total params: 7,089,291\n",
      "Trainable params: 7,089,291\n",
      "Non-trainable params: 0\n",
      "_________________________________________________________________\n",
      "None\n"
     ]
    },
    {
     "name": "stderr",
     "output_type": "stream",
     "text": [
      "step: 5000| Losses - total_loss: 0.1316 | reg_loss: 0.1260 | cons_loss: 0.0006: 100%|██████████| 5000/5000 [03:37<00:00, 22.95it/s]"
     ]
    },
    {
     "name": "stdout",
     "output_type": "stream",
     "text": [
      "WARNING:tensorflow:Compiled the loaded model, but the compiled metrics have yet to be built. `model.compile_metrics` will be empty until you train or evaluate the model.\n"
     ]
    },
    {
     "name": "stderr",
     "output_type": "stream",
     "text": [
      "\n"
     ]
    },
    {
     "name": "stdout",
     "output_type": "stream",
     "text": [
      "INFO:tensorflow:Assets written to: ../experiments/experiment_kidney/UMOD-KI.KI-4b_resolution105+kidney_full_v3_harmonized_celltypes_raw_mouseGenes_cell_type+no_var_cut/model_0/assets\n",
      "WARNING:tensorflow:No training configuration found in save file, so the model was *not* compiled. Compile it manually.\n",
      "Running deconvolution\n",
      "Estimated proportions are saved at ../experiments/experiment_kidney/UMOD-KI.KI-4b_resolution105+kidney_full_v3_harmonized_celltypes_raw_mouseGenes_cell_type+no_var_cut/dissect_fractions_0.txt.\n",
      "Starting training model 1\n"
     ]
    },
    {
     "name": "stderr",
     "output_type": "stream",
     "text": [
      "step: 4| Losses - total_loss: 0.8675 | reg_loss: 0.8675 | cons_loss: 0.0000:   0%|          | 4/5000 [00:00<06:35, 12.64it/s]"
     ]
    },
    {
     "name": "stdout",
     "output_type": "stream",
     "text": [
      "Network architecture -\n",
      "Model: \"sequential_6\"\n",
      "_________________________________________________________________\n",
      " Layer (type)                Output Shape              Param #   \n",
      "=================================================================\n",
      " dense_30 (Dense)            (64, 512)                 6916096   \n",
      "                                                                 \n",
      " dense_31 (Dense)            (64, 256)                 131328    \n",
      "                                                                 \n",
      " dense_32 (Dense)            (64, 128)                 32896     \n",
      "                                                                 \n",
      " dense_33 (Dense)            (64, 64)                  8256      \n",
      "                                                                 \n",
      " dense_34 (Dense)            (64, 11)                  715       \n",
      "                                                                 \n",
      "=================================================================\n",
      "Total params: 7,089,291\n",
      "Trainable params: 7,089,291\n",
      "Non-trainable params: 0\n",
      "_________________________________________________________________\n",
      "None\n"
     ]
    },
    {
     "name": "stderr",
     "output_type": "stream",
     "text": [
      "step: 5000| Losses - total_loss: 0.1323 | reg_loss: 0.1246 | cons_loss: 0.0008: 100%|██████████| 5000/5000 [03:36<00:00, 23.09it/s]"
     ]
    },
    {
     "name": "stdout",
     "output_type": "stream",
     "text": [
      "WARNING:tensorflow:Compiled the loaded model, but the compiled metrics have yet to be built. `model.compile_metrics` will be empty until you train or evaluate the model.\n"
     ]
    },
    {
     "name": "stderr",
     "output_type": "stream",
     "text": [
      "\n"
     ]
    },
    {
     "name": "stdout",
     "output_type": "stream",
     "text": [
      "INFO:tensorflow:Assets written to: ../experiments/experiment_kidney/UMOD-KI.KI-4b_resolution105+kidney_full_v3_harmonized_celltypes_raw_mouseGenes_cell_type+no_var_cut/model_1/assets\n",
      "WARNING:tensorflow:No training configuration found in save file, so the model was *not* compiled. Compile it manually.\n",
      "Running deconvolution\n",
      "Estimated proportions are saved at ../experiments/experiment_kidney/UMOD-KI.KI-4b_resolution105+kidney_full_v3_harmonized_celltypes_raw_mouseGenes_cell_type+no_var_cut/dissect_fractions_1.txt.\n",
      "Starting training model 2\n"
     ]
    },
    {
     "name": "stderr",
     "output_type": "stream",
     "text": [
      "step: 4| Losses - total_loss: 0.8639 | reg_loss: 0.8639 | cons_loss: 0.0000:   0%|          | 4/5000 [00:00<05:28, 15.19it/s]"
     ]
    },
    {
     "name": "stdout",
     "output_type": "stream",
     "text": [
      "Network architecture -\n",
      "Model: \"sequential_7\"\n",
      "_________________________________________________________________\n",
      " Layer (type)                Output Shape              Param #   \n",
      "=================================================================\n",
      " dense_35 (Dense)            (64, 512)                 6916096   \n",
      "                                                                 \n",
      " dense_36 (Dense)            (64, 256)                 131328    \n",
      "                                                                 \n",
      " dense_37 (Dense)            (64, 128)                 32896     \n",
      "                                                                 \n",
      " dense_38 (Dense)            (64, 64)                  8256      \n",
      "                                                                 \n",
      " dense_39 (Dense)            (64, 11)                  715       \n",
      "                                                                 \n",
      "=================================================================\n",
      "Total params: 7,089,291\n",
      "Trainable params: 7,089,291\n",
      "Non-trainable params: 0\n",
      "_________________________________________________________________\n",
      "None\n"
     ]
    },
    {
     "name": "stderr",
     "output_type": "stream",
     "text": [
      "step: 5000| Losses - total_loss: 0.1273 | reg_loss: 0.1203 | cons_loss: 0.0007: 100%|██████████| 5000/5000 [03:32<00:00, 23.49it/s]"
     ]
    },
    {
     "name": "stdout",
     "output_type": "stream",
     "text": [
      "WARNING:tensorflow:Compiled the loaded model, but the compiled metrics have yet to be built. `model.compile_metrics` will be empty until you train or evaluate the model.\n"
     ]
    },
    {
     "name": "stderr",
     "output_type": "stream",
     "text": [
      "\n"
     ]
    },
    {
     "name": "stdout",
     "output_type": "stream",
     "text": [
      "INFO:tensorflow:Assets written to: ../experiments/experiment_kidney/UMOD-KI.KI-4b_resolution105+kidney_full_v3_harmonized_celltypes_raw_mouseGenes_cell_type+no_var_cut/model_2/assets\n",
      "WARNING:tensorflow:No training configuration found in save file, so the model was *not* compiled. Compile it manually.\n",
      "Running deconvolution\n",
      "Estimated proportions are saved at ../experiments/experiment_kidney/UMOD-KI.KI-4b_resolution105+kidney_full_v3_harmonized_celltypes_raw_mouseGenes_cell_type+no_var_cut/dissect_fractions_2.txt.\n",
      "Starting training model 3\n"
     ]
    },
    {
     "name": "stderr",
     "output_type": "stream",
     "text": [
      "step: 5| Losses - total_loss: 0.8651 | reg_loss: 0.8651 | cons_loss: 0.0000:   0%|          | 4/5000 [00:00<05:26, 15.30it/s]"
     ]
    },
    {
     "name": "stdout",
     "output_type": "stream",
     "text": [
      "Network architecture -\n",
      "Model: \"sequential_8\"\n",
      "_________________________________________________________________\n",
      " Layer (type)                Output Shape              Param #   \n",
      "=================================================================\n",
      " dense_40 (Dense)            (64, 512)                 6916096   \n",
      "                                                                 \n",
      " dense_41 (Dense)            (64, 256)                 131328    \n",
      "                                                                 \n",
      " dense_42 (Dense)            (64, 128)                 32896     \n",
      "                                                                 \n",
      " dense_43 (Dense)            (64, 64)                  8256      \n",
      "                                                                 \n",
      " dense_44 (Dense)            (64, 11)                  715       \n",
      "                                                                 \n",
      "=================================================================\n",
      "Total params: 7,089,291\n",
      "Trainable params: 7,089,291\n",
      "Non-trainable params: 0\n",
      "_________________________________________________________________\n",
      "None\n"
     ]
    },
    {
     "name": "stderr",
     "output_type": "stream",
     "text": [
      "step: 5000| Losses - total_loss: 0.1320 | reg_loss: 0.1260 | cons_loss: 0.0006: 100%|██████████| 5000/5000 [03:33<00:00, 23.40it/s]"
     ]
    },
    {
     "name": "stdout",
     "output_type": "stream",
     "text": [
      "WARNING:tensorflow:Compiled the loaded model, but the compiled metrics have yet to be built. `model.compile_metrics` will be empty until you train or evaluate the model.\n"
     ]
    },
    {
     "name": "stderr",
     "output_type": "stream",
     "text": [
      "\n"
     ]
    },
    {
     "name": "stdout",
     "output_type": "stream",
     "text": [
      "INFO:tensorflow:Assets written to: ../experiments/experiment_kidney/UMOD-KI.KI-4b_resolution105+kidney_full_v3_harmonized_celltypes_raw_mouseGenes_cell_type+no_var_cut/model_3/assets\n",
      "WARNING:tensorflow:No training configuration found in save file, so the model was *not* compiled. Compile it manually.\n",
      "Running deconvolution\n",
      "Estimated proportions are saved at ../experiments/experiment_kidney/UMOD-KI.KI-4b_resolution105+kidney_full_v3_harmonized_celltypes_raw_mouseGenes_cell_type+no_var_cut/dissect_fractions_3.txt.\n",
      "Starting training model 4\n"
     ]
    },
    {
     "name": "stderr",
     "output_type": "stream",
     "text": [
      "step: 5| Losses - total_loss: 0.8553 | reg_loss: 0.8553 | cons_loss: 0.0000:   0%|          | 4/5000 [00:00<05:26, 15.30it/s]"
     ]
    },
    {
     "name": "stdout",
     "output_type": "stream",
     "text": [
      "Network architecture -\n",
      "Model: \"sequential_9\"\n",
      "_________________________________________________________________\n",
      " Layer (type)                Output Shape              Param #   \n",
      "=================================================================\n",
      " dense_45 (Dense)            (64, 512)                 6916096   \n",
      "                                                                 \n",
      " dense_46 (Dense)            (64, 256)                 131328    \n",
      "                                                                 \n",
      " dense_47 (Dense)            (64, 128)                 32896     \n",
      "                                                                 \n",
      " dense_48 (Dense)            (64, 64)                  8256      \n",
      "                                                                 \n",
      " dense_49 (Dense)            (64, 11)                  715       \n",
      "                                                                 \n",
      "=================================================================\n",
      "Total params: 7,089,291\n",
      "Trainable params: 7,089,291\n",
      "Non-trainable params: 0\n",
      "_________________________________________________________________\n",
      "None\n"
     ]
    },
    {
     "name": "stderr",
     "output_type": "stream",
     "text": [
      "step: 5000| Losses - total_loss: 0.1134 | reg_loss: 0.1088 | cons_loss: 0.0005: 100%|██████████| 5000/5000 [03:39<00:00, 22.78it/s]"
     ]
    },
    {
     "name": "stdout",
     "output_type": "stream",
     "text": [
      "WARNING:tensorflow:Compiled the loaded model, but the compiled metrics have yet to be built. `model.compile_metrics` will be empty until you train or evaluate the model.\n"
     ]
    },
    {
     "name": "stderr",
     "output_type": "stream",
     "text": [
      "\n"
     ]
    },
    {
     "name": "stdout",
     "output_type": "stream",
     "text": [
      "INFO:tensorflow:Assets written to: ../experiments/experiment_kidney/UMOD-KI.KI-4b_resolution105+kidney_full_v3_harmonized_celltypes_raw_mouseGenes_cell_type+no_var_cut/model_4/assets\n",
      "WARNING:tensorflow:No training configuration found in save file, so the model was *not* compiled. Compile it manually.\n",
      "Running deconvolution\n",
      "Estimated proportions are saved at ../experiments/experiment_kidney/UMOD-KI.KI-4b_resolution105+kidney_full_v3_harmonized_celltypes_raw_mouseGenes_cell_type+no_var_cut/dissect_fractions_4.txt.\n",
      "Ensemble predictions are saved to ../experiments/experiment_kidney/UMOD-KI.KI-4b_resolution105+kidney_full_v3_harmonized_celltypes_raw_mouseGenes_cell_type+no_var_cut/dissect_fractions_ens.txt\n"
     ]
    }
   ],
   "source": [
    "config = copy.deepcopy(config_orig)\n",
    "for idx in indices:\n",
    "    config[\"experiment_folder\"] = experiment_paths[idx]\n",
    "    config[\"test_dataset\"] = st_paths[idx]\n",
    "    config[\"reference\"] = simulation_paths[idx] + \"/simulated.h5ad\"\n",
    "    run_dissect(config)\n",
    "    ensemble(config)"
   ]
  }
 ],
 "metadata": {
  "kernelspec": {
   "display_name": "dissect-old",
   "language": "python",
   "name": "python3"
  },
  "language_info": {
   "codemirror_mode": {
    "name": "ipython",
    "version": 3
   },
   "file_extension": ".py",
   "mimetype": "text/x-python",
   "name": "python",
   "nbconvert_exporter": "python",
   "pygments_lexer": "ipython3",
   "version": "3.8.16"
  },
  "orig_nbformat": 4
 },
 "nbformat": 4,
 "nbformat_minor": 2
}
