{
 "cells": [
  {
   "cell_type": "code",
   "execution_count": 1,
   "metadata": {},
   "outputs": [],
   "source": [
    "%load_ext autoreload\n",
    "%autoreload 2"
   ]
  },
  {
   "cell_type": "code",
   "execution_count": 2,
   "metadata": {},
   "outputs": [],
   "source": [
    "import pyrootutils\n",
    "\n",
    "base_path = pyrootutils.setup_root(\n",
    "    search_from=\".\",\n",
    "    indicator=[\".gitignore\"],\n",
    "    project_root_env_var=True,  # set the PROJECT_ROOT environment variable to root directory\n",
    "    dotenv=True,  # load environment variables from .env if exists in root directory\n",
    "    pythonpath=True,  # add root directory to the PYTHONPATH (helps with imports)\n",
    "    cwd=True,  # change current working directory to the root directory (helps with filepaths)\n",
    ")\n",
    "import sys\n",
    "import pandas as pd\n",
    "import scanpy as sc\n",
    "import squidpy as sq\n",
    "import matplotlib.pyplot as plt\n",
    "import seaborn as sns\n",
    "import json\n",
    "import wandb\n",
    "import matplotlib\n",
    "import matplotlib as mpl\n",
    "from itertools import combinations\n",
    "import os\n",
    "import shutil\n",
    "\n",
    "from src.utils.metrics import *\n",
    "from src.data.utils import *\n",
    "from src.utils.eval import *\n",
    "from src.utils.wandb import *"
   ]
  },
  {
   "attachments": {},
   "cell_type": "markdown",
   "metadata": {},
   "source": [
    "## Define helper functions"
   ]
  },
  {
   "cell_type": "code",
   "execution_count": null,
   "metadata": {},
   "outputs": [],
   "source": []
  },
  {
   "attachments": {},
   "cell_type": "markdown",
   "metadata": {},
   "source": [
    "## Define paths"
   ]
  },
  {
   "cell_type": "code",
   "execution_count": 3,
   "metadata": {},
   "outputs": [],
   "source": [
    "# experiment_name = \"experiment_mouse_st\"\n",
    "# sc_path = \"../data/single-cell/Allenbrain_forSimulation_uniquect.h5ad\"\n",
    "# st_path = \"../data/spatial/V1_Mouse_Brain_Sagittal_Anterior.h5ad\"\n",
    "\n",
    "experiment_names = [\n",
    "    \"experiment_kidney_slideSeq_v2_105\",\n",
    "    \"experiment_kidney_slideSeq_v2_UMOD-WT.WT-2a_resolution75\",\n",
    "    \"experiment_heart_seqFISH_embryo1_resolution0.11-new\",\n",
    "    # \"experiment_heart_seqFISH_embryo1_resolution0.11\",\n",
    "]\n",
    "st_paths = [\n",
    "    \"./data/spatial/simulations_kidney_slideSeq_v2/UMOD-KI.KI-4b_resolution105.h5ad\",\n",
    "    \"./data/spatial/simulations_kidney_slideSeq_v2/UMOD-WT.WT-2a_resolution75.h5ad\",\n",
    "    \"./data/spatial/simulations_heart_seqFISH/embryo1_resolution0.11.h5ad\",\n",
    "    \"./data/spatial/lymph_node/st_lymph.h5ad\",\n",
    "]\n",
    "sc_paths = [\n",
    "    \"./data/spatial/kidney_slideSeq_v2/UMOD-WT.WT-2a.h5ad\",\n",
    "    \"./data/spatial/kidney_slideSeq_v2_105.h5ad\",\n",
    "    \"./data/spatial/heart_seqFISH/embryo1.h5ad\",\n",
    "    \"./data/single-cell/lymph_node/sc_lymph.h5ad\",\n",
    "]\n",
    "experiment_paths = [f\"{base_path}/experiments/{experiment_name}\" for experiment_name in experiment_names]\n",
    "\n",
    "dataset_map = {\n",
    "    \"slideSeq-4b\": \"UMOD-KI.KI-4b_resolution105\", \n",
    "    \"slideSeq-2a\": \"UMOD-WT.WT-2a_resolution75\",\n",
    "    \"seqFISH\": \"embryo1_resolution0.11\",\n",
    "}\n",
    "dataset_path_map = {k: v for k, v in zip(dataset_map.keys(), st_paths)}"
   ]
  },
  {
   "attachments": {},
   "cell_type": "markdown",
   "metadata": {},
   "source": [
    "## Visualize data"
   ]
  },
  {
   "cell_type": "code",
   "execution_count": 4,
   "metadata": {},
   "outputs": [
    {
     "name": "stderr",
     "output_type": "stream",
     "text": [
      "/root/miniconda3/envs/dissect_spatial/lib/python3.8/site-packages/anndata/_core/anndata.py:1830: UserWarning: Variable names are not unique. To make them unique, call `.var_names_make_unique`.\n",
      "  utils.warn_names_duplicates(\"var\")\n"
     ]
    }
   ],
   "source": [
    "st_data = sc.read_h5ad(st_paths[-1])"
   ]
  },
  {
   "cell_type": "code",
   "execution_count": 5,
   "metadata": {},
   "outputs": [],
   "source": [
    "sc_data = sc.read_h5ad(sc_paths[-1])"
   ]
  },
  {
   "cell_type": "code",
   "execution_count": 6,
   "metadata": {},
   "outputs": [
    {
     "data": {
      "text/plain": [
       "['T_CD4+_TfH', 'T_CD4+_naive', 'T_CD8+_CD161+', 'T_CD4+_TfH_GC', 'DC_CCR7+', ..., 'B_GC_LZ', 'B_GC_DZ', 'B_preGC', 'FDC', 'B_GC_prePB']\n",
       "Length: 34\n",
       "Categories (34, object): ['B_Cycling', 'B_GC_DZ', 'B_GC_LZ', 'B_GC_prePB', ..., 'T_TIM3+', 'T_TfR', 'T_Treg', 'VSMC']"
      ]
     },
     "execution_count": 6,
     "metadata": {},
     "output_type": "execute_result"
    }
   ],
   "source": [
    "sc_data.obs[\"Subset\"].unique()"
   ]
  },
  {
   "cell_type": "code",
   "execution_count": 61,
   "metadata": {},
   "outputs": [],
   "source": [
    "# sc_data = sc.read_h5ad(sc_paths[0])\n",
    "# # convert cell_type collumn into separate dataframe\n",
    "# for cell_type in sc_data.obs[\"cell_type\"].unique():\n",
    "#     sc_data.obs[cell_type] = (sc_data.obs[\"cell_type\"] == cell_type).astype(int)\n",
    "# sc.pl.spatial(sc_data, color=sc_data.obs[\"cell_type\"].unique(), show=True)"
   ]
  },
  {
   "cell_type": "code",
   "execution_count": null,
   "metadata": {},
   "outputs": [],
   "source": [
    "# load sample names and celltype names\n",
    "# celltypes = load_celltypes(f\"{experiment_path}/datasets/celltypes.txt\")\n",
    "# sample_names = load_sample_names(f\"{experiment_path}/datasets/sample_names.txt\")"
   ]
  },
  {
   "cell_type": "code",
   "execution_count": null,
   "metadata": {},
   "outputs": [],
   "source": [
    "# for experiment_name, st_path, sc_path in zip(experiment_names, st_paths, sc_paths):\n",
    "#     experiment_path = f\"{base_path}/experiments/{experiment_name}\"\n",
    "#     # load original dissect results\n",
    "#     dissect_results, ensemble_result = load_dissect_results(experiment_path)\n",
    "#     groundtruth = load_groundtruth(st_path)     "
   ]
  },
  {
   "cell_type": "markdown",
   "metadata": {},
   "source": [
    "## Load new results"
   ]
  },
  {
   "cell_type": "code",
   "execution_count": 7,
   "metadata": {},
   "outputs": [
    {
     "name": "stdout",
     "output_type": "stream",
     "text": [
      "Loaded 5 runs\n"
     ]
    }
   ],
   "source": [
    "tags = [\"hybrid\", \"transformer\", \"None\"]\n",
    "tags = [\"latestv5\"]\n",
    "runs = []\n",
    "for tag in tags:\n",
    "    filter_ = {\"tags\": {\"$in\": [tag]}, \"state\": \"finished\"}\n",
    "    runs_per_tag = list(get_filtered_runs(filter=filter_))\n",
    "    runs.extend(runs_per_tag)\n",
    "print(f\"Loaded {len(runs)} runs\")\n",
    "runs = runs[2::]"
   ]
  },
  {
   "cell_type": "code",
   "execution_count": 8,
   "metadata": {},
   "outputs": [
    {
     "name": "stderr",
     "output_type": "stream",
     "text": [
      " 33%|███▎      | 1/3 [00:00<00:01,  1.67it/s]"
     ]
    },
    {
     "name": "stdout",
     "output_type": "stream",
     "text": [
      "Loaded media/table/predictions-step-5000_519_7b7b9741183900146ecb.table.json\n"
     ]
    },
    {
     "name": "stderr",
     "output_type": "stream",
     "text": [
      " 67%|██████▋   | 2/3 [00:01<00:00,  1.61it/s]"
     ]
    },
    {
     "name": "stdout",
     "output_type": "stream",
     "text": [
      "Loaded media/table/predictions-step-5000_519_7d20925beb878bb7c625.table.json\n"
     ]
    },
    {
     "name": "stderr",
     "output_type": "stream",
     "text": [
      "100%|██████████| 3/3 [00:01<00:00,  1.61it/s]"
     ]
    },
    {
     "name": "stdout",
     "output_type": "stream",
     "text": [
      "Loaded media/table/predictions-step-5000_519_9d932bf63d6adca30bc3.table.json\n"
     ]
    },
    {
     "name": "stderr",
     "output_type": "stream",
     "text": [
      "\n"
     ]
    }
   ],
   "source": [
    "run_names = [run.name for run in runs]\n",
    "run_tags = [run.tags for run in runs]\n",
    "new_results = [get_result_for_run_name(run_name) for run_name in tqdm(run_names)]\n"
   ]
  },
  {
   "cell_type": "code",
   "execution_count": null,
   "metadata": {},
   "outputs": [
    {
     "data": {
      "text/plain": [
       "(1640, 23)"
      ]
     },
     "execution_count": 52,
     "metadata": {},
     "output_type": "execute_result"
    }
   ],
   "source": [
    "new_results[0].shape\n"
   ]
  },
  {
   "cell_type": "code",
   "execution_count": 9,
   "metadata": {},
   "outputs": [
    {
     "data": {
      "text/html": [
       "<div>\n",
       "<style scoped>\n",
       "    .dataframe tbody tr th:only-of-type {\n",
       "        vertical-align: middle;\n",
       "    }\n",
       "\n",
       "    .dataframe tbody tr th {\n",
       "        vertical-align: top;\n",
       "    }\n",
       "\n",
       "    .dataframe thead th {\n",
       "        text-align: right;\n",
       "    }\n",
       "</style>\n",
       "<table border=\"1\" class=\"dataframe\">\n",
       "  <thead>\n",
       "    <tr style=\"text-align: right;\">\n",
       "      <th></th>\n",
       "      <th>method</th>\n",
       "      <th>dataset</th>\n",
       "      <th>run_name</th>\n",
       "    </tr>\n",
       "  </thead>\n",
       "  <tbody>\n",
       "    <tr>\n",
       "      <th>0</th>\n",
       "      <td>gnn-0</td>\n",
       "      <td>seqFISH</td>\n",
       "      <td>royal-haze-297</td>\n",
       "    </tr>\n",
       "    <tr>\n",
       "      <th>1</th>\n",
       "      <td>gnn-0</td>\n",
       "      <td>slideSeq-4b</td>\n",
       "      <td>logical-firefly-296</td>\n",
       "    </tr>\n",
       "    <tr>\n",
       "      <th>2</th>\n",
       "      <td>gnn-0</td>\n",
       "      <td>slideSeq-2a</td>\n",
       "      <td>feasible-dew-295</td>\n",
       "    </tr>\n",
       "  </tbody>\n",
       "</table>\n",
       "</div>"
      ],
      "text/plain": [
       "  method      dataset             run_name\n",
       "0  gnn-0      seqFISH       royal-haze-297\n",
       "1  gnn-0  slideSeq-4b  logical-firefly-296\n",
       "2  gnn-0  slideSeq-2a     feasible-dew-295"
      ]
     },
     "execution_count": 9,
     "metadata": {},
     "output_type": "execute_result"
    }
   ],
   "source": [
    "dataset_names = [extract_dataset_name(run.config[\"data/st_path\"], dataset_map) for run in runs]\n",
    "learning_rates = [run.config[\"model/learning_rate\"] for run in runs]\n",
    "weight_decays = [run.config[\"model/weight_decay\"] for run in runs]\n",
    "max_steps = [run.config[\"trainer/max_steps\"] for run in runs]\n",
    "# get unique learning rates\n",
    "unique_learning_rates = list(set(learning_rates))\n",
    "# later define more sophisticated check\n",
    "base_names = [get_base_name(tag) for tag in run_tags]\n",
    "\n",
    "method_names = get_method_names(base_names, learning_rates, weight_decays, max_steps)\n",
    "pd.DataFrame({\"method\": method_names, \"dataset\": dataset_names, \"run_name\": run_names})"
   ]
  },
  {
   "cell_type": "markdown",
   "metadata": {},
   "source": [
    "## Load original DISSECT results"
   ]
  },
  {
   "cell_type": "code",
   "execution_count": 12,
   "metadata": {},
   "outputs": [],
   "source": [
    "# dissect_results, ensemble_result = load_dissect_results(experiment_path)\n",
    "ensemble_results = [load_dissect_results(experiment_path)[1] for experiment_path in experiment_paths]\n",
    "dissect_dataset_names = [extract_dataset_name(st_path, dataset_map) for st_path in st_paths[0:len(experiment_paths)]]\n",
    "dissect_names = len(dissect_dataset_names) * [\"DISSECT (ensemble)\"]"
   ]
  },
  {
   "cell_type": "code",
   "execution_count": null,
   "metadata": {},
   "outputs": [
    {
     "name": "stdout",
     "output_type": "stream",
     "text": [
      "1803\n",
      "3244\n",
      "1640\n"
     ]
    }
   ],
   "source": [
    "for result in ensemble_results:\n",
    "    print(len(result.index))"
   ]
  },
  {
   "attachments": {},
   "cell_type": "markdown",
   "metadata": {},
   "source": [
    "## Load GraphST results"
   ]
  },
  {
   "cell_type": "code",
   "execution_count": 13,
   "metadata": {},
   "outputs": [
    {
     "name": "stdout",
     "output_type": "stream",
     "text": [
      "1803\n",
      "3244\n",
      "1640\n"
     ]
    }
   ],
   "source": [
    "graph_st_result_paths = [\n",
    "    \"/data/GraphST/Data/slideseq_105_result.h5ad\",\n",
    "    \"/data/GraphST/Data/slideseq_75_result.h5ad\",\n",
    "    \"/data/GraphST/Data/seqfish_result.h5ad\",\n",
    "]\n",
    "graphst_dataset_names = [\"slideSeq-4b\", \"slideSeq-2a\", \"seqFISH\"]\n",
    "graph_st_names = len(dataset_names) * [\"GraphST\"]\n",
    "graph_st_results = []\n",
    "for path in graph_st_result_paths:\n",
    "    result = sc.read_h5ad(path)\n",
    "    graph_st_results.append(result.obs[result.obs.columns[2::]])\n",
    "    print(len(result.obs.index))"
   ]
  },
  {
   "cell_type": "code",
   "execution_count": null,
   "metadata": {},
   "outputs": [],
   "source": []
  },
  {
   "attachments": {},
   "cell_type": "markdown",
   "metadata": {},
   "source": [
    "## Combine results"
   ]
  },
  {
   "cell_type": "code",
   "execution_count": 14,
   "metadata": {},
   "outputs": [],
   "source": [
    "all_dataset_names = dataset_names + dissect_dataset_names + graphst_dataset_names\n",
    "all_method_names = method_names + dissect_names + graph_st_names\n",
    "all_results = new_results + ensemble_results + graph_st_results"
   ]
  },
  {
   "attachments": {},
   "cell_type": "markdown",
   "metadata": {},
   "source": [
    "## Evaluate results"
   ]
  },
  {
   "attachments": {},
   "cell_type": "markdown",
   "metadata": {},
   "source": [
    "### Compare with ground truth"
   ]
  },
  {
   "cell_type": "code",
   "execution_count": 15,
   "metadata": {},
   "outputs": [
    {
     "name": "stdout",
     "output_type": "stream",
     "text": [
      "Loading groundtruth for slideSeq-4b...\n",
      "Loaded groundtruth ./data/spatial/simulations_kidney_slideSeq_v2/UMOD-KI.KI-4b_resolution105.h5ad...\n",
      "Loading groundtruth for slideSeq-2a...\n",
      "Loaded groundtruth ./data/spatial/simulations_kidney_slideSeq_v2/UMOD-WT.WT-2a_resolution75.h5ad...\n",
      "Loading groundtruth for seqFISH...\n",
      "Loaded groundtruth ./data/spatial/simulations_heart_seqFISH/embryo1_resolution0.11.h5ad...\n"
     ]
    }
   ],
   "source": [
    "all_cellwise_results = []\n",
    "all_samplewise_results = []\n",
    "for k, v in dataset_map.items():\n",
    "    print(f\"Loading groundtruth for {k}...\")\n",
    "    groundtruth = load_groundtruth(dataset_path_map[k])\n",
    "    print(f\"Loaded groundtruth {dataset_path_map[k]}...\")\n",
    "\n",
    "    filtered_results = filter_data_by_dataset(k, all_dataset_names, all_results)\n",
    "    filtered_method_names = filter_data_by_dataset(k, all_dataset_names, all_method_names)\n",
    "    \n",
    "\n",
    "    cellwise_results = compare_methods_new(\n",
    "        filtered_results, groundtruth, methods=filtered_method_names, samplewise=False\n",
    "    )\n",
    "    cellwise_results[\"dataset\"] = k\n",
    "    all_cellwise_results.append(cellwise_results)\n",
    "    samplewise_results = compare_methods_new(\n",
    "        filtered_results, groundtruth, methods=filtered_method_names, samplewise=True\n",
    "    )\n",
    "    samplewise_results[\"dataset\"] = k\n",
    "    all_samplewise_results.append(samplewise_results)\n",
    "all_cellwise_results = pd.concat(all_cellwise_results, ignore_index=True)\n",
    "all_samplewise_results = pd.concat(all_samplewise_results, ignore_index=True)"
   ]
  },
  {
   "attachments": {},
   "cell_type": "markdown",
   "metadata": {},
   "source": [
    "### Visualize in tabluar form"
   ]
  },
  {
   "cell_type": "code",
   "execution_count": 16,
   "metadata": {},
   "outputs": [],
   "source": [
    "all_cellwise_grouped = all_cellwise_results.groupby([\"Method\", \"Fold\"]).mean(numeric_only=True)\n",
    "all_cellwise_grouped_std = all_cellwise_results.groupby([\"Method\", \"Fold\"]).std(numeric_only=True)\n",
    "all_samplewise_grouped = all_samplewise_results.groupby([\"Method\", \"Fold\"]).mean(numeric_only=True)\n",
    "all_samplewise_grouped_std = all_samplewise_results.groupby([\"Method\", \"Fold\"]).std(numeric_only=True)\n",
    "all_mean_results = pd.concat([all_cellwise_grouped, all_samplewise_grouped], axis=1)\n",
    "all_std_results = pd.concat([all_cellwise_grouped_std, all_samplewise_grouped_std], axis=1)"
   ]
  },
  {
   "cell_type": "code",
   "execution_count": 17,
   "metadata": {},
   "outputs": [
    {
     "data": {
      "text/html": [
       "<div>\n",
       "<style scoped>\n",
       "    .dataframe tbody tr th:only-of-type {\n",
       "        vertical-align: middle;\n",
       "    }\n",
       "\n",
       "    .dataframe tbody tr th {\n",
       "        vertical-align: top;\n",
       "    }\n",
       "\n",
       "    .dataframe thead th {\n",
       "        text-align: right;\n",
       "    }\n",
       "</style>\n",
       "<table border=\"1\" class=\"dataframe\">\n",
       "  <thead>\n",
       "    <tr style=\"text-align: right;\">\n",
       "      <th></th>\n",
       "      <th></th>\n",
       "      <th>Correlation</th>\n",
       "      <th>RMSE</th>\n",
       "      <th>CCC</th>\n",
       "      <th>Correlation (samplewise)</th>\n",
       "      <th>RMSE (samplewise)</th>\n",
       "      <th>CCC (samplewise)</th>\n",
       "      <th>JSD</th>\n",
       "    </tr>\n",
       "    <tr>\n",
       "      <th>Method</th>\n",
       "      <th>Fold</th>\n",
       "      <th></th>\n",
       "      <th></th>\n",
       "      <th></th>\n",
       "      <th></th>\n",
       "      <th></th>\n",
       "      <th></th>\n",
       "      <th></th>\n",
       "    </tr>\n",
       "  </thead>\n",
       "  <tbody>\n",
       "    <tr>\n",
       "      <th>DISSECT (ensemble)</th>\n",
       "      <th>0</th>\n",
       "      <td>0.701230</td>\n",
       "      <td>0.091283</td>\n",
       "      <td>0.537234</td>\n",
       "      <td>0.826116</td>\n",
       "      <td>0.094398</td>\n",
       "      <td>0.705110</td>\n",
       "      <td>0.177276</td>\n",
       "    </tr>\n",
       "    <tr>\n",
       "      <th>GraphST</th>\n",
       "      <th>0</th>\n",
       "      <td>0.549386</td>\n",
       "      <td>0.089288</td>\n",
       "      <td>0.397738</td>\n",
       "      <td>0.806167</td>\n",
       "      <td>0.090729</td>\n",
       "      <td>0.759979</td>\n",
       "      <td>0.134762</td>\n",
       "    </tr>\n",
       "    <tr>\n",
       "      <th>gnn-0</th>\n",
       "      <th>0</th>\n",
       "      <td>0.726947</td>\n",
       "      <td>0.086092</td>\n",
       "      <td>0.631525</td>\n",
       "      <td>0.808678</td>\n",
       "      <td>0.093143</td>\n",
       "      <td>0.755140</td>\n",
       "      <td>0.145164</td>\n",
       "    </tr>\n",
       "  </tbody>\n",
       "</table>\n",
       "</div>"
      ],
      "text/plain": [
       "                         Correlation      RMSE       CCC  \\\n",
       "Method             Fold                                    \n",
       "DISSECT (ensemble) 0        0.701230  0.091283  0.537234   \n",
       "GraphST            0        0.549386  0.089288  0.397738   \n",
       "gnn-0              0        0.726947  0.086092  0.631525   \n",
       "\n",
       "                         Correlation (samplewise)  RMSE (samplewise)  \\\n",
       "Method             Fold                                                \n",
       "DISSECT (ensemble) 0                     0.826116           0.094398   \n",
       "GraphST            0                     0.806167           0.090729   \n",
       "gnn-0              0                     0.808678           0.093143   \n",
       "\n",
       "                         CCC (samplewise)       JSD  \n",
       "Method             Fold                              \n",
       "DISSECT (ensemble) 0             0.705110  0.177276  \n",
       "GraphST            0             0.759979  0.134762  \n",
       "gnn-0              0             0.755140  0.145164  "
      ]
     },
     "execution_count": 17,
     "metadata": {},
     "output_type": "execute_result"
    }
   ],
   "source": [
    "all_mean_results"
   ]
  },
  {
   "attachments": {},
   "cell_type": "markdown",
   "metadata": {},
   "source": [
    "### Visualize as plot"
   ]
  },
  {
   "cell_type": "code",
   "execution_count": null,
   "metadata": {},
   "outputs": [],
   "source": [
    "fig, axs = plt.subplots(1, 2, figsize=(16, 5), sharey=\"row\", sharex=\"col\")\n",
    "axs = np.ravel(axs)\n",
    "metric = \"Correlation\"\n",
    "relevant_methods = [\"DISSECT (ensemble)\", \"gnn-3\"]\n",
    "dataset = \"slideSeq-4b\"\n",
    "methods_mask = all_cellwise_results[\"Method\"].isin(relevant_methods)\n",
    "data_mask = all_cellwise_results[\"dataset\"] == dataset\n",
    "# sns.barplot(all_cellwise_results.loc[methods_mask, :], x=\"Celltype\", y=metric, hue=\"Method\", ax=axs[0])\n",
    "axs[0].set_title(\"Performance per celltype for selected methods\")\n",
    "sns.barplot(all_cellwise_results.loc[methods_mask & data_mask, :], x=\"Celltype\", y=metric, hue=\"Method\", ax=axs[1])\n",
    "for ax in axs[-2:]:\n",
    "    ax.set_xticklabels(ax.get_xticklabels(), rotation=30, ha=\"right\")\n",
    "for ax in axs:\n",
    "    ax.grid(True)\n",
    "plt.show()"
   ]
  },
  {
   "cell_type": "code",
   "execution_count": null,
   "metadata": {},
   "outputs": [],
   "source": [
    "fig, axs = plt.subplots(1, 2, figsize=(16, 5), sharey=\"row\", sharex=\"col\")\n",
    "axs = np.ravel(axs)\n",
    "metric = \"Correlation\"\n",
    "relevant_methods = [\"DISSECT (ensemble)\", \"gnn-3\"]\n",
    "methods_mask = all_cellwise_results[\"Method\"].isin(relevant_methods)\n",
    "sns.barplot(all_cellwise_results.loc[methods_mask, :], x=\"Celltype\", y=metric, hue=\"Method\", ax=axs[0])\n",
    "axs[0].set_title(\"Performance per celltype for selected methods\")\n",
    "sns.barplot(all_cellwise_results, x=\"Method\", y=metric, hue=\"dataset\", ax=axs[1])\n",
    "for ax in axs[-2:]:\n",
    "    ax.set_xticklabels(ax.get_xticklabels(), rotation=30, ha=\"right\")\n",
    "for ax in axs:\n",
    "    ax.grid(True)\n",
    "plt.show()"
   ]
  },
  {
   "cell_type": "markdown",
   "metadata": {},
   "source": [
    "### Single dataset analysis"
   ]
  },
  {
   "cell_type": "code",
   "execution_count": null,
   "metadata": {},
   "outputs": [],
   "source": [
    "cellwise_results = compare_methods_new(\n",
    "    all_results, groundtruth, methods=all_method_names, samplewise=False\n",
    ")\n",
    "samplewise_results = compare_methods_new(\n",
    "    all_results, groundtruth, methods=all_method_names, samplewise=True\n",
    ")"
   ]
  },
  {
   "cell_type": "code",
   "execution_count": null,
   "metadata": {},
   "outputs": [],
   "source": [
    "cellwise_grouped = cellwise_results.groupby([\"Method\", \"Fold\"]).mean(numeric_only=True)\n",
    "samplewise_grouped = samplewise_results.groupby([\"Method\", \"Fold\"]).mean(numeric_only=True)\n",
    "pd.concat([cellwise_grouped, samplewise_grouped], axis=1)"
   ]
  },
  {
   "cell_type": "code",
   "execution_count": null,
   "metadata": {},
   "outputs": [],
   "source": [
    "# plot performance per celltype\n",
    "fig, axs = plt.subplots(2, 2, figsize=(16, 10), sharey=\"row\", sharex=\"col\")\n",
    "axs = np.ravel(axs)\n",
    "sns.barplot(cellwise_results, x=\"Celltype\", y=\"Correlation\", hue=\"Method\", ax=axs[0])\n",
    "mean_cellwise_results = cellwise_results.groupby(\n",
    "    [\"Method\", \"Fold\"], as_index=False\n",
    ").mean(numeric_only=True)\n",
    "sns.barplot(mean_cellwise_results, x=\"Method\", y=\"Correlation\", ax=axs[1])\n",
    "\n",
    "sns.barplot(cellwise_results, x=\"Celltype\", y=\"RMSE\", hue=\"Method\", ax=axs[2])\n",
    "mean_cellwise_results = cellwise_results.groupby(\n",
    "    [\"Method\", \"Fold\"], as_index=False\n",
    ").mean(numeric_only=True)\n",
    "sns.barplot(mean_cellwise_results, x=\"Method\", y=\"RMSE\", ax=axs[3])\n",
    "# rotate xticks\n",
    "for ax in axs[-2:]:\n",
    "    ax.set_xticklabels(ax.get_xticklabels(), rotation=30, ha=\"right\")\n",
    "for ax in axs:\n",
    "    ax.grid(True)\n",
    "\n",
    "plt.savefig(\n",
    "    f\"./figures/evaluation_{experiment_name}_cellwise.png\", dpi=200, bbox_inches=\"tight\"\n",
    ")\n",
    "plt.show()"
   ]
  },
  {
   "cell_type": "code",
   "execution_count": null,
   "metadata": {},
   "outputs": [],
   "source": [
    "# samplewise results\n",
    "# plot performance per celltype\n",
    "metrics = [\"Correlation\", \"RMSE\"]\n",
    "for metric in metrics:\n",
    "    fig, axs = plt.subplots(1, 2, figsize=(16, 5), sharey=\"row\", sharex=\"col\")\n",
    "    sns.boxplot(\n",
    "        samplewise_results,\n",
    "        x=\"Method\",\n",
    "        y=metric + \" (samplewise)\",\n",
    "        hue=\"Fold\",\n",
    "        ax=axs[0],\n",
    "    )\n",
    "    mean_samplewise_results = samplewise_results.groupby(\n",
    "        [\"Method\", \"Fold\"], as_index=False\n",
    "    ).mean()\n",
    "    sns.barplot(\n",
    "        mean_samplewise_results, x=\"Method\", y=metric + \" (samplewise)\", ax=axs[1]\n",
    "    )\n",
    "    # plt.savefig(\n",
    "    #     f\"./figures/evaluation_{experiment_name}_cellwise.png\", dpi=200, bbox_inches=\"tight\"\n",
    "    # )\n",
    "    plt.show()"
   ]
  },
  {
   "attachments": {},
   "cell_type": "markdown",
   "metadata": {},
   "source": [
    "## Qualitative analysis"
   ]
  },
  {
   "cell_type": "code",
   "execution_count": null,
   "metadata": {},
   "outputs": [],
   "source": [
    "# load data\n",
    "st_path = \"./data/spatial/V1_Mouse_Brain_Sagittal_Anterior.h5ad\"\n",
    "st_data = sc.read_h5ad(st_path)\n",
    "\n",
    "# run_name = \"super-armadillo-244\"\n",
    "# run_name = \"captain-maquis-285\"\n",
    "run_name = \"defiant-frontier-290\"\n",
    "run_name = \"xindi-q-292\"\n",
    "run_name = \"robust-sun-298\"\n",
    "result = get_result_for_run_name(run_name, project=\"dissect-spatial\")\n",
    "\n",
    "st_data.obs = pd.concat([st_data.obs, result], axis=1)"
   ]
  },
  {
   "cell_type": "code",
   "execution_count": null,
   "metadata": {},
   "outputs": [],
   "source": [
    "# for col in result.columns:\n",
    "#     fig, axs = plt.subplots(1, 1, figsize=(10, 5))\n",
    "# sc.pl.spatial(st_data, color=result.columns, show=True, save=f\"mouse_brain_new_v2.png\", vmin=0.0, vmax=1.0)\n",
    "fig = sc.pl.spatial(st_data, color=result.columns, show=False, save=False, vmin=0.0, vmax=1.0)\n",
    "plt.savefig(\"./figures/mouse.png\", dpi=300, bbox_inches=\"tight\")\n",
    "plt.show()"
   ]
  },
  {
   "cell_type": "code",
   "execution_count": null,
   "metadata": {},
   "outputs": [],
   "source": [
    "# load data\n",
    "st_path = \"./data/spatial/V1_Mouse_Brain_Sagittal_Anterior.h5ad\"\n",
    "st_data = sc.read_h5ad(st_path)\n",
    "\n",
    "dissect_result = load_dissect_results(\"experiments/experiment_mouse_st\")[1]\n",
    "st_data.obs = pd.concat([st_data.obs, dissect_result], axis=1)\n",
    "fig = sc.pl.spatial(st_data, color=result.columns, show=False, save=False, vmin=0.0, vmax=1.0)\n",
    "plt.savefig(\"./figures/mouse_brain_dissect_ensemble.png\", dpi=300, bbox_inches=\"tight\")\n",
    "plt.show()"
   ]
  },
  {
   "attachments": {},
   "cell_type": "markdown",
   "metadata": {},
   "source": [
    "## Old analysis"
   ]
  },
  {
   "attachments": {},
   "cell_type": "markdown",
   "metadata": {},
   "source": [
    "### Predicted max celltype per spot"
   ]
  },
  {
   "cell_type": "code",
   "execution_count": null,
   "metadata": {},
   "outputs": [],
   "source": [
    "for k, df in enumerate(results_per_seed):\n",
    "    max_celltypes = df.idxmax(axis=1)\n",
    "    st_data.obs[f\"celltype-{k}\"] = max_celltypes\n",
    "    sq.pl.spatial_scatter(st_data, color=f\"celltype-{k}\")"
   ]
  },
  {
   "attachments": {},
   "cell_type": "markdown",
   "metadata": {},
   "source": [
    "### Celltype distribution across tissue"
   ]
  },
  {
   "cell_type": "code",
   "execution_count": null,
   "metadata": {},
   "outputs": [],
   "source": [
    "st_data.obs[celltypes] = new_result[celltypes]\n",
    "sq.pl.spatial_scatter(st_data, color=\"L5 IT\")\n",
    "plt.savefig(\n",
    "    f\"{base_path}/figures/single_celltype_{experiment_name}.png\",\n",
    "    dpi=200,\n",
    "    bbox_inches=\"tight\",\n",
    ")"
   ]
  },
  {
   "cell_type": "code",
   "execution_count": null,
   "metadata": {},
   "outputs": [],
   "source": [
    "st_data.obs[celltypes] = ensemble_result[celltypes]\n",
    "sq.pl.spatial_scatter(st_data, color=celltypes)"
   ]
  },
  {
   "attachments": {},
   "cell_type": "markdown",
   "metadata": {},
   "source": [
    "### Comparison between dissect runs for different seeds"
   ]
  },
  {
   "cell_type": "code",
   "execution_count": null,
   "metadata": {},
   "outputs": [],
   "source": [
    "all_corrs = []\n",
    "for df_1 in results_per_seed:\n",
    "    for df_2 in results_per_seed:\n",
    "        all_corrs.append(calc_mean_corr_df(df_1, df_2, verbose=1)[0])\n",
    "    # calc correlation\n",
    "all_corrs = np.reshape(all_corrs, (5, 5))"
   ]
  },
  {
   "cell_type": "code",
   "execution_count": null,
   "metadata": {},
   "outputs": [],
   "source": [
    "labels = [f\"Seed {i}\" for i in range(5)]"
   ]
  },
  {
   "cell_type": "code",
   "execution_count": null,
   "metadata": {},
   "outputs": [],
   "source": [
    "def heatmap(\n",
    "    data, row_labels, col_labels, ax=None, cbar_kw=None, cbarlabel=\"\", **kwargs\n",
    "):\n",
    "    \"\"\"\n",
    "    Create a heatmap from a numpy array and two lists of labels.\n",
    "\n",
    "    Parameters\n",
    "    ----------\n",
    "    data\n",
    "        A 2D numpy array of shape (M, N).\n",
    "    row_labels\n",
    "        A list or array of length M with the labels for the rows.\n",
    "    col_labels\n",
    "        A list or array of length N with the labels for the columns.\n",
    "    ax\n",
    "        A `matplotlib.axes.Axes` instance to which the heatmap is plotted.  If\n",
    "        not provided, use current axes or create a new one.  Optional.\n",
    "    cbar_kw\n",
    "        A dictionary with arguments to `matplotlib.Figure.colorbar`.  Optional.\n",
    "    cbarlabel\n",
    "        The label for the colorbar.  Optional.\n",
    "    **kwargs\n",
    "        All other arguments are forwarded to `imshow`.\n",
    "    \"\"\"\n",
    "\n",
    "    if ax is None:\n",
    "        ax = plt.gca()\n",
    "\n",
    "    if cbar_kw is None:\n",
    "        cbar_kw = {}\n",
    "\n",
    "    # Plot the heatmap\n",
    "    im = ax.imshow(data, **kwargs)\n",
    "\n",
    "    # Create colorbar\n",
    "    cbar = ax.figure.colorbar(im, ax=ax, **cbar_kw)\n",
    "    cbar.ax.set_ylabel(cbarlabel, rotation=-90, va=\"bottom\")\n",
    "\n",
    "    # Show all ticks and label them with the respective list entries.\n",
    "    ax.set_xticks(np.arange(data.shape[1]), labels=col_labels)\n",
    "    ax.set_yticks(np.arange(data.shape[0]), labels=row_labels)\n",
    "\n",
    "    # Let the horizontal axes labeling appear on top.\n",
    "    ax.tick_params(top=True, bottom=False, labeltop=True, labelbottom=False)\n",
    "\n",
    "    # Rotate the tick labels and set their alignment.\n",
    "    plt.setp(ax.get_xticklabels(), rotation=-30, ha=\"right\", rotation_mode=\"anchor\")\n",
    "\n",
    "    # Turn spines off and create white grid.\n",
    "    ax.spines[:].set_visible(False)\n",
    "\n",
    "    ax.set_xticks(np.arange(data.shape[1] + 1) - 0.5, minor=True)\n",
    "    ax.set_yticks(np.arange(data.shape[0] + 1) - 0.5, minor=True)\n",
    "    ax.grid(which=\"minor\", color=\"w\", linestyle=\"-\", linewidth=3)\n",
    "    ax.tick_params(which=\"minor\", bottom=False, left=False)\n",
    "\n",
    "    return im, cbar\n",
    "\n",
    "\n",
    "def annotate_heatmap(\n",
    "    im,\n",
    "    data=None,\n",
    "    valfmt=\"{x:.2f}\",\n",
    "    textcolors=(\"black\", \"white\"),\n",
    "    threshold=None,\n",
    "    **textkw\n",
    "):\n",
    "    \"\"\"\n",
    "    A function to annotate a heatmap.\n",
    "\n",
    "    Parameters\n",
    "    ----------\n",
    "    im\n",
    "        The AxesImage to be labeled.\n",
    "    data\n",
    "        Data used to annotate.  If None, the image's data is used.  Optional.\n",
    "    valfmt\n",
    "        The format of the annotations inside the heatmap.  This should either\n",
    "        use the string format method, e.g. \"$ {x:.2f}\", or be a\n",
    "        `matplotlib.ticker.Formatter`.  Optional.\n",
    "    textcolors\n",
    "        A pair of colors.  The first is used for values below a threshold,\n",
    "        the second for those above.  Optional.\n",
    "    threshold\n",
    "        Value in data units according to which the colors from textcolors are\n",
    "        applied.  If None (the default) uses the middle of the colormap as\n",
    "        separation.  Optional.\n",
    "    **kwargs\n",
    "        All other arguments are forwarded to each call to `text` used to create\n",
    "        the text labels.\n",
    "    \"\"\"\n",
    "\n",
    "    if not isinstance(data, (list, np.ndarray)):\n",
    "        data = im.get_array()\n",
    "\n",
    "    # Normalize the threshold to the images color range.\n",
    "    if threshold is not None:\n",
    "        threshold = im.norm(threshold)\n",
    "    else:\n",
    "        threshold = im.norm(data.max()) / 2.0\n",
    "\n",
    "    # Set default alignment to center, but allow it to be\n",
    "    # overwritten by textkw.\n",
    "    kw = dict(horizontalalignment=\"center\", verticalalignment=\"center\")\n",
    "    kw.update(textkw)\n",
    "\n",
    "    # Get the formatter in case a string is supplied\n",
    "    if isinstance(valfmt, str):\n",
    "        valfmt = matplotlib.ticker.StrMethodFormatter(valfmt)\n",
    "\n",
    "    # Loop over the data and create a `Text` for each \"pixel\".\n",
    "    # Change the text's color depending on the data.\n",
    "    texts = []\n",
    "    for i in range(data.shape[0]):\n",
    "        for j in range(data.shape[1]):\n",
    "            kw.update(color=textcolors[int(im.norm(data[i, j]) > threshold)])\n",
    "            text = im.axes.text(j, i, valfmt(data[i, j], None), **kw)\n",
    "            texts.append(text)\n",
    "\n",
    "    return texts"
   ]
  },
  {
   "cell_type": "code",
   "execution_count": null,
   "metadata": {},
   "outputs": [],
   "source": [
    "fig, ax = plt.subplots()\n",
    "\n",
    "im, cbar = heatmap(\n",
    "    all_corrs, labels, labels, ax=ax, cmap=\"Blues\", cbarlabel=\"Pearson correlation\"\n",
    ")\n",
    "texts = annotate_heatmap(im, valfmt=\"{x:.2f}\")\n",
    "ax.set_title(\"Correlation between seeded runs in original DISSECT\")\n",
    "\n",
    "fig.tight_layout()\n",
    "plt.savefig(\n",
    "    \"../figures/corr_heatmap_dissect_original.png\", dpi=200, bbox_inches=\"tight\"\n",
    ")\n",
    "plt.show()"
   ]
  },
  {
   "attachments": {},
   "cell_type": "markdown",
   "metadata": {},
   "source": [
    "### Comparison with new implementation"
   ]
  },
  {
   "cell_type": "code",
   "execution_count": null,
   "metadata": {},
   "outputs": [],
   "source": [
    "new_corrs = []\n",
    "for df in results_per_seed:\n",
    "    new_corrs.append(calc_mean_corr_df(df, new_result)[0])\n",
    "new_corrs = np.reshape(new_corrs, (5, 1))"
   ]
  },
  {
   "cell_type": "code",
   "execution_count": null,
   "metadata": {},
   "outputs": [],
   "source": [
    "fig, ax = plt.subplots()\n",
    "ax.boxplot(new_corrs)\n",
    "ax.set_xticklabels(\" \")\n",
    "ax.set_title(\"Mean correlation between seeded runs and new DISSECT\")\n",
    "fig.tight_layout()\n",
    "plt.savefig(\"../figures/corr_dissect_new_vs_old.png\", dpi=200, bbox_inches=\"tight\")\n",
    "plt.show()"
   ]
  },
  {
   "cell_type": "code",
   "execution_count": null,
   "metadata": {},
   "outputs": [],
   "source": [
    "print(np.mean(new_corrs))\n",
    "print(np.std(new_corrs))\n",
    "print(np.max(new_corrs))\n",
    "print(np.min(new_corrs))"
   ]
  },
  {
   "attachments": {},
   "cell_type": "markdown",
   "metadata": {},
   "source": [
    "## Compare per cell type"
   ]
  },
  {
   "cell_type": "code",
   "execution_count": null,
   "metadata": {},
   "outputs": [],
   "source": [
    "(\n",
    "    mean_corr,\n",
    "    corrs,\n",
    "    mean_corr_sample,\n",
    "    corrs_sample,\n",
    "    mean_rmse,\n",
    "    rmses,\n",
    "    mean_rmse_sample,\n",
    "    rmses_sample,\n",
    ") = calc_metrics_df(ensemble_result, y_real, verbose=1, exclude_cols=None)"
   ]
  },
  {
   "cell_type": "code",
   "execution_count": null,
   "metadata": {},
   "outputs": [],
   "source": [
    "# plot corrs per cell type\n",
    "fig, ax = plt.subplots()\n",
    "cell_types = y_real.columns\n",
    "ax.bar(cell_types, corrs)"
   ]
  },
  {
   "cell_type": "code",
   "execution_count": null,
   "metadata": {},
   "outputs": [],
   "source": [
    "for col in ensemble_result.columns:\n",
    "    st_data.obs[f\"{col} pred\"] = ensemble_result[col]"
   ]
  },
  {
   "cell_type": "code",
   "execution_count": null,
   "metadata": {},
   "outputs": [],
   "source": [
    "for col in ensemble_result.columns:\n",
    "    fig, axs = plt.subplots(1, 2, figsize=(10, 5))\n",
    "    sc.pl.spatial(st_data, color=col, ax=axs[0], show=False, cmap=\"Reds\")\n",
    "    sc.pl.spatial(st_data, color=f\"{col} pred\", ax=axs[1], cmap=\"Reds\")"
   ]
  },
  {
   "cell_type": "code",
   "execution_count": null,
   "metadata": {},
   "outputs": [],
   "source": [
    "for col in ensemble_result.columns:\n",
    "    st_data.obs[f\"{col} pred\"] = ensemble_result[col]"
   ]
  }
 ],
 "metadata": {
  "kernelspec": {
   "display_name": "dissect_spatial",
   "language": "python",
   "name": "python3"
  },
  "language_info": {
   "codemirror_mode": {
    "name": "ipython",
    "version": 3
   },
   "file_extension": ".py",
   "mimetype": "text/x-python",
   "name": "python",
   "nbconvert_exporter": "python",
   "pygments_lexer": "ipython3",
   "version": "3.8.16"
  },
  "orig_nbformat": 4,
  "vscode": {
   "interpreter": {
    "hash": "f49dfde4eb06c0a3671c2401bd6b6f73cacae937d3de5334273372658b299ab4"
   }
  }
 },
 "nbformat": 4,
 "nbformat_minor": 2
}
