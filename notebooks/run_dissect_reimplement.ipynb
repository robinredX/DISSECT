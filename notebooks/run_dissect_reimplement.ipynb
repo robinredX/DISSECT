{
 "cells": [
  {
   "cell_type": "code",
   "execution_count": 1,
   "metadata": {},
   "outputs": [],
   "source": [
    "%load_ext autoreload\n",
    "%autoreload 2"
   ]
  },
  {
   "cell_type": "code",
   "execution_count": 2,
   "metadata": {},
   "outputs": [],
   "source": [
    "import pyrootutils\n",
    "\n",
    "base_path = pyrootutils.setup_root(\n",
    "    search_from=\".\",\n",
    "    indicator=[\".gitignore\"],\n",
    "    project_root_env_var=True,  # set the PROJECT_ROOT environment variable to root directory\n",
    "    dotenv=True,  # load environment variables from .env if exists in root directory\n",
    "    pythonpath=True,  # add root directory to the PYTHONPATH (helps with imports)\n",
    "    cwd=True,  # change current working directory to the root directory (helps with filepaths)\n",
    ")\n",
    "import sys\n",
    "import pickle\n",
    "import scanpy as sc\n",
    "import squidpy as sq\n",
    "import matplotlib.pyplot as plt\n",
    "import numpy as np\n",
    "import torch\n",
    "import torch_geometric as pyg\n",
    "import pytorch_lightning as pl\n",
    "from pytorch_lightning.utilities.model_summary import ModelSummary\n",
    "from pytorch_lightning.loggers import WandbLogger\n",
    "from pytorch_lightning.callbacks import (\n",
    "    RichProgressBar,\n",
    "    TQDMProgressBar,\n",
    "    ModelCheckpoint,\n",
    ")\n",
    "import wandb\n",
    "import pandas as pd\n",
    "\n",
    "from src.data.datasets import *\n",
    "from src.data.datamodules import SpatialDataModule\n",
    "from src.data.graph_utils import check_radius\n",
    "from src.data.utils import (\n",
    "    load_celltypes,\n",
    "    load_sample_names,\n",
    "    load_prepared_data,\n",
    "    load_real_groundtruth,\n",
    ")\n",
    "from src.models.modules import DeconvolutionModel, ln_loss\n",
    "from src.models.gnn import DissectSpatial\n",
    "from src.models.dissect import Dissect\n",
    "from src.utils.utils import seed_everything\n",
    "\n",
    "\n",
    "from configs.main_config import config\n",
    "\n",
    "\n",
    "# ignore all warnings\n",
    "import warnings\n",
    "\n",
    "warnings.filterwarnings(\"ignore\")\n",
    "\n",
    "plt.rcParams[\"figure.dpi\"] = 80\n",
    "\n",
    "# set seeds\n",
    "seed_everything(seed=42)"
   ]
  },
  {
   "cell_type": "code",
   "execution_count": 3,
   "metadata": {},
   "outputs": [],
   "source": [
    "data_dir = f\"./data\"\n",
    "\n",
    "# experiment_dir = \"experiments/experiment_mouse_st\"\n",
    "# sc_data_dir = f\"{data_dir}/single-cell\"\n",
    "# sc_file_name = \"Allenbrain_forSimulation_uniquect.h5ad\"\n",
    "# st_data_dir = f\"{base_path}/data/spatial\"\n",
    "# st_file_name = \"V1_Mouse_Brain_Sagittal_Anterior.h5ad\"\n",
    "# radius = 0.02\n",
    "# st_file_name = \"puck_kidney_mus_normal.h5ad\"\n",
    "\n",
    "experiment_dir = \"experiments/experiment_kidney_slideSeq_v2_105\"\n",
    "st_data_dir = f\"{data_dir}/spatial/simulations_kidney_slideSeq_v2\"\n",
    "st_file_name = \"UMOD-KI.KI-4b_resolution105.h5ad\"\n",
    "sc_data_dir = f\"{data_dir}/spatial/kidney_slideSeq_v2\"\n",
    "sc_file_name = \"UMOD-KI.KI-4b.h5ad\""
   ]
  },
  {
   "cell_type": "code",
   "execution_count": 4,
   "metadata": {},
   "outputs": [],
   "source": [
    "sc_data = sc.read_h5ad(f\"{sc_data_dir}/{sc_file_name}\")\n",
    "st_data = sc.read_h5ad(f\"{st_data_dir}/{st_file_name}\")\n",
    "X_real, X_real_train, X_sim, y_sim = load_prepared_data(experiment_dir)\n",
    "y_real = st_data.obs[st_data.obs.columns[2::]].to_numpy()"
   ]
  },
  {
   "cell_type": "code",
   "execution_count": 5,
   "metadata": {},
   "outputs": [],
   "source": [
    "seed_everything(seed=42)\n",
    "train_data = prepare_dataset(X_real_train, X_sim, y_sim, y_real=y_real, st_data=st_data)\n",
    "test_data = prepare_dataset(X_real, X_sim, y_sim, y_real=y_real, st_data=st_data)\n",
    "\n",
    "train_loader = DataLoader(\n",
    "    train_data,\n",
    "    batch_size=64,\n",
    "    shuffle=True,\n",
    "    pin_memory=True,\n",
    "    num_workers=0,\n",
    "    drop_last=True,\n",
    ")\n",
    "\n",
    "test_loader = DataLoader(\n",
    "    test_data, batch_size=3000, shuffle=False, pin_memory=True, num_workers=0\n",
    ")"
   ]
  },
  {
   "cell_type": "code",
   "execution_count": 6,
   "metadata": {},
   "outputs": [],
   "source": [
    "# batch = next(iter(train_loader))"
   ]
  },
  {
   "cell_type": "code",
   "execution_count": 7,
   "metadata": {},
   "outputs": [],
   "source": [
    "# setup callbacks\n",
    "checkpoint_callback = ModelCheckpoint(\n",
    "    monitor=\"train/total_loss\", mode=\"min\", save_last=True, dirpath=\"checkpoints\"\n",
    ")\n",
    "# add another callback for plotting all stuff requires original celltype and sample names\n",
    "# load cell types\n",
    "celltype_names = load_celltypes(f\"{experiment_dir}/datasets/celltypes.txt\")\n",
    "\n",
    "# load sample names\n",
    "sample_names = load_sample_names(f\"{experiment_dir}/datasets/sample_names.txt\")"
   ]
  },
  {
   "cell_type": "code",
   "execution_count": 8,
   "metadata": {},
   "outputs": [],
   "source": [
    "net = Dissect(\n",
    "    num_genes=X_real.shape[1],\n",
    "    num_celltypes=y_sim.shape[1],\n",
    "    use_pos=True,\n",
    ")\n",
    "\n",
    "model = DeconvolutionModel(\n",
    "    net,\n",
    "    # l1_lambda=0.0,\n",
    "    # l2_lambda=0.0,\n",
    "    sim_loss_fn=\"kl_div\",\n",
    "    spatial_data=st_data,\n",
    "    celltype_names=celltype_names,\n",
    "    sample_names=sample_names,\n",
    "    beta=None,\n",
    "    alpha_max=0.1,\n",
    "    alpha_min=0.1,\n",
    ")"
   ]
  },
  {
   "cell_type": "code",
   "execution_count": 9,
   "metadata": {},
   "outputs": [
    {
     "name": "stderr",
     "output_type": "stream",
     "text": [
      "Failed to detect the name of this notebook, you can set it manually with the WANDB_NOTEBOOK_NAME environment variable to enable code saving.\n",
      "\u001b[34m\u001b[1mwandb\u001b[0m: Currently logged in as: \u001b[33mdschaub\u001b[0m. Use \u001b[1m`wandb login --relogin`\u001b[0m to force relogin\n"
     ]
    },
    {
     "data": {
      "text/html": [
       "Tracking run with wandb version 0.13.11"
      ],
      "text/plain": [
       "<IPython.core.display.HTML object>"
      ]
     },
     "metadata": {},
     "output_type": "display_data"
    },
    {
     "data": {
      "text/html": [
       "Run data is saved locally in <code>./wandb/run-20230313_161104-svy882zx</code>"
      ],
      "text/plain": [
       "<IPython.core.display.HTML object>"
      ]
     },
     "metadata": {},
     "output_type": "display_data"
    },
    {
     "data": {
      "text/html": [
       "Syncing run <strong><a href='https://wandb.ai/dschaub/dissect-spatial/runs/svy882zx' target=\"_blank\">pleasant-cherry-114</a></strong> to <a href='https://wandb.ai/dschaub/dissect-spatial' target=\"_blank\">Weights & Biases</a> (<a href='https://wandb.me/run' target=\"_blank\">docs</a>)<br/>"
      ],
      "text/plain": [
       "<IPython.core.display.HTML object>"
      ]
     },
     "metadata": {},
     "output_type": "display_data"
    },
    {
     "data": {
      "text/html": [
       " View project at <a href='https://wandb.ai/dschaub/dissect-spatial' target=\"_blank\">https://wandb.ai/dschaub/dissect-spatial</a>"
      ],
      "text/plain": [
       "<IPython.core.display.HTML object>"
      ]
     },
     "metadata": {},
     "output_type": "display_data"
    },
    {
     "data": {
      "text/html": [
       " View run at <a href='https://wandb.ai/dschaub/dissect-spatial/runs/svy882zx' target=\"_blank\">https://wandb.ai/dschaub/dissect-spatial/runs/svy882zx</a>"
      ],
      "text/plain": [
       "<IPython.core.display.HTML object>"
      ]
     },
     "metadata": {},
     "output_type": "display_data"
    },
    {
     "name": "stderr",
     "output_type": "stream",
     "text": [
      "GPU available: True (cuda), used: True\n",
      "TPU available: False, using: 0 TPU cores\n",
      "IPU available: False, using: 0 IPUs\n",
      "HPU available: False, using: 0 HPUs\n",
      "`Trainer(limit_train_batches=1)` was configured so 1 batch per epoch will be used.\n",
      "LOCAL_RANK: 0 - CUDA_VISIBLE_DEVICES: [0,1,2,3,4,5,6,7]\n",
      "\n",
      "  | Name | Type    | Params\n",
      "---------------------------------\n",
      "0 | net  | Dissect | 4.0 M \n",
      "---------------------------------\n",
      "4.0 M     Trainable params\n",
      "0         Non-trainable params\n",
      "4.0 M     Total params\n",
      "16.028    Total estimated model params size (MB)\n",
      "`Trainer.fit` stopped: `max_epochs=5000` reached.\n"
     ]
    },
    {
     "data": {
      "text/html": [
       "Waiting for W&B process to finish... <strong style=\"color:green\">(success).</strong>"
      ],
      "text/plain": [
       "<IPython.core.display.HTML object>"
      ]
     },
     "metadata": {},
     "output_type": "display_data"
    },
    {
     "data": {
      "text/html": [
       "<style>\n",
       "    table.wandb td:nth-child(1) { padding: 0 10px; text-align: left ; width: auto;} td:nth-child(2) {text-align: left ; width: 100%}\n",
       "    .wandb-row { display: flex; flex-direction: row; flex-wrap: wrap; justify-content: flex-start; width: 100% }\n",
       "    .wandb-col { display: flex; flex-direction: column; flex-basis: 100%; flex: 1; padding: 10px; }\n",
       "    </style>\n",
       "<div class=\"wandb-row\"><div class=\"wandb-col\"><h3>Run history:</h3><br/><table class=\"wandb\"><tr><td>epoch</td><td>▁▁▁▁▂▂▂▂▂▃▃▃▃▃▃▄▄▄▄▄▅▅▅▅▅▅▆▆▆▆▆▇▇▇▇▇▇███</td></tr><tr><td>train/beta</td><td>▁▁▁▁▁▁▁▁▁▁▁▁▁▁▁▁████████████████▆▆▆▆▆▆▆▆</td></tr><tr><td>train/l1_loss</td><td>███▇▇▇▆▆▆▆▆▅▅▅▅▅▄▄▄▄▄▄▄▃▃▃▃▃▃▂▂▂▂▂▂▂▁▁▁▁</td></tr><tr><td>train/l2_loss</td><td>███▇▇▇▇▆▆▆▆▆▅▅▅▅▅▄▄▄▄▄▄▃▃▃▃▃▃▂▂▂▂▂▂▂▁▁▁▁</td></tr><tr><td>train/mix_loss</td><td>▁▁▂▂▂▄▃▄▄▆▇▇▇█▇█▆▅▆█▆▇▆▅▆▅▅▆▇▇▅▆▅▆▆▆▇█▅▇</td></tr><tr><td>train/sim_loss</td><td>█▇▆▆▅▅▅▄▄▃▃▃▃▃▃▃▂▂▂▂▂▂▂▂▂▂▂▂▂▂▁▁▁▁▁▁▁▁▁▁</td></tr><tr><td>train/total_loss</td><td>█▇▆▆▅▅▅▄▄▄▃▃▃▃▃▃▃▂▃▂▂▂▂▂▂▂▂▂▂▂▂▁▁▁▁▁▁▁▁▁</td></tr><tr><td>trainer/global_step</td><td>▁▁▁▁▂▂▂▂▂▃▃▃▃▃▃▄▄▄▄▄▅▅▅▅▅▅▆▆▆▆▆▇▇▇▇▇▇███</td></tr><tr><td>validation/mean_corr</td><td>▁▅▆▇▇▇████</td></tr><tr><td>validation/mean_rmse</td><td>█▄▃▂▁▂▁▁▁▁</td></tr></table><br/></div><div class=\"wandb-col\"><h3>Run summary:</h3><br/><table class=\"wandb\"><tr><td>epoch</td><td>4999</td></tr><tr><td>train/beta</td><td>10.0</td></tr><tr><td>train/l1_loss</td><td>0.54035</td></tr><tr><td>train/l2_loss</td><td>0.01353</td></tr><tr><td>train/mix_loss</td><td>0.00119</td></tr><tr><td>train/sim_loss</td><td>0.2632</td></tr><tr><td>train/total_loss</td><td>0.82898</td></tr><tr><td>trainer/global_step</td><td>4999</td></tr><tr><td>validation/mean_corr</td><td>0.7055</td></tr><tr><td>validation/mean_rmse</td><td>0.08214</td></tr></table><br/></div></div>"
      ],
      "text/plain": [
       "<IPython.core.display.HTML object>"
      ]
     },
     "metadata": {},
     "output_type": "display_data"
    },
    {
     "data": {
      "text/html": [
       " View run <strong style=\"color:#cdcd00\">pleasant-cherry-114</strong> at: <a href='https://wandb.ai/dschaub/dissect-spatial/runs/svy882zx' target=\"_blank\">https://wandb.ai/dschaub/dissect-spatial/runs/svy882zx</a><br/>Synced 6 W&B file(s), 22 media file(s), 12 artifact file(s) and 0 other file(s)"
      ],
      "text/plain": [
       "<IPython.core.display.HTML object>"
      ]
     },
     "metadata": {},
     "output_type": "display_data"
    },
    {
     "data": {
      "text/html": [
       "Find logs at: <code>./wandb/run-20230313_161104-svy882zx/logs</code>"
      ],
      "text/plain": [
       "<IPython.core.display.HTML object>"
      ]
     },
     "metadata": {},
     "output_type": "display_data"
    }
   ],
   "source": [
    "wandb.finish()\n",
    "wandb_mode = \"online\"\n",
    "# wandb_mode = \"disabled\"\n",
    "wandb_logger = WandbLogger(project=\"dissect-spatial\", log_model=True, mode=wandb_mode)\n",
    "\n",
    "# training\n",
    "trainer = pl.Trainer(\n",
    "    max_epochs=5000,\n",
    "    max_steps=-1,\n",
    "    accelerator=\"gpu\",\n",
    "    limit_train_batches=1,\n",
    "    log_every_n_steps=1,\n",
    "    check_val_every_n_epoch=500,\n",
    "    devices=[7],\n",
    "    precision=32,\n",
    "    logger=wandb_logger,\n",
    "    deterministic=\"warn\",\n",
    "    enable_checkpointing=True,\n",
    "    # fast_dev_run=True,\n",
    "    # profiler=\"simple\",\n",
    "    enable_progress_bar=False,\n",
    "    callbacks=[checkpoint_callback],\n",
    ")\n",
    "trainer.fit(model, train_dataloaders=train_loader, val_dataloaders=test_loader)\n",
    "wandb.finish()"
   ]
  }
 ],
 "metadata": {
  "kernelspec": {
   "display_name": "dissect_spatial",
   "language": "python",
   "name": "python3"
  },
  "language_info": {
   "codemirror_mode": {
    "name": "ipython",
    "version": 3
   },
   "file_extension": ".py",
   "mimetype": "text/x-python",
   "name": "python",
   "nbconvert_exporter": "python",
   "pygments_lexer": "ipython3",
   "version": "3.8.16"
  },
  "orig_nbformat": 4
 },
 "nbformat": 4,
 "nbformat_minor": 2
}
