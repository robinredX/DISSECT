{
 "cells": [
  {
   "cell_type": "code",
   "execution_count": 1,
   "metadata": {},
   "outputs": [],
   "source": [
    "%load_ext autoreload\n",
    "%autoreload 2"
   ]
  },
  {
   "cell_type": "code",
   "execution_count": 20,
   "metadata": {},
   "outputs": [],
   "source": [
    "import sys\n",
    "base_path = \"..\"\n",
    "sys.path.append(f\"{base_path}\")\n",
    "import pandas as pd\n",
    "import scanpy as sc\n",
    "import squidpy as sq\n",
    "import matplotlib.pyplot as plt\n",
    "import seaborn as sns\n",
    "import matplotlib\n",
    "import matplotlib as mpl\n",
    "from itertools import combinations\n",
    "\n",
    "from utils.gnn_utils import *\n",
    "from utils.utils import *"
   ]
  },
  {
   "cell_type": "code",
   "execution_count": 3,
   "metadata": {},
   "outputs": [],
   "source": [
    "experiment_dir = f\"{base_path}/experiments\"\n",
    "experiment_name = \"experiment_bulk_real\"\n",
    "experiment_path = f\"{experiment_dir}/{experiment_name}\"\n"
   ]
  },
  {
   "cell_type": "code",
   "execution_count": 8,
   "metadata": {},
   "outputs": [],
   "source": [
    "# load sample names and celltype names\n",
    "celltypes = load_celltypes(f\"{experiment_path}/datasets/celltypes.txt\")\n",
    "sample_names = load_sample_names(f\"{experiment_path}/datasets/sample_names.txt\")"
   ]
  },
  {
   "cell_type": "code",
   "execution_count": 6,
   "metadata": {},
   "outputs": [
    {
     "data": {
      "text/html": [
       "<div>\n",
       "<style scoped>\n",
       "    .dataframe tbody tr th:only-of-type {\n",
       "        vertical-align: middle;\n",
       "    }\n",
       "\n",
       "    .dataframe tbody tr th {\n",
       "        vertical-align: top;\n",
       "    }\n",
       "\n",
       "    .dataframe thead th {\n",
       "        text-align: right;\n",
       "    }\n",
       "</style>\n",
       "<table border=\"1\" class=\"dataframe\">\n",
       "  <thead>\n",
       "    <tr style=\"text-align: right;\">\n",
       "      <th></th>\n",
       "      <th>Monocytes</th>\n",
       "      <th>Bcells</th>\n",
       "      <th>CD4Tcells</th>\n",
       "      <th>NK</th>\n",
       "      <th>CD8Tcells</th>\n",
       "      <th>Unknown</th>\n",
       "    </tr>\n",
       "    <tr>\n",
       "      <th>Sample Name</th>\n",
       "      <th></th>\n",
       "      <th></th>\n",
       "      <th></th>\n",
       "      <th></th>\n",
       "      <th></th>\n",
       "      <th></th>\n",
       "    </tr>\n",
       "  </thead>\n",
       "  <tbody>\n",
       "    <tr>\n",
       "      <th>GSM3401977</th>\n",
       "      <td>0.172534</td>\n",
       "      <td>0.018500</td>\n",
       "      <td>0.227708</td>\n",
       "      <td>0.204966</td>\n",
       "      <td>0.247036</td>\n",
       "      <td>0.129256</td>\n",
       "    </tr>\n",
       "    <tr>\n",
       "      <th>GSM3402008</th>\n",
       "      <td>0.115657</td>\n",
       "      <td>0.118000</td>\n",
       "      <td>0.424474</td>\n",
       "      <td>0.020343</td>\n",
       "      <td>0.252148</td>\n",
       "      <td>0.069378</td>\n",
       "    </tr>\n",
       "    <tr>\n",
       "      <th>GSM3402021</th>\n",
       "      <td>0.146797</td>\n",
       "      <td>0.026500</td>\n",
       "      <td>0.372364</td>\n",
       "      <td>0.093703</td>\n",
       "      <td>0.230895</td>\n",
       "      <td>0.129741</td>\n",
       "    </tr>\n",
       "    <tr>\n",
       "      <th>GSM3401914</th>\n",
       "      <td>0.152514</td>\n",
       "      <td>0.067924</td>\n",
       "      <td>0.336056</td>\n",
       "      <td>0.124614</td>\n",
       "      <td>0.244128</td>\n",
       "      <td>0.074765</td>\n",
       "    </tr>\n",
       "    <tr>\n",
       "      <th>GSM3401898</th>\n",
       "      <td>0.112720</td>\n",
       "      <td>0.060200</td>\n",
       "      <td>0.355509</td>\n",
       "      <td>0.200080</td>\n",
       "      <td>0.201267</td>\n",
       "      <td>0.070224</td>\n",
       "    </tr>\n",
       "    <tr>\n",
       "      <th>...</th>\n",
       "      <td>...</td>\n",
       "      <td>...</td>\n",
       "      <td>...</td>\n",
       "      <td>...</td>\n",
       "      <td>...</td>\n",
       "      <td>...</td>\n",
       "    </tr>\n",
       "    <tr>\n",
       "      <th>GSM3402044</th>\n",
       "      <td>0.038977</td>\n",
       "      <td>0.041500</td>\n",
       "      <td>0.406614</td>\n",
       "      <td>0.117523</td>\n",
       "      <td>0.341652</td>\n",
       "      <td>0.053734</td>\n",
       "    </tr>\n",
       "    <tr>\n",
       "      <th>GSM3401820</th>\n",
       "      <td>0.187896</td>\n",
       "      <td>0.141000</td>\n",
       "      <td>0.368804</td>\n",
       "      <td>0.123104</td>\n",
       "      <td>0.141384</td>\n",
       "      <td>0.037812</td>\n",
       "    </tr>\n",
       "    <tr>\n",
       "      <th>GSM3401832</th>\n",
       "      <td>0.043924</td>\n",
       "      <td>0.035500</td>\n",
       "      <td>0.394400</td>\n",
       "      <td>0.120576</td>\n",
       "      <td>0.363200</td>\n",
       "      <td>0.042400</td>\n",
       "    </tr>\n",
       "    <tr>\n",
       "      <th>GSM3402056</th>\n",
       "      <td>0.113919</td>\n",
       "      <td>0.056300</td>\n",
       "      <td>0.515508</td>\n",
       "      <td>0.031781</td>\n",
       "      <td>0.209874</td>\n",
       "      <td>0.072618</td>\n",
       "    </tr>\n",
       "    <tr>\n",
       "      <th>GSM3401901</th>\n",
       "      <td>0.069697</td>\n",
       "      <td>0.042000</td>\n",
       "      <td>0.439674</td>\n",
       "      <td>0.126303</td>\n",
       "      <td>0.266700</td>\n",
       "      <td>0.055626</td>\n",
       "    </tr>\n",
       "  </tbody>\n",
       "</table>\n",
       "<p>250 rows × 6 columns</p>\n",
       "</div>"
      ],
      "text/plain": [
       "             Monocytes    Bcells  CD4Tcells        NK  CD8Tcells   Unknown\n",
       "Sample Name                                                               \n",
       "GSM3401977    0.172534  0.018500   0.227708  0.204966   0.247036  0.129256\n",
       "GSM3402008    0.115657  0.118000   0.424474  0.020343   0.252148  0.069378\n",
       "GSM3402021    0.146797  0.026500   0.372364  0.093703   0.230895  0.129741\n",
       "GSM3401914    0.152514  0.067924   0.336056  0.124614   0.244128  0.074765\n",
       "GSM3401898    0.112720  0.060200   0.355509  0.200080   0.201267  0.070224\n",
       "...                ...       ...        ...       ...        ...       ...\n",
       "GSM3402044    0.038977  0.041500   0.406614  0.117523   0.341652  0.053734\n",
       "GSM3401820    0.187896  0.141000   0.368804  0.123104   0.141384  0.037812\n",
       "GSM3401832    0.043924  0.035500   0.394400  0.120576   0.363200  0.042400\n",
       "GSM3402056    0.113919  0.056300   0.515508  0.031781   0.209874  0.072618\n",
       "GSM3401901    0.069697  0.042000   0.439674  0.126303   0.266700  0.055626\n",
       "\n",
       "[250 rows x 6 columns]"
      ]
     },
     "execution_count": 6,
     "metadata": {},
     "output_type": "execute_result"
    }
   ],
   "source": [
    "_, ground_truth = load_real_groundtruth(f\"{base_path}/data/bulk/gt_GSE120502.txt\")\n",
    "ground_truth"
   ]
  },
  {
   "attachments": {},
   "cell_type": "markdown",
   "metadata": {},
   "source": [
    "## Load original DISSECT results"
   ]
  },
  {
   "cell_type": "code",
   "execution_count": 9,
   "metadata": {},
   "outputs": [],
   "source": [
    "# load celltype abundance data\n",
    "results_per_seed = []\n",
    "for i in range(5):\n",
    "    df = pd.read_csv(\n",
    "        f\"{experiment_path}/dissect_fractions_{i}.txt\", index_col=0, delimiter=\"\\t\"\n",
    "    )\n",
    "    results_per_seed.append(df)\n",
    "ensemble_result = pd.read_csv(\n",
    "    f\"{experiment_path}/dissect_fractions_ens.txt\", index_col=0, delimiter=\"\\t\"\n",
    ")\n"
   ]
  },
  {
   "cell_type": "code",
   "execution_count": 26,
   "metadata": {},
   "outputs": [
    {
     "name": "stdout",
     "output_type": "stream",
     "text": [
      "Mean Correlation: 0.599969257974604\n",
      "Mean RMSE: 0.06578640927676517\n",
      "Mean Correlation: 0.6079319596168885\n",
      "Mean RMSE: 0.061998815784270224\n",
      "Mean Correlation: 0.5843566012040636\n",
      "Mean RMSE: 0.06132513785485935\n",
      "Mean Correlation: 0.5873467863667244\n",
      "Mean RMSE: 0.07663924970775139\n",
      "Mean Correlation: 0.6062475675056218\n",
      "Mean RMSE: 0.06233225218137493\n"
     ]
    }
   ],
   "source": [
    "for result in results_per_seed:\n",
    "    mean_corr, corrs = calc_mean_corr_df(result, ground_truth, verbose=1)\n",
    "    mean_rmse, rmses = calc_mean_rmse_df(result, ground_truth, verbose=1)"
   ]
  },
  {
   "cell_type": "code",
   "execution_count": 27,
   "metadata": {},
   "outputs": [
    {
     "name": "stdout",
     "output_type": "stream",
     "text": [
      "Mean Correlation: 0.9718482539234184\n",
      "Mean RMSE: 0.02017337821453\n",
      "Mean Correlation: 0.9723171249949826\n",
      "Mean RMSE: 0.018469918602832543\n",
      "Mean Correlation: 0.9666911155147012\n",
      "Mean RMSE: 0.021136765921223627\n",
      "Mean Correlation: 0.963883326906141\n",
      "Mean RMSE: 0.04273654112826939\n",
      "Mean Correlation: 0.9826604691698214\n",
      "Mean RMSE: 0.01269422266066248\n",
      "Mean Correlation: 0.9740625734899374\n",
      "Mean RMSE: 0.027248389380687906\n",
      "Mean Correlation: 0.9807202771845641\n",
      "Mean RMSE: 0.0341049124566537\n",
      "Mean Correlation: 0.9759483147185573\n",
      "Mean RMSE: 0.030254317227404303\n",
      "Mean Correlation: 0.9769398682647311\n",
      "Mean RMSE: 0.03358839648121536\n",
      "Mean Correlation: 0.9611967457916363\n",
      "Mean RMSE: 0.050522549445438665\n"
     ]
    }
   ],
   "source": [
    "# compare each against each other and put into boxplot\n",
    "\n",
    "for df_1, df_2 in combinations(results_per_seed, 2):\n",
    "    mean_corr, corrs = calc_mean_corr_df(df_1, df_2, verbose=1)\n",
    "    mean_rmse, rmses = calc_mean_rmse_df(df_1, df_2, verbose=1)"
   ]
  },
  {
   "attachments": {},
   "cell_type": "markdown",
   "metadata": {},
   "source": [
    "## Load new results"
   ]
  },
  {
   "cell_type": "code",
   "execution_count": 17,
   "metadata": {},
   "outputs": [],
   "source": [
    "new_result = pd.read_csv(f\"{experiment_path}/new_predictions.csv\", index_col=0)"
   ]
  },
  {
   "attachments": {},
   "cell_type": "markdown",
   "metadata": {},
   "source": [
    "## Compare results"
   ]
  },
  {
   "cell_type": "code",
   "execution_count": 28,
   "metadata": {},
   "outputs": [
    {
     "name": "stdout",
     "output_type": "stream",
     "text": [
      "Mean Correlation: 0.9627104122432448\n",
      "Mean RMSE: 0.027876113220465387\n",
      "Mean Correlation: 0.9670835593110171\n",
      "Mean RMSE: 0.03280566539140289\n",
      "Mean Correlation: 0.9638880790674174\n",
      "Mean RMSE: 0.03516558608010623\n",
      "Mean Correlation: 0.9621909629943692\n",
      "Mean RMSE: 0.02355888606585883\n",
      "Mean Correlation: 0.9576354922712352\n",
      "Mean RMSE: 0.04256051354083721\n"
     ]
    }
   ],
   "source": [
    "\n",
    "for result in results_per_seed:\n",
    "    mean_corr, corrs = calc_mean_corr_df(result, new_result, verbose=1)\n",
    "    mean_rmse, rmses = calc_mean_rmse_df(result, new_result, verbose=1)"
   ]
  },
  {
   "cell_type": "code",
   "execution_count": 41,
   "metadata": {},
   "outputs": [
    {
     "name": "stdout",
     "output_type": "stream",
     "text": [
      "Mean Correlation: 0.6059357034755309\n",
      "Mean RMSE: 0.07676738366400154\n",
      "Mean Correlation: 0.6026500259299641\n",
      "Mean RMSE: 0.06275806971691952\n"
     ]
    }
   ],
   "source": [
    "mean_corr, gt_corrs_new = calc_mean_corr_df(new_result, ground_truth, verbose=1)\n",
    "mean_rmse, gt_rmses_new = calc_mean_rmse_df(new_result, ground_truth, verbose=1)\n",
    "\n",
    "mean_corr, gt_corrs_old = calc_mean_corr_df(ensemble_result, ground_truth, verbose=1)\n",
    "mean_rmse, gt_rmses_old = calc_mean_rmse_df(ensemble_result, ground_truth, verbose=1)"
   ]
  },
  {
   "cell_type": "code",
   "execution_count": 63,
   "metadata": {},
   "outputs": [
    {
     "data": {
      "image/png": "[encoded data removed]",
      "text/plain": [
       "<Figure size 500x600 with 1 Axes>"
      ]
     },
     "metadata": {},
     "output_type": "display_data"
    }
   ],
   "source": [
    "# plot results\n",
    "fig, ax = plt.subplots(1, 1, figsize=(5, 6))\n",
    "corr_data = [gt_corrs_old, gt_corrs_new]\n",
    "corr_data = pd.DataFrame(corr_data)\n",
    "corr_data.columns = ground_truth.columns\n",
    "corr_data[\"version\"] = [\"old\", \"new\"]\n",
    "corr_data = corr_data.melt(id_vars=\"version\", var_name=\"celltype\", value_name=\"Correlation\")\n",
    "corr_data\n",
    "sns.barplot(data=corr_data, x=\"celltype\", y=\"Correlation\", ax=ax, hue=\"version\")\n",
    "ax.set_title(\"Mean correlation with ground truth per celltype\")\n",
    "plt.savefig(f\"{base_path}/figures/mean_corr_bulk.png\", dpi=300, bbox_inches=\"tight\")"
   ]
  },
  {
   "cell_type": "code",
   "execution_count": 64,
   "metadata": {},
   "outputs": [
    {
     "data": {
      "image/png": "[encoded data removed]",
      "text/plain": [
       "<Figure size 500x600 with 1 Axes>"
      ]
     },
     "metadata": {},
     "output_type": "display_data"
    }
   ],
   "source": [
    "# plot results\n",
    "fig, ax = plt.subplots(1, 1, figsize=(5, 6))\n",
    "rmse_data = [gt_rmses_old, gt_rmses_new]\n",
    "rmse_data = pd.DataFrame(rmse_data)\n",
    "rmse_data.columns = ground_truth.columns\n",
    "rmse_data[\"version\"] = [\"old\", \"new\"]\n",
    "rmse_data = rmse_data.melt(id_vars=\"version\", var_name=\"celltype\", value_name=\"RMSE\")\n",
    "rmse_data\n",
    "sns.barplot(data=rmse_data, x=\"celltype\", y=\"RMSE\", ax=ax, hue=\"version\")\n",
    "ax.set_title(\"Mean RMSE with ground truth per celltype\")\n",
    "plt.savefig(f\"{base_path}/figures/mean_rmse_bulk.png\", dpi=300, bbox_inches=\"tight\")"
   ]
  }
 ],
 "metadata": {
  "kernelspec": {
   "display_name": "dissect_spatial",
   "language": "python",
   "name": "python3"
  },
  "language_info": {
   "codemirror_mode": {
    "name": "ipython",
    "version": 3
   },
   "file_extension": ".py",
   "mimetype": "text/x-python",
   "name": "python",
   "nbconvert_exporter": "python",
   "pygments_lexer": "ipython3",
   "version": "3.8.16"
  },
  "orig_nbformat": 4,
  "vscode": {
   "interpreter": {
    "hash": "f49dfde4eb06c0a3671c2401bd6b6f73cacae937d3de5334273372658b299ab4"
   }
  }
 },
 "nbformat": 4,
 "nbformat_minor": 2
}
